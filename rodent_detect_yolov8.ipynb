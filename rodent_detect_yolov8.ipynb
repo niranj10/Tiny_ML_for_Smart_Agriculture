{
  "nbformat": 4,
  "nbformat_minor": 0,
  "metadata": {
    "colab": {
      "provenance": [],
      "gpuType": "T4"
    },
    "kernelspec": {
      "name": "python3",
      "display_name": "Python 3"
    },
    "language_info": {
      "name": "python"
    },
    "accelerator": "GPU"
  },
  "cells": [
    {
      "cell_type": "code",
      "execution_count": 2,
      "metadata": {
        "colab": {
          "base_uri": "https://localhost:8080/"
        },
        "id": "lu6iffwGZrXb",
        "outputId": "3eb6939a-9b22-4b86-84ac-fdaa82af80b5"
      },
      "outputs": [
        {
          "output_type": "stream",
          "name": "stdout",
          "text": [
            "Requirement already satisfied: torch in /usr/local/lib/python3.10/dist-packages (2.3.1+cu121)\n",
            "Requirement already satisfied: torchvision in /usr/local/lib/python3.10/dist-packages (0.18.1+cu121)\n",
            "Requirement already satisfied: torchaudio in /usr/local/lib/python3.10/dist-packages (2.3.1+cu121)\n",
            "Requirement already satisfied: filelock in /usr/local/lib/python3.10/dist-packages (from torch) (3.15.4)\n",
            "Requirement already satisfied: typing-extensions>=4.8.0 in /usr/local/lib/python3.10/dist-packages (from torch) (4.12.2)\n",
            "Requirement already satisfied: sympy in /usr/local/lib/python3.10/dist-packages (from torch) (1.13.1)\n",
            "Requirement already satisfied: networkx in /usr/local/lib/python3.10/dist-packages (from torch) (3.3)\n",
            "Requirement already satisfied: jinja2 in /usr/local/lib/python3.10/dist-packages (from torch) (3.1.4)\n",
            "Requirement already satisfied: fsspec in /usr/local/lib/python3.10/dist-packages (from torch) (2024.6.1)\n",
            "Collecting nvidia-cuda-nvrtc-cu12==12.1.105 (from torch)\n",
            "  Using cached nvidia_cuda_nvrtc_cu12-12.1.105-py3-none-manylinux1_x86_64.whl.metadata (1.5 kB)\n",
            "Collecting nvidia-cuda-runtime-cu12==12.1.105 (from torch)\n",
            "  Using cached nvidia_cuda_runtime_cu12-12.1.105-py3-none-manylinux1_x86_64.whl.metadata (1.5 kB)\n",
            "Collecting nvidia-cuda-cupti-cu12==12.1.105 (from torch)\n",
            "  Using cached nvidia_cuda_cupti_cu12-12.1.105-py3-none-manylinux1_x86_64.whl.metadata (1.6 kB)\n",
            "Collecting nvidia-cudnn-cu12==8.9.2.26 (from torch)\n",
            "  Using cached nvidia_cudnn_cu12-8.9.2.26-py3-none-manylinux1_x86_64.whl.metadata (1.6 kB)\n",
            "Collecting nvidia-cublas-cu12==12.1.3.1 (from torch)\n",
            "  Using cached nvidia_cublas_cu12-12.1.3.1-py3-none-manylinux1_x86_64.whl.metadata (1.5 kB)\n",
            "Collecting nvidia-cufft-cu12==11.0.2.54 (from torch)\n",
            "  Using cached nvidia_cufft_cu12-11.0.2.54-py3-none-manylinux1_x86_64.whl.metadata (1.5 kB)\n",
            "Collecting nvidia-curand-cu12==10.3.2.106 (from torch)\n",
            "  Using cached nvidia_curand_cu12-10.3.2.106-py3-none-manylinux1_x86_64.whl.metadata (1.5 kB)\n",
            "Collecting nvidia-cusolver-cu12==11.4.5.107 (from torch)\n",
            "  Using cached nvidia_cusolver_cu12-11.4.5.107-py3-none-manylinux1_x86_64.whl.metadata (1.6 kB)\n",
            "Collecting nvidia-cusparse-cu12==12.1.0.106 (from torch)\n",
            "  Using cached nvidia_cusparse_cu12-12.1.0.106-py3-none-manylinux1_x86_64.whl.metadata (1.6 kB)\n",
            "Collecting nvidia-nccl-cu12==2.20.5 (from torch)\n",
            "  Using cached nvidia_nccl_cu12-2.20.5-py3-none-manylinux2014_x86_64.whl.metadata (1.8 kB)\n",
            "Collecting nvidia-nvtx-cu12==12.1.105 (from torch)\n",
            "  Using cached nvidia_nvtx_cu12-12.1.105-py3-none-manylinux1_x86_64.whl.metadata (1.7 kB)\n",
            "Requirement already satisfied: triton==2.3.1 in /usr/local/lib/python3.10/dist-packages (from torch) (2.3.1)\n",
            "Collecting nvidia-nvjitlink-cu12 (from nvidia-cusolver-cu12==11.4.5.107->torch)\n",
            "  Using cached nvidia_nvjitlink_cu12-12.6.20-py3-none-manylinux2014_x86_64.whl.metadata (1.5 kB)\n",
            "Requirement already satisfied: numpy in /usr/local/lib/python3.10/dist-packages (from torchvision) (1.26.4)\n",
            "Requirement already satisfied: pillow!=8.3.*,>=5.3.0 in /usr/local/lib/python3.10/dist-packages (from torchvision) (9.4.0)\n",
            "Requirement already satisfied: MarkupSafe>=2.0 in /usr/local/lib/python3.10/dist-packages (from jinja2->torch) (2.1.5)\n",
            "Requirement already satisfied: mpmath<1.4,>=1.1.0 in /usr/local/lib/python3.10/dist-packages (from sympy->torch) (1.3.0)\n",
            "Using cached nvidia_cublas_cu12-12.1.3.1-py3-none-manylinux1_x86_64.whl (410.6 MB)\n",
            "Using cached nvidia_cuda_cupti_cu12-12.1.105-py3-none-manylinux1_x86_64.whl (14.1 MB)\n",
            "Using cached nvidia_cuda_nvrtc_cu12-12.1.105-py3-none-manylinux1_x86_64.whl (23.7 MB)\n",
            "Using cached nvidia_cuda_runtime_cu12-12.1.105-py3-none-manylinux1_x86_64.whl (823 kB)\n",
            "Using cached nvidia_cudnn_cu12-8.9.2.26-py3-none-manylinux1_x86_64.whl (731.7 MB)\n",
            "Using cached nvidia_cufft_cu12-11.0.2.54-py3-none-manylinux1_x86_64.whl (121.6 MB)\n",
            "Using cached nvidia_curand_cu12-10.3.2.106-py3-none-manylinux1_x86_64.whl (56.5 MB)\n",
            "Using cached nvidia_cusolver_cu12-11.4.5.107-py3-none-manylinux1_x86_64.whl (124.2 MB)\n",
            "Using cached nvidia_cusparse_cu12-12.1.0.106-py3-none-manylinux1_x86_64.whl (196.0 MB)\n",
            "Using cached nvidia_nccl_cu12-2.20.5-py3-none-manylinux2014_x86_64.whl (176.2 MB)\n",
            "Using cached nvidia_nvtx_cu12-12.1.105-py3-none-manylinux1_x86_64.whl (99 kB)\n",
            "Using cached nvidia_nvjitlink_cu12-12.6.20-py3-none-manylinux2014_x86_64.whl (19.7 MB)\n",
            "Installing collected packages: nvidia-nvtx-cu12, nvidia-nvjitlink-cu12, nvidia-nccl-cu12, nvidia-curand-cu12, nvidia-cufft-cu12, nvidia-cuda-runtime-cu12, nvidia-cuda-nvrtc-cu12, nvidia-cuda-cupti-cu12, nvidia-cublas-cu12, nvidia-cusparse-cu12, nvidia-cudnn-cu12, nvidia-cusolver-cu12\n",
            "Successfully installed nvidia-cublas-cu12-12.1.3.1 nvidia-cuda-cupti-cu12-12.1.105 nvidia-cuda-nvrtc-cu12-12.1.105 nvidia-cuda-runtime-cu12-12.1.105 nvidia-cudnn-cu12-8.9.2.26 nvidia-cufft-cu12-11.0.2.54 nvidia-curand-cu12-10.3.2.106 nvidia-cusolver-cu12-11.4.5.107 nvidia-cusparse-cu12-12.1.0.106 nvidia-nccl-cu12-2.20.5 nvidia-nvjitlink-cu12-12.6.20 nvidia-nvtx-cu12-12.1.105\n",
            "Collecting ultralytics\n",
            "  Downloading ultralytics-8.2.78-py3-none-any.whl.metadata (41 kB)\n",
            "\u001b[2K     \u001b[90m━━━━━━━━━━━━━━━━━━━━━━━━━━━━━━━━━━━━━━━━\u001b[0m \u001b[32m41.3/41.3 kB\u001b[0m \u001b[31m1.6 MB/s\u001b[0m eta \u001b[36m0:00:00\u001b[0m\n",
            "\u001b[?25hRequirement already satisfied: numpy<2.0.0,>=1.23.0 in /usr/local/lib/python3.10/dist-packages (from ultralytics) (1.26.4)\n",
            "Requirement already satisfied: matplotlib>=3.3.0 in /usr/local/lib/python3.10/dist-packages (from ultralytics) (3.7.1)\n",
            "Requirement already satisfied: opencv-python>=4.6.0 in /usr/local/lib/python3.10/dist-packages (from ultralytics) (4.10.0.84)\n",
            "Requirement already satisfied: pillow>=7.1.2 in /usr/local/lib/python3.10/dist-packages (from ultralytics) (9.4.0)\n",
            "Requirement already satisfied: pyyaml>=5.3.1 in /usr/local/lib/python3.10/dist-packages (from ultralytics) (6.0.2)\n",
            "Requirement already satisfied: requests>=2.23.0 in /usr/local/lib/python3.10/dist-packages (from ultralytics) (2.32.3)\n",
            "Requirement already satisfied: scipy>=1.4.1 in /usr/local/lib/python3.10/dist-packages (from ultralytics) (1.13.1)\n",
            "Requirement already satisfied: torch>=1.8.0 in /usr/local/lib/python3.10/dist-packages (from ultralytics) (2.3.1+cu121)\n",
            "Requirement already satisfied: torchvision>=0.9.0 in /usr/local/lib/python3.10/dist-packages (from ultralytics) (0.18.1+cu121)\n",
            "Requirement already satisfied: tqdm>=4.64.0 in /usr/local/lib/python3.10/dist-packages (from ultralytics) (4.66.5)\n",
            "Requirement already satisfied: psutil in /usr/local/lib/python3.10/dist-packages (from ultralytics) (5.9.5)\n",
            "Requirement already satisfied: py-cpuinfo in /usr/local/lib/python3.10/dist-packages (from ultralytics) (9.0.0)\n",
            "Requirement already satisfied: pandas>=1.1.4 in /usr/local/lib/python3.10/dist-packages (from ultralytics) (2.1.4)\n",
            "Requirement already satisfied: seaborn>=0.11.0 in /usr/local/lib/python3.10/dist-packages (from ultralytics) (0.13.1)\n",
            "Collecting ultralytics-thop>=2.0.0 (from ultralytics)\n",
            "  Downloading ultralytics_thop-2.0.2-py3-none-any.whl.metadata (8.9 kB)\n",
            "Requirement already satisfied: contourpy>=1.0.1 in /usr/local/lib/python3.10/dist-packages (from matplotlib>=3.3.0->ultralytics) (1.2.1)\n",
            "Requirement already satisfied: cycler>=0.10 in /usr/local/lib/python3.10/dist-packages (from matplotlib>=3.3.0->ultralytics) (0.12.1)\n",
            "Requirement already satisfied: fonttools>=4.22.0 in /usr/local/lib/python3.10/dist-packages (from matplotlib>=3.3.0->ultralytics) (4.53.1)\n",
            "Requirement already satisfied: kiwisolver>=1.0.1 in /usr/local/lib/python3.10/dist-packages (from matplotlib>=3.3.0->ultralytics) (1.4.5)\n",
            "Requirement already satisfied: packaging>=20.0 in /usr/local/lib/python3.10/dist-packages (from matplotlib>=3.3.0->ultralytics) (24.1)\n",
            "Requirement already satisfied: pyparsing>=2.3.1 in /usr/local/lib/python3.10/dist-packages (from matplotlib>=3.3.0->ultralytics) (3.1.2)\n",
            "Requirement already satisfied: python-dateutil>=2.7 in /usr/local/lib/python3.10/dist-packages (from matplotlib>=3.3.0->ultralytics) (2.8.2)\n",
            "Requirement already satisfied: pytz>=2020.1 in /usr/local/lib/python3.10/dist-packages (from pandas>=1.1.4->ultralytics) (2024.1)\n",
            "Requirement already satisfied: tzdata>=2022.1 in /usr/local/lib/python3.10/dist-packages (from pandas>=1.1.4->ultralytics) (2024.1)\n",
            "Requirement already satisfied: charset-normalizer<4,>=2 in /usr/local/lib/python3.10/dist-packages (from requests>=2.23.0->ultralytics) (3.3.2)\n",
            "Requirement already satisfied: idna<4,>=2.5 in /usr/local/lib/python3.10/dist-packages (from requests>=2.23.0->ultralytics) (3.7)\n",
            "Requirement already satisfied: urllib3<3,>=1.21.1 in /usr/local/lib/python3.10/dist-packages (from requests>=2.23.0->ultralytics) (2.0.7)\n",
            "Requirement already satisfied: certifi>=2017.4.17 in /usr/local/lib/python3.10/dist-packages (from requests>=2.23.0->ultralytics) (2024.7.4)\n",
            "Requirement already satisfied: filelock in /usr/local/lib/python3.10/dist-packages (from torch>=1.8.0->ultralytics) (3.15.4)\n",
            "Requirement already satisfied: typing-extensions>=4.8.0 in /usr/local/lib/python3.10/dist-packages (from torch>=1.8.0->ultralytics) (4.12.2)\n",
            "Requirement already satisfied: sympy in /usr/local/lib/python3.10/dist-packages (from torch>=1.8.0->ultralytics) (1.13.1)\n",
            "Requirement already satisfied: networkx in /usr/local/lib/python3.10/dist-packages (from torch>=1.8.0->ultralytics) (3.3)\n",
            "Requirement already satisfied: jinja2 in /usr/local/lib/python3.10/dist-packages (from torch>=1.8.0->ultralytics) (3.1.4)\n",
            "Requirement already satisfied: fsspec in /usr/local/lib/python3.10/dist-packages (from torch>=1.8.0->ultralytics) (2024.6.1)\n",
            "Requirement already satisfied: nvidia-cuda-nvrtc-cu12==12.1.105 in /usr/local/lib/python3.10/dist-packages (from torch>=1.8.0->ultralytics) (12.1.105)\n",
            "Requirement already satisfied: nvidia-cuda-runtime-cu12==12.1.105 in /usr/local/lib/python3.10/dist-packages (from torch>=1.8.0->ultralytics) (12.1.105)\n",
            "Requirement already satisfied: nvidia-cuda-cupti-cu12==12.1.105 in /usr/local/lib/python3.10/dist-packages (from torch>=1.8.0->ultralytics) (12.1.105)\n",
            "Requirement already satisfied: nvidia-cudnn-cu12==8.9.2.26 in /usr/local/lib/python3.10/dist-packages (from torch>=1.8.0->ultralytics) (8.9.2.26)\n",
            "Requirement already satisfied: nvidia-cublas-cu12==12.1.3.1 in /usr/local/lib/python3.10/dist-packages (from torch>=1.8.0->ultralytics) (12.1.3.1)\n",
            "Requirement already satisfied: nvidia-cufft-cu12==11.0.2.54 in /usr/local/lib/python3.10/dist-packages (from torch>=1.8.0->ultralytics) (11.0.2.54)\n",
            "Requirement already satisfied: nvidia-curand-cu12==10.3.2.106 in /usr/local/lib/python3.10/dist-packages (from torch>=1.8.0->ultralytics) (10.3.2.106)\n",
            "Requirement already satisfied: nvidia-cusolver-cu12==11.4.5.107 in /usr/local/lib/python3.10/dist-packages (from torch>=1.8.0->ultralytics) (11.4.5.107)\n",
            "Requirement already satisfied: nvidia-cusparse-cu12==12.1.0.106 in /usr/local/lib/python3.10/dist-packages (from torch>=1.8.0->ultralytics) (12.1.0.106)\n",
            "Requirement already satisfied: nvidia-nccl-cu12==2.20.5 in /usr/local/lib/python3.10/dist-packages (from torch>=1.8.0->ultralytics) (2.20.5)\n",
            "Requirement already satisfied: nvidia-nvtx-cu12==12.1.105 in /usr/local/lib/python3.10/dist-packages (from torch>=1.8.0->ultralytics) (12.1.105)\n",
            "Requirement already satisfied: triton==2.3.1 in /usr/local/lib/python3.10/dist-packages (from torch>=1.8.0->ultralytics) (2.3.1)\n",
            "Requirement already satisfied: nvidia-nvjitlink-cu12 in /usr/local/lib/python3.10/dist-packages (from nvidia-cusolver-cu12==11.4.5.107->torch>=1.8.0->ultralytics) (12.6.20)\n",
            "Requirement already satisfied: six>=1.5 in /usr/local/lib/python3.10/dist-packages (from python-dateutil>=2.7->matplotlib>=3.3.0->ultralytics) (1.16.0)\n",
            "Requirement already satisfied: MarkupSafe>=2.0 in /usr/local/lib/python3.10/dist-packages (from jinja2->torch>=1.8.0->ultralytics) (2.1.5)\n",
            "Requirement already satisfied: mpmath<1.4,>=1.1.0 in /usr/local/lib/python3.10/dist-packages (from sympy->torch>=1.8.0->ultralytics) (1.3.0)\n",
            "Downloading ultralytics-8.2.78-py3-none-any.whl (869 kB)\n",
            "\u001b[2K   \u001b[90m━━━━━━━━━━━━━━━━━━━━━━━━━━━━━━━━━━━━━━━━\u001b[0m \u001b[32m869.0/869.0 kB\u001b[0m \u001b[31m14.5 MB/s\u001b[0m eta \u001b[36m0:00:00\u001b[0m\n",
            "\u001b[?25hDownloading ultralytics_thop-2.0.2-py3-none-any.whl (25 kB)\n",
            "Installing collected packages: ultralytics-thop, ultralytics\n",
            "Successfully installed ultralytics-8.2.78 ultralytics-thop-2.0.2\n"
          ]
        }
      ],
      "source": [
        "!pip install torch torchvision torchaudio\n",
        "!pip install ultralytics"
      ]
    },
    {
      "cell_type": "code",
      "source": [
        "!pip install ultralytics"
      ],
      "metadata": {
        "colab": {
          "base_uri": "https://localhost:8080/"
        },
        "id": "IxgYuf-iZ2Ju",
        "outputId": "f71cfe73-1986-4337-dccf-a9016858f347"
      },
      "execution_count": null,
      "outputs": [
        {
          "output_type": "stream",
          "name": "stdout",
          "text": [
            "Requirement already satisfied: ultralytics in /usr/local/lib/python3.10/dist-packages (8.2.78)\n",
            "Requirement already satisfied: numpy<2.0.0,>=1.23.0 in /usr/local/lib/python3.10/dist-packages (from ultralytics) (1.26.4)\n",
            "Requirement already satisfied: matplotlib>=3.3.0 in /usr/local/lib/python3.10/dist-packages (from ultralytics) (3.7.1)\n",
            "Requirement already satisfied: opencv-python>=4.6.0 in /usr/local/lib/python3.10/dist-packages (from ultralytics) (4.10.0.84)\n",
            "Requirement already satisfied: pillow>=7.1.2 in /usr/local/lib/python3.10/dist-packages (from ultralytics) (9.4.0)\n",
            "Requirement already satisfied: pyyaml>=5.3.1 in /usr/local/lib/python3.10/dist-packages (from ultralytics) (6.0.2)\n",
            "Requirement already satisfied: requests>=2.23.0 in /usr/local/lib/python3.10/dist-packages (from ultralytics) (2.32.3)\n",
            "Requirement already satisfied: scipy>=1.4.1 in /usr/local/lib/python3.10/dist-packages (from ultralytics) (1.13.1)\n",
            "Requirement already satisfied: torch>=1.8.0 in /usr/local/lib/python3.10/dist-packages (from ultralytics) (2.3.1+cu121)\n",
            "Requirement already satisfied: torchvision>=0.9.0 in /usr/local/lib/python3.10/dist-packages (from ultralytics) (0.18.1+cu121)\n",
            "Requirement already satisfied: tqdm>=4.64.0 in /usr/local/lib/python3.10/dist-packages (from ultralytics) (4.66.5)\n",
            "Requirement already satisfied: psutil in /usr/local/lib/python3.10/dist-packages (from ultralytics) (5.9.5)\n",
            "Requirement already satisfied: py-cpuinfo in /usr/local/lib/python3.10/dist-packages (from ultralytics) (9.0.0)\n",
            "Requirement already satisfied: pandas>=1.1.4 in /usr/local/lib/python3.10/dist-packages (from ultralytics) (2.1.4)\n",
            "Requirement already satisfied: seaborn>=0.11.0 in /usr/local/lib/python3.10/dist-packages (from ultralytics) (0.13.1)\n",
            "Requirement already satisfied: ultralytics-thop>=2.0.0 in /usr/local/lib/python3.10/dist-packages (from ultralytics) (2.0.0)\n",
            "Requirement already satisfied: contourpy>=1.0.1 in /usr/local/lib/python3.10/dist-packages (from matplotlib>=3.3.0->ultralytics) (1.2.1)\n",
            "Requirement already satisfied: cycler>=0.10 in /usr/local/lib/python3.10/dist-packages (from matplotlib>=3.3.0->ultralytics) (0.12.1)\n",
            "Requirement already satisfied: fonttools>=4.22.0 in /usr/local/lib/python3.10/dist-packages (from matplotlib>=3.3.0->ultralytics) (4.53.1)\n",
            "Requirement already satisfied: kiwisolver>=1.0.1 in /usr/local/lib/python3.10/dist-packages (from matplotlib>=3.3.0->ultralytics) (1.4.5)\n",
            "Requirement already satisfied: packaging>=20.0 in /usr/local/lib/python3.10/dist-packages (from matplotlib>=3.3.0->ultralytics) (24.1)\n",
            "Requirement already satisfied: pyparsing>=2.3.1 in /usr/local/lib/python3.10/dist-packages (from matplotlib>=3.3.0->ultralytics) (3.1.2)\n",
            "Requirement already satisfied: python-dateutil>=2.7 in /usr/local/lib/python3.10/dist-packages (from matplotlib>=3.3.0->ultralytics) (2.8.2)\n",
            "Requirement already satisfied: pytz>=2020.1 in /usr/local/lib/python3.10/dist-packages (from pandas>=1.1.4->ultralytics) (2024.1)\n",
            "Requirement already satisfied: tzdata>=2022.1 in /usr/local/lib/python3.10/dist-packages (from pandas>=1.1.4->ultralytics) (2024.1)\n",
            "Requirement already satisfied: charset-normalizer<4,>=2 in /usr/local/lib/python3.10/dist-packages (from requests>=2.23.0->ultralytics) (3.3.2)\n",
            "Requirement already satisfied: idna<4,>=2.5 in /usr/local/lib/python3.10/dist-packages (from requests>=2.23.0->ultralytics) (3.7)\n",
            "Requirement already satisfied: urllib3<3,>=1.21.1 in /usr/local/lib/python3.10/dist-packages (from requests>=2.23.0->ultralytics) (2.0.7)\n",
            "Requirement already satisfied: certifi>=2017.4.17 in /usr/local/lib/python3.10/dist-packages (from requests>=2.23.0->ultralytics) (2024.7.4)\n",
            "Requirement already satisfied: filelock in /usr/local/lib/python3.10/dist-packages (from torch>=1.8.0->ultralytics) (3.15.4)\n",
            "Requirement already satisfied: typing-extensions>=4.8.0 in /usr/local/lib/python3.10/dist-packages (from torch>=1.8.0->ultralytics) (4.12.2)\n",
            "Requirement already satisfied: sympy in /usr/local/lib/python3.10/dist-packages (from torch>=1.8.0->ultralytics) (1.13.1)\n",
            "Requirement already satisfied: networkx in /usr/local/lib/python3.10/dist-packages (from torch>=1.8.0->ultralytics) (3.3)\n",
            "Requirement already satisfied: jinja2 in /usr/local/lib/python3.10/dist-packages (from torch>=1.8.0->ultralytics) (3.1.4)\n",
            "Requirement already satisfied: fsspec in /usr/local/lib/python3.10/dist-packages (from torch>=1.8.0->ultralytics) (2024.6.1)\n",
            "Requirement already satisfied: nvidia-cuda-nvrtc-cu12==12.1.105 in /usr/local/lib/python3.10/dist-packages (from torch>=1.8.0->ultralytics) (12.1.105)\n",
            "Requirement already satisfied: nvidia-cuda-runtime-cu12==12.1.105 in /usr/local/lib/python3.10/dist-packages (from torch>=1.8.0->ultralytics) (12.1.105)\n",
            "Requirement already satisfied: nvidia-cuda-cupti-cu12==12.1.105 in /usr/local/lib/python3.10/dist-packages (from torch>=1.8.0->ultralytics) (12.1.105)\n",
            "Requirement already satisfied: nvidia-cudnn-cu12==8.9.2.26 in /usr/local/lib/python3.10/dist-packages (from torch>=1.8.0->ultralytics) (8.9.2.26)\n",
            "Requirement already satisfied: nvidia-cublas-cu12==12.1.3.1 in /usr/local/lib/python3.10/dist-packages (from torch>=1.8.0->ultralytics) (12.1.3.1)\n",
            "Requirement already satisfied: nvidia-cufft-cu12==11.0.2.54 in /usr/local/lib/python3.10/dist-packages (from torch>=1.8.0->ultralytics) (11.0.2.54)\n",
            "Requirement already satisfied: nvidia-curand-cu12==10.3.2.106 in /usr/local/lib/python3.10/dist-packages (from torch>=1.8.0->ultralytics) (10.3.2.106)\n",
            "Requirement already satisfied: nvidia-cusolver-cu12==11.4.5.107 in /usr/local/lib/python3.10/dist-packages (from torch>=1.8.0->ultralytics) (11.4.5.107)\n",
            "Requirement already satisfied: nvidia-cusparse-cu12==12.1.0.106 in /usr/local/lib/python3.10/dist-packages (from torch>=1.8.0->ultralytics) (12.1.0.106)\n",
            "Requirement already satisfied: nvidia-nccl-cu12==2.20.5 in /usr/local/lib/python3.10/dist-packages (from torch>=1.8.0->ultralytics) (2.20.5)\n",
            "Requirement already satisfied: nvidia-nvtx-cu12==12.1.105 in /usr/local/lib/python3.10/dist-packages (from torch>=1.8.0->ultralytics) (12.1.105)\n",
            "Requirement already satisfied: triton==2.3.1 in /usr/local/lib/python3.10/dist-packages (from torch>=1.8.0->ultralytics) (2.3.1)\n",
            "Requirement already satisfied: nvidia-nvjitlink-cu12 in /usr/local/lib/python3.10/dist-packages (from nvidia-cusolver-cu12==11.4.5.107->torch>=1.8.0->ultralytics) (12.6.20)\n",
            "Requirement already satisfied: six>=1.5 in /usr/local/lib/python3.10/dist-packages (from python-dateutil>=2.7->matplotlib>=3.3.0->ultralytics) (1.16.0)\n",
            "Requirement already satisfied: MarkupSafe>=2.0 in /usr/local/lib/python3.10/dist-packages (from jinja2->torch>=1.8.0->ultralytics) (2.1.5)\n",
            "Requirement already satisfied: mpmath<1.4,>=1.1.0 in /usr/local/lib/python3.10/dist-packages (from sympy->torch>=1.8.0->ultralytics) (1.3.0)\n"
          ]
        }
      ]
    },
    {
      "cell_type": "code",
      "source": [
        "!pip install roboflow\n",
        "\n",
        "from roboflow import Roboflow\n",
        "# Replace with your actual API key\n",
        "rf = Roboflow(api_key=\"oPwjVT1eZyerVtozAbEp\")\n",
        "\n",
        "# Access the specific workspace and project\n",
        "project = rf.workspace(\"tinyml-da1qk\").project(\"rat-detect-exewp\")\n",
        "\n",
        "# Get the dataset version you want to download\n",
        "version = project.version(1)\n",
        "\n",
        "# Download the dataset in YOLOv8 format\n",
        "dataset = version.download(\"yolov8\")\n",
        "print(\"Dataset downloaded to:\", dataset.location)"
      ],
      "metadata": {
        "colab": {
          "base_uri": "https://localhost:8080/"
        },
        "id": "H_WNXtFXaBtF",
        "outputId": "4d986383-fe9e-4a6c-947b-37def241a4bf"
      },
      "execution_count": null,
      "outputs": [
        {
          "output_type": "stream",
          "name": "stdout",
          "text": [
            "Requirement already satisfied: roboflow in /usr/local/lib/python3.10/dist-packages (1.1.40)\n",
            "Requirement already satisfied: certifi in /usr/local/lib/python3.10/dist-packages (from roboflow) (2024.7.4)\n",
            "Requirement already satisfied: idna==3.7 in /usr/local/lib/python3.10/dist-packages (from roboflow) (3.7)\n",
            "Requirement already satisfied: cycler in /usr/local/lib/python3.10/dist-packages (from roboflow) (0.12.1)\n",
            "Requirement already satisfied: kiwisolver>=1.3.1 in /usr/local/lib/python3.10/dist-packages (from roboflow) (1.4.5)\n",
            "Requirement already satisfied: matplotlib in /usr/local/lib/python3.10/dist-packages (from roboflow) (3.7.1)\n",
            "Requirement already satisfied: numpy>=1.18.5 in /usr/local/lib/python3.10/dist-packages (from roboflow) (1.26.4)\n",
            "Requirement already satisfied: opencv-python-headless==4.10.0.84 in /usr/local/lib/python3.10/dist-packages (from roboflow) (4.10.0.84)\n",
            "Requirement already satisfied: Pillow>=7.1.2 in /usr/local/lib/python3.10/dist-packages (from roboflow) (9.4.0)\n",
            "Requirement already satisfied: python-dateutil in /usr/local/lib/python3.10/dist-packages (from roboflow) (2.8.2)\n",
            "Requirement already satisfied: python-dotenv in /usr/local/lib/python3.10/dist-packages (from roboflow) (1.0.1)\n",
            "Requirement already satisfied: requests in /usr/local/lib/python3.10/dist-packages (from roboflow) (2.32.3)\n",
            "Requirement already satisfied: six in /usr/local/lib/python3.10/dist-packages (from roboflow) (1.16.0)\n",
            "Requirement already satisfied: urllib3>=1.26.6 in /usr/local/lib/python3.10/dist-packages (from roboflow) (2.0.7)\n",
            "Requirement already satisfied: tqdm>=4.41.0 in /usr/local/lib/python3.10/dist-packages (from roboflow) (4.66.5)\n",
            "Requirement already satisfied: PyYAML>=5.3.1 in /usr/local/lib/python3.10/dist-packages (from roboflow) (6.0.2)\n",
            "Requirement already satisfied: requests-toolbelt in /usr/local/lib/python3.10/dist-packages (from roboflow) (1.0.0)\n",
            "Requirement already satisfied: filetype in /usr/local/lib/python3.10/dist-packages (from roboflow) (1.2.0)\n",
            "Requirement already satisfied: contourpy>=1.0.1 in /usr/local/lib/python3.10/dist-packages (from matplotlib->roboflow) (1.2.1)\n",
            "Requirement already satisfied: fonttools>=4.22.0 in /usr/local/lib/python3.10/dist-packages (from matplotlib->roboflow) (4.53.1)\n",
            "Requirement already satisfied: packaging>=20.0 in /usr/local/lib/python3.10/dist-packages (from matplotlib->roboflow) (24.1)\n",
            "Requirement already satisfied: pyparsing>=2.3.1 in /usr/local/lib/python3.10/dist-packages (from matplotlib->roboflow) (3.1.2)\n",
            "Requirement already satisfied: charset-normalizer<4,>=2 in /usr/local/lib/python3.10/dist-packages (from requests->roboflow) (3.3.2)\n",
            "loading Roboflow workspace...\n",
            "loading Roboflow project...\n",
            "Dependency ultralytics==8.0.196 is required but found version=8.2.78, to fix: `pip install ultralytics==8.0.196`\n",
            "Dataset downloaded to: /content/rat-detect-1\n"
          ]
        }
      ]
    },
    {
      "cell_type": "code",
      "source": [
        "from ultralytics import YOLO\n",
        "\n",
        "# Define model and training parameters\n",
        "model = YOLO('yolov8n.yaml')  # You can use other configurations like yolov8s.yaml, yolov8m.yaml, yolov8l.yaml\n",
        "\n",
        "# Train the model\n",
        "model.train(\n",
        "    data='/content/rat-detect-1/data.yaml',  # Path to your data.yaml file\n",
        "    epochs=50,  # Number of epochs\n",
        "    imgsz=640,  # Image size\n",
        "    batch=16,   # Batch size\n",
        "    workers=4,  # Number of data loading workers\n",
        "    project='yolov8_rat',  # Project name for saving results\n",
        "    name='rodent_rat_detection'  # Experiment name\n",
        ")"
      ],
      "metadata": {
        "id": "Add0YKSJawO_",
        "colab": {
          "base_uri": "https://localhost:8080/"
        },
        "outputId": "d93e5ec3-4a57-4a71-f802-60841e2fbeaa"
      },
      "execution_count": null,
      "outputs": [
        {
          "metadata": {
            "tags": null
          },
          "name": "stdout",
          "output_type": "stream",
          "text": [
            "Ultralytics YOLOv8.2.78 🚀 Python-3.10.12 torch-2.3.1+cu121 CUDA:0 (Tesla T4, 15102MiB)\n",
            "\u001b[34m\u001b[1mengine/trainer: \u001b[0mtask=detect, mode=train, model=yolov8n.yaml, data=/content/rat-detect-1/data.yaml, epochs=50, time=None, patience=100, batch=16, imgsz=640, save=True, save_period=-1, cache=False, device=None, workers=4, project=yolov8_rat, name=rodent_rat_detection, exist_ok=False, pretrained=True, optimizer=auto, verbose=True, seed=0, deterministic=True, single_cls=False, rect=False, cos_lr=False, close_mosaic=10, resume=False, amp=True, fraction=1.0, profile=False, freeze=None, multi_scale=False, overlap_mask=True, mask_ratio=4, dropout=0.0, val=True, split=val, save_json=False, save_hybrid=False, conf=None, iou=0.7, max_det=300, half=False, dnn=False, plots=True, source=None, vid_stride=1, stream_buffer=False, visualize=False, augment=False, agnostic_nms=False, classes=None, retina_masks=False, embed=None, show=False, save_frames=False, save_txt=False, save_conf=False, save_crop=False, show_labels=True, show_conf=True, show_boxes=True, line_width=None, format=torchscript, keras=False, optimize=False, int8=False, dynamic=False, simplify=False, opset=None, workspace=4, nms=False, lr0=0.01, lrf=0.01, momentum=0.937, weight_decay=0.0005, warmup_epochs=3.0, warmup_momentum=0.8, warmup_bias_lr=0.1, box=7.5, cls=0.5, dfl=1.5, pose=12.0, kobj=1.0, label_smoothing=0.0, nbs=64, hsv_h=0.015, hsv_s=0.7, hsv_v=0.4, degrees=0.0, translate=0.1, scale=0.5, shear=0.0, perspective=0.0, flipud=0.0, fliplr=0.5, bgr=0.0, mosaic=1.0, mixup=0.0, copy_paste=0.0, auto_augment=randaugment, erasing=0.4, crop_fraction=1.0, cfg=None, tracker=botsort.yaml, save_dir=yolov8_rat/rodent_rat_detection\n",
            "Downloading https://ultralytics.com/assets/Arial.ttf to '/root/.config/Ultralytics/Arial.ttf'...\n"
          ]
        },
        {
          "metadata": {
            "tags": null
          },
          "name": "stderr",
          "output_type": "stream",
          "text": [
            "100%|██████████| 755k/755k [00:00<00:00, 24.8MB/s]\n"
          ]
        },
        {
          "metadata": {
            "tags": null
          },
          "name": "stdout",
          "output_type": "stream",
          "text": [
            "Overriding model.yaml nc=80 with nc=2\n",
            "\n",
            "                   from  n    params  module                                       arguments                     \n",
            "  0                  -1  1       464  ultralytics.nn.modules.conv.Conv             [3, 16, 3, 2]                 \n",
            "  1                  -1  1      4672  ultralytics.nn.modules.conv.Conv             [16, 32, 3, 2]                \n",
            "  2                  -1  1      7360  ultralytics.nn.modules.block.C2f             [32, 32, 1, True]             \n",
            "  3                  -1  1     18560  ultralytics.nn.modules.conv.Conv             [32, 64, 3, 2]                \n",
            "  4                  -1  2     49664  ultralytics.nn.modules.block.C2f             [64, 64, 2, True]             \n",
            "  5                  -1  1     73984  ultralytics.nn.modules.conv.Conv             [64, 128, 3, 2]               \n",
            "  6                  -1  2    197632  ultralytics.nn.modules.block.C2f             [128, 128, 2, True]           \n",
            "  7                  -1  1    295424  ultralytics.nn.modules.conv.Conv             [128, 256, 3, 2]              \n",
            "  8                  -1  1    460288  ultralytics.nn.modules.block.C2f             [256, 256, 1, True]           \n",
            "  9                  -1  1    164608  ultralytics.nn.modules.block.SPPF            [256, 256, 5]                 \n",
            " 10                  -1  1         0  torch.nn.modules.upsampling.Upsample         [None, 2, 'nearest']          \n",
            " 11             [-1, 6]  1         0  ultralytics.nn.modules.conv.Concat           [1]                           \n",
            " 12                  -1  1    148224  ultralytics.nn.modules.block.C2f             [384, 128, 1]                 \n",
            " 13                  -1  1         0  torch.nn.modules.upsampling.Upsample         [None, 2, 'nearest']          \n",
            " 14             [-1, 4]  1         0  ultralytics.nn.modules.conv.Concat           [1]                           \n",
            " 15                  -1  1     37248  ultralytics.nn.modules.block.C2f             [192, 64, 1]                  \n",
            " 16                  -1  1     36992  ultralytics.nn.modules.conv.Conv             [64, 64, 3, 2]                \n",
            " 17            [-1, 12]  1         0  ultralytics.nn.modules.conv.Concat           [1]                           \n",
            " 18                  -1  1    123648  ultralytics.nn.modules.block.C2f             [192, 128, 1]                 \n",
            " 19                  -1  1    147712  ultralytics.nn.modules.conv.Conv             [128, 128, 3, 2]              \n",
            " 20             [-1, 9]  1         0  ultralytics.nn.modules.conv.Concat           [1]                           \n",
            " 21                  -1  1    493056  ultralytics.nn.modules.block.C2f             [384, 256, 1]                 \n",
            " 22        [15, 18, 21]  1    751702  ultralytics.nn.modules.head.Detect           [2, [64, 128, 256]]           \n",
            "YOLOv8n summary: 225 layers, 3,011,238 parameters, 3,011,222 gradients, 8.2 GFLOPs\n",
            "\n",
            "\u001b[34m\u001b[1mTensorBoard: \u001b[0mStart with 'tensorboard --logdir yolov8_rat/rodent_rat_detection', view at http://localhost:6006/\n",
            "Freezing layer 'model.22.dfl.conv.weight'\n",
            "\u001b[34m\u001b[1mAMP: \u001b[0mrunning Automatic Mixed Precision (AMP) checks with YOLOv8n...\n",
            "Downloading https://github.com/ultralytics/assets/releases/download/v8.2.0/yolov8n.pt to 'yolov8n.pt'...\n"
          ]
        },
        {
          "metadata": {
            "tags": null
          },
          "name": "stderr",
          "output_type": "stream",
          "text": [
            "100%|██████████| 6.25M/6.25M [00:00<00:00, 114MB/s]\n"
          ]
        },
        {
          "metadata": {
            "tags": null
          },
          "name": "stdout",
          "output_type": "stream",
          "text": [
            "\u001b[34m\u001b[1mAMP: \u001b[0mchecks passed ✅\n"
          ]
        },
        {
          "metadata": {
            "tags": null
          },
          "name": "stderr",
          "output_type": "stream",
          "text": [
            "\u001b[34m\u001b[1mtrain: \u001b[0mScanning /content/rat-detect-1/train/labels... 3701 images, 0 backgrounds, 0 corrupt: 100%|██████████| 3701/3701 [00:02<00:00, 1677.26it/s]\n"
          ]
        },
        {
          "metadata": {
            "tags": null
          },
          "name": "stdout",
          "output_type": "stream",
          "text": [
            "\u001b[34m\u001b[1mtrain: \u001b[0mNew cache created: /content/rat-detect-1/train/labels.cache\n",
            "\u001b[34m\u001b[1malbumentations: \u001b[0mBlur(p=0.01, blur_limit=(3, 7)), MedianBlur(p=0.01, blur_limit=(3, 7)), ToGray(p=0.01), CLAHE(p=0.01, clip_limit=(1, 4.0), tile_grid_size=(8, 8))\n"
          ]
        },
        {
          "metadata": {
            "tags": null
          },
          "name": "stderr",
          "output_type": "stream",
          "text": [
            "os.fork() was called. os.fork() is incompatible with multithreaded code, and JAX is multithreaded, so this will likely lead to a deadlock.\n",
            "\u001b[34m\u001b[1mval: \u001b[0mScanning /content/rat-detect-1/valid/labels... 1061 images, 0 backgrounds, 0 corrupt: 100%|██████████| 1061/1061 [00:01<00:00, 915.07it/s]"
          ]
        },
        {
          "metadata": {
            "tags": null
          },
          "name": "stdout",
          "output_type": "stream",
          "text": [
            "\u001b[34m\u001b[1mval: \u001b[0mNew cache created: /content/rat-detect-1/valid/labels.cache\n"
          ]
        },
        {
          "metadata": {
            "tags": null
          },
          "name": "stderr",
          "output_type": "stream",
          "text": [
            "\n"
          ]
        },
        {
          "metadata": {
            "tags": null
          },
          "name": "stdout",
          "output_type": "stream",
          "text": [
            "Plotting labels to yolov8_rat/rodent_rat_detection/labels.jpg... \n",
            "\u001b[34m\u001b[1moptimizer:\u001b[0m 'optimizer=auto' found, ignoring 'lr0=0.01' and 'momentum=0.937' and determining best 'optimizer', 'lr0' and 'momentum' automatically... \n",
            "\u001b[34m\u001b[1moptimizer:\u001b[0m AdamW(lr=0.001667, momentum=0.9) with parameter groups 57 weight(decay=0.0), 64 weight(decay=0.0005), 63 bias(decay=0.0)\n",
            "\u001b[34m\u001b[1mTensorBoard: \u001b[0mmodel graph visualization added ✅\n",
            "Image sizes 640 train, 640 val\n",
            "Using 2 dataloader workers\n",
            "Logging results to \u001b[1myolov8_rat/rodent_rat_detection\u001b[0m\n",
            "Starting training for 50 epochs...\n",
            "\n",
            "      Epoch    GPU_mem   box_loss   cls_loss   dfl_loss  Instances       Size\n"
          ]
        },
        {
          "metadata": {
            "tags": null
          },
          "name": "stderr",
          "output_type": "stream",
          "text": [
            "       1/50      2.51G      3.027      3.563      3.709         17        640: 100%|██████████| 232/232 [01:18<00:00,  2.94it/s]\n",
            "                 Class     Images  Instances      Box(P          R      mAP50  mAP50-95): 100%|██████████| 34/34 [00:13<00:00,  2.60it/s]\n"
          ]
        },
        {
          "metadata": {
            "tags": null
          },
          "name": "stdout",
          "output_type": "stream",
          "text": [
            "                   all       1061       3119      0.589     0.0804     0.0492      0.015\n",
            "\n",
            "      Epoch    GPU_mem   box_loss   cls_loss   dfl_loss  Instances       Size\n"
          ]
        },
        {
          "metadata": {
            "tags": null
          },
          "name": "stderr",
          "output_type": "stream",
          "text": [
            "       2/50      2.35G      2.126      2.759      2.638         23        640: 100%|██████████| 232/232 [01:12<00:00,  3.21it/s]\n",
            "                 Class     Images  Instances      Box(P          R      mAP50  mAP50-95): 100%|██████████| 34/34 [00:11<00:00,  2.94it/s]\n"
          ]
        },
        {
          "metadata": {
            "tags": null
          },
          "name": "stdout",
          "output_type": "stream",
          "text": [
            "                   all       1061       3119      0.737      0.208      0.219        0.1\n",
            "\n",
            "      Epoch    GPU_mem   box_loss   cls_loss   dfl_loss  Instances       Size\n"
          ]
        },
        {
          "metadata": {
            "tags": null
          },
          "name": "stderr",
          "output_type": "stream",
          "text": [
            "       3/50      2.35G       1.76      2.254      2.251         46        640: 100%|██████████| 232/232 [01:13<00:00,  3.17it/s]\n",
            "                 Class     Images  Instances      Box(P          R      mAP50  mAP50-95): 100%|██████████| 34/34 [00:11<00:00,  2.89it/s]\n"
          ]
        },
        {
          "metadata": {
            "tags": null
          },
          "name": "stdout",
          "output_type": "stream",
          "text": [
            "                   all       1061       3119       0.32      0.427      0.356      0.172\n",
            "\n",
            "      Epoch    GPU_mem   box_loss   cls_loss   dfl_loss  Instances       Size\n"
          ]
        },
        {
          "metadata": {
            "tags": null
          },
          "name": "stderr",
          "output_type": "stream",
          "text": [
            "       4/50      2.34G       1.61      2.036      2.106         34        640: 100%|██████████| 232/232 [01:12<00:00,  3.21it/s]\n",
            "                 Class     Images  Instances      Box(P          R      mAP50  mAP50-95): 100%|██████████| 34/34 [00:11<00:00,  3.07it/s]\n"
          ]
        },
        {
          "metadata": {
            "tags": null
          },
          "name": "stdout",
          "output_type": "stream",
          "text": [
            "                   all       1061       3119      0.473      0.263       0.32      0.168\n",
            "\n",
            "      Epoch    GPU_mem   box_loss   cls_loss   dfl_loss  Instances       Size\n"
          ]
        },
        {
          "metadata": {
            "tags": null
          },
          "name": "stderr",
          "output_type": "stream",
          "text": [
            "       5/50      2.34G      1.511      1.886      1.995         25        640: 100%|██████████| 232/232 [01:11<00:00,  3.25it/s]\n",
            "                 Class     Images  Instances      Box(P          R      mAP50  mAP50-95): 100%|██████████| 34/34 [00:08<00:00,  3.79it/s]\n"
          ]
        },
        {
          "metadata": {
            "tags": null
          },
          "name": "stdout",
          "output_type": "stream",
          "text": [
            "                   all       1061       3119      0.517      0.476      0.463      0.255\n",
            "\n",
            "      Epoch    GPU_mem   box_loss   cls_loss   dfl_loss  Instances       Size\n"
          ]
        },
        {
          "metadata": {
            "tags": null
          },
          "name": "stderr",
          "output_type": "stream",
          "text": [
            "       6/50      2.32G      1.449      1.773      1.932         31        640: 100%|██████████| 232/232 [01:13<00:00,  3.17it/s]\n",
            "                 Class     Images  Instances      Box(P          R      mAP50  mAP50-95): 100%|██████████| 34/34 [00:08<00:00,  3.90it/s]\n"
          ]
        },
        {
          "metadata": {
            "tags": null
          },
          "name": "stdout",
          "output_type": "stream",
          "text": [
            "                   all       1061       3119      0.591      0.543       0.55      0.306\n",
            "\n",
            "      Epoch    GPU_mem   box_loss   cls_loss   dfl_loss  Instances       Size\n"
          ]
        },
        {
          "metadata": {
            "tags": null
          },
          "name": "stderr",
          "output_type": "stream",
          "text": [
            "       7/50      2.33G      1.385      1.659      1.869         25        640: 100%|██████████| 232/232 [01:15<00:00,  3.07it/s]\n",
            "                 Class     Images  Instances      Box(P          R      mAP50  mAP50-95): 100%|██████████| 34/34 [00:08<00:00,  3.89it/s]\n"
          ]
        },
        {
          "metadata": {
            "tags": null
          },
          "name": "stdout",
          "output_type": "stream",
          "text": [
            "                   all       1061       3119      0.654      0.559      0.602      0.354\n",
            "\n",
            "      Epoch    GPU_mem   box_loss   cls_loss   dfl_loss  Instances       Size\n"
          ]
        },
        {
          "metadata": {
            "tags": null
          },
          "name": "stderr",
          "output_type": "stream",
          "text": [
            "       8/50      2.34G      1.328      1.576      1.807         16        640: 100%|██████████| 232/232 [01:15<00:00,  3.06it/s]\n",
            "                 Class     Images  Instances      Box(P          R      mAP50  mAP50-95): 100%|██████████| 34/34 [00:09<00:00,  3.64it/s]\n"
          ]
        },
        {
          "metadata": {
            "tags": null
          },
          "name": "stdout",
          "output_type": "stream",
          "text": [
            "                   all       1061       3119      0.739      0.567      0.658       0.37\n",
            "\n",
            "      Epoch    GPU_mem   box_loss   cls_loss   dfl_loss  Instances       Size\n"
          ]
        },
        {
          "metadata": {
            "tags": null
          },
          "name": "stderr",
          "output_type": "stream",
          "text": [
            "       9/50      2.34G      1.302      1.507      1.781         34        640: 100%|██████████| 232/232 [01:13<00:00,  3.15it/s]\n",
            "                 Class     Images  Instances      Box(P          R      mAP50  mAP50-95): 100%|██████████| 34/34 [00:11<00:00,  3.02it/s]\n"
          ]
        },
        {
          "metadata": {
            "tags": null
          },
          "name": "stdout",
          "output_type": "stream",
          "text": [
            "                   all       1061       3119      0.704      0.585      0.657      0.406\n",
            "\n",
            "      Epoch    GPU_mem   box_loss   cls_loss   dfl_loss  Instances       Size\n"
          ]
        },
        {
          "metadata": {
            "tags": null
          },
          "name": "stderr",
          "output_type": "stream",
          "text": [
            "      10/50      2.34G      1.248      1.439      1.725         29        640: 100%|██████████| 232/232 [01:12<00:00,  3.18it/s]\n",
            "                 Class     Images  Instances      Box(P          R      mAP50  mAP50-95): 100%|██████████| 34/34 [00:11<00:00,  2.99it/s]\n"
          ]
        },
        {
          "metadata": {
            "tags": null
          },
          "name": "stdout",
          "output_type": "stream",
          "text": [
            "                   all       1061       3119      0.653      0.629      0.657      0.406\n",
            "\n",
            "      Epoch    GPU_mem   box_loss   cls_loss   dfl_loss  Instances       Size\n"
          ]
        },
        {
          "metadata": {
            "tags": null
          },
          "name": "stderr",
          "output_type": "stream",
          "text": [
            "      11/50      2.33G      1.225      1.389      1.705         21        640: 100%|██████████| 232/232 [01:12<00:00,  3.20it/s]\n",
            "                 Class     Images  Instances      Box(P          R      mAP50  mAP50-95): 100%|██████████| 34/34 [00:11<00:00,  2.96it/s]\n"
          ]
        },
        {
          "metadata": {
            "tags": null
          },
          "name": "stdout",
          "output_type": "stream",
          "text": [
            "                   all       1061       3119      0.665      0.622      0.668      0.415\n",
            "\n",
            "      Epoch    GPU_mem   box_loss   cls_loss   dfl_loss  Instances       Size\n"
          ]
        },
        {
          "metadata": {
            "tags": null
          },
          "name": "stderr",
          "output_type": "stream",
          "text": [
            "      12/50      2.34G      1.222      1.358      1.689         21        640: 100%|██████████| 232/232 [01:11<00:00,  3.23it/s]\n",
            "                 Class     Images  Instances      Box(P          R      mAP50  mAP50-95): 100%|██████████| 34/34 [00:10<00:00,  3.13it/s]\n"
          ]
        },
        {
          "metadata": {
            "tags": null
          },
          "name": "stdout",
          "output_type": "stream",
          "text": [
            "                   all       1061       3119      0.715      0.646      0.717       0.45\n",
            "\n",
            "      Epoch    GPU_mem   box_loss   cls_loss   dfl_loss  Instances       Size\n"
          ]
        },
        {
          "metadata": {
            "tags": null
          },
          "name": "stderr",
          "output_type": "stream",
          "text": [
            "      13/50      2.34G      1.192       1.33      1.662         27        640: 100%|██████████| 232/232 [01:10<00:00,  3.27it/s]\n",
            "                 Class     Images  Instances      Box(P          R      mAP50  mAP50-95): 100%|██████████| 34/34 [00:09<00:00,  3.50it/s]\n"
          ]
        },
        {
          "metadata": {
            "tags": null
          },
          "name": "stdout",
          "output_type": "stream",
          "text": [
            "                   all       1061       3119       0.71      0.586      0.667       0.41\n",
            "\n",
            "      Epoch    GPU_mem   box_loss   cls_loss   dfl_loss  Instances       Size\n"
          ]
        },
        {
          "metadata": {
            "tags": null
          },
          "name": "stderr",
          "output_type": "stream",
          "text": [
            "      14/50      2.33G      1.156      1.257      1.637         20        640: 100%|██████████| 232/232 [01:13<00:00,  3.14it/s]\n",
            "                 Class     Images  Instances      Box(P          R      mAP50  mAP50-95): 100%|██████████| 34/34 [00:08<00:00,  3.95it/s]\n"
          ]
        },
        {
          "metadata": {
            "tags": null
          },
          "name": "stdout",
          "output_type": "stream",
          "text": [
            "                   all       1061       3119      0.753      0.693      0.759      0.484\n",
            "\n",
            "      Epoch    GPU_mem   box_loss   cls_loss   dfl_loss  Instances       Size\n"
          ]
        },
        {
          "metadata": {
            "tags": null
          },
          "name": "stderr",
          "output_type": "stream",
          "text": [
            "      15/50      2.34G      1.145      1.242      1.613         22        640: 100%|██████████| 232/232 [01:13<00:00,  3.14it/s]\n",
            "                 Class     Images  Instances      Box(P          R      mAP50  mAP50-95): 100%|██████████| 34/34 [00:09<00:00,  3.48it/s]\n"
          ]
        },
        {
          "metadata": {
            "tags": null
          },
          "name": "stdout",
          "output_type": "stream",
          "text": [
            "                   all       1061       3119       0.78      0.656      0.753      0.488\n",
            "\n",
            "      Epoch    GPU_mem   box_loss   cls_loss   dfl_loss  Instances       Size\n"
          ]
        },
        {
          "metadata": {
            "tags": null
          },
          "name": "stderr",
          "output_type": "stream",
          "text": [
            "      16/50      2.33G      1.139      1.222      1.607         20        640: 100%|██████████| 232/232 [01:11<00:00,  3.23it/s]\n",
            "                 Class     Images  Instances      Box(P          R      mAP50  mAP50-95): 100%|██████████| 34/34 [00:10<00:00,  3.19it/s]\n"
          ]
        },
        {
          "metadata": {
            "tags": null
          },
          "name": "stdout",
          "output_type": "stream",
          "text": [
            "                   all       1061       3119      0.746      0.685      0.754      0.481\n",
            "\n",
            "      Epoch    GPU_mem   box_loss   cls_loss   dfl_loss  Instances       Size\n"
          ]
        },
        {
          "metadata": {
            "tags": null
          },
          "name": "stderr",
          "output_type": "stream",
          "text": [
            "      17/50      2.34G      1.115      1.204      1.587         15        640: 100%|██████████| 232/232 [01:10<00:00,  3.28it/s]\n",
            "                 Class     Images  Instances      Box(P          R      mAP50  mAP50-95): 100%|██████████| 34/34 [00:11<00:00,  2.93it/s]\n"
          ]
        },
        {
          "metadata": {
            "tags": null
          },
          "name": "stdout",
          "output_type": "stream",
          "text": [
            "                   all       1061       3119      0.788      0.705      0.782      0.522\n",
            "\n",
            "      Epoch    GPU_mem   box_loss   cls_loss   dfl_loss  Instances       Size\n"
          ]
        },
        {
          "metadata": {
            "tags": null
          },
          "name": "stderr",
          "output_type": "stream",
          "text": [
            "      18/50      2.33G      1.114      1.206      1.585         38        640: 100%|██████████| 232/232 [01:10<00:00,  3.28it/s]\n",
            "                 Class     Images  Instances      Box(P          R      mAP50  mAP50-95): 100%|██████████| 34/34 [00:10<00:00,  3.14it/s]\n"
          ]
        },
        {
          "metadata": {
            "tags": null
          },
          "name": "stdout",
          "output_type": "stream",
          "text": [
            "                   all       1061       3119      0.769      0.687      0.778      0.519\n",
            "\n",
            "      Epoch    GPU_mem   box_loss   cls_loss   dfl_loss  Instances       Size\n"
          ]
        },
        {
          "output_type": "stream",
          "name": "stderr",
          "text": [
            "      19/50      2.33G        1.1      1.163      1.576         47        640: 100%|██████████| 232/232 [01:11<00:00,  3.26it/s]\n",
            "                 Class     Images  Instances      Box(P          R      mAP50  mAP50-95): 100%|██████████| 34/34 [00:10<00:00,  3.20it/s]"
          ]
        },
        {
          "output_type": "stream",
          "name": "stdout",
          "text": [
            "                   all       1061       3119      0.797      0.684      0.783      0.524\n"
          ]
        },
        {
          "output_type": "stream",
          "name": "stderr",
          "text": [
            "\n"
          ]
        },
        {
          "output_type": "stream",
          "name": "stdout",
          "text": [
            "\n",
            "      Epoch    GPU_mem   box_loss   cls_loss   dfl_loss  Instances       Size\n"
          ]
        },
        {
          "output_type": "stream",
          "name": "stderr",
          "text": [
            "      20/50      2.33G      1.087      1.141      1.555         35        640: 100%|██████████| 232/232 [01:10<00:00,  3.29it/s]\n",
            "                 Class     Images  Instances      Box(P          R      mAP50  mAP50-95): 100%|██████████| 34/34 [00:08<00:00,  4.10it/s]"
          ]
        },
        {
          "output_type": "stream",
          "name": "stdout",
          "text": [
            "                   all       1061       3119      0.763      0.727      0.793      0.542\n"
          ]
        },
        {
          "output_type": "stream",
          "name": "stderr",
          "text": [
            "\n"
          ]
        },
        {
          "output_type": "stream",
          "name": "stdout",
          "text": [
            "\n",
            "      Epoch    GPU_mem   box_loss   cls_loss   dfl_loss  Instances       Size\n"
          ]
        },
        {
          "output_type": "stream",
          "name": "stderr",
          "text": [
            "      21/50      2.34G      1.074      1.137      1.546         38        640: 100%|██████████| 232/232 [01:12<00:00,  3.20it/s]\n",
            "                 Class     Images  Instances      Box(P          R      mAP50  mAP50-95): 100%|██████████| 34/34 [00:10<00:00,  3.30it/s]\n"
          ]
        },
        {
          "output_type": "stream",
          "name": "stdout",
          "text": [
            "                   all       1061       3119      0.745       0.72      0.795      0.546\n",
            "\n",
            "      Epoch    GPU_mem   box_loss   cls_loss   dfl_loss  Instances       Size\n"
          ]
        },
        {
          "output_type": "stream",
          "name": "stderr",
          "text": [
            "      22/50      2.33G      1.049      1.089      1.527         25        640: 100%|██████████| 232/232 [01:10<00:00,  3.29it/s]\n",
            "                 Class     Images  Instances      Box(P          R      mAP50  mAP50-95): 100%|██████████| 34/34 [00:11<00:00,  2.98it/s]"
          ]
        },
        {
          "output_type": "stream",
          "name": "stdout",
          "text": [
            "                   all       1061       3119      0.791      0.721      0.803      0.552\n"
          ]
        },
        {
          "output_type": "stream",
          "name": "stderr",
          "text": [
            "\n"
          ]
        },
        {
          "output_type": "stream",
          "name": "stdout",
          "text": [
            "\n",
            "      Epoch    GPU_mem   box_loss   cls_loss   dfl_loss  Instances       Size\n"
          ]
        },
        {
          "output_type": "stream",
          "name": "stderr",
          "text": [
            "      23/50      2.33G      1.039       1.09      1.516         34        640: 100%|██████████| 232/232 [01:11<00:00,  3.27it/s]\n",
            "                 Class     Images  Instances      Box(P          R      mAP50  mAP50-95): 100%|██████████| 34/34 [00:11<00:00,  3.04it/s]"
          ]
        },
        {
          "output_type": "stream",
          "name": "stdout",
          "text": [
            "                   all       1061       3119      0.806      0.747      0.819      0.564\n"
          ]
        },
        {
          "output_type": "stream",
          "name": "stderr",
          "text": [
            "\n"
          ]
        },
        {
          "output_type": "stream",
          "name": "stdout",
          "text": [
            "\n",
            "      Epoch    GPU_mem   box_loss   cls_loss   dfl_loss  Instances       Size\n"
          ]
        },
        {
          "output_type": "stream",
          "name": "stderr",
          "text": [
            "      24/50      2.34G      1.036      1.071      1.509         32        640: 100%|██████████| 232/232 [01:11<00:00,  3.26it/s]\n",
            "                 Class     Images  Instances      Box(P          R      mAP50  mAP50-95): 100%|██████████| 34/34 [00:10<00:00,  3.25it/s]\n"
          ]
        },
        {
          "output_type": "stream",
          "name": "stdout",
          "text": [
            "                   all       1061       3119       0.84       0.72      0.821      0.574\n",
            "\n",
            "      Epoch    GPU_mem   box_loss   cls_loss   dfl_loss  Instances       Size\n"
          ]
        },
        {
          "output_type": "stream",
          "name": "stderr",
          "text": [
            "      25/50      2.33G      1.023      1.052      1.498         22        640: 100%|██████████| 232/232 [01:10<00:00,  3.30it/s]\n",
            "                 Class     Images  Instances      Box(P          R      mAP50  mAP50-95): 100%|██████████| 34/34 [00:08<00:00,  3.82it/s]\n"
          ]
        },
        {
          "output_type": "stream",
          "name": "stdout",
          "text": [
            "                   all       1061       3119      0.837      0.745      0.836      0.586\n",
            "\n",
            "      Epoch    GPU_mem   box_loss   cls_loss   dfl_loss  Instances       Size\n"
          ]
        },
        {
          "output_type": "stream",
          "name": "stderr",
          "text": [
            "      26/50       2.2G      1.016      1.038       1.49         26        640: 100%|██████████| 232/232 [01:11<00:00,  3.24it/s]\n",
            "                 Class     Images  Instances      Box(P          R      mAP50  mAP50-95): 100%|██████████| 34/34 [00:09<00:00,  3.68it/s]"
          ]
        },
        {
          "output_type": "stream",
          "name": "stdout",
          "text": [
            "                   all       1061       3119      0.792      0.761      0.833       0.59\n"
          ]
        },
        {
          "output_type": "stream",
          "name": "stderr",
          "text": [
            "\n"
          ]
        },
        {
          "output_type": "stream",
          "name": "stdout",
          "text": [
            "\n",
            "      Epoch    GPU_mem   box_loss   cls_loss   dfl_loss  Instances       Size\n"
          ]
        },
        {
          "output_type": "stream",
          "name": "stderr",
          "text": [
            "      27/50      2.34G      1.009      1.044      1.481         20        640: 100%|██████████| 232/232 [01:13<00:00,  3.18it/s]\n",
            "                 Class     Images  Instances      Box(P          R      mAP50  mAP50-95): 100%|██████████| 34/34 [00:10<00:00,  3.29it/s]"
          ]
        },
        {
          "output_type": "stream",
          "name": "stdout",
          "text": [
            "                   all       1061       3119      0.795      0.749      0.813      0.562\n"
          ]
        },
        {
          "output_type": "stream",
          "name": "stderr",
          "text": [
            "\n"
          ]
        },
        {
          "output_type": "stream",
          "name": "stdout",
          "text": [
            "\n",
            "      Epoch    GPU_mem   box_loss   cls_loss   dfl_loss  Instances       Size\n"
          ]
        },
        {
          "output_type": "stream",
          "name": "stderr",
          "text": [
            "      28/50      2.33G     0.9998      1.012      1.479         25        640: 100%|██████████| 232/232 [01:10<00:00,  3.28it/s]\n",
            "                 Class     Images  Instances      Box(P          R      mAP50  mAP50-95): 100%|██████████| 34/34 [00:10<00:00,  3.12it/s]"
          ]
        },
        {
          "output_type": "stream",
          "name": "stdout",
          "text": [
            "                   all       1061       3119      0.826      0.737      0.828      0.582\n"
          ]
        },
        {
          "output_type": "stream",
          "name": "stderr",
          "text": [
            "\n"
          ]
        },
        {
          "output_type": "stream",
          "name": "stdout",
          "text": [
            "\n",
            "      Epoch    GPU_mem   box_loss   cls_loss   dfl_loss  Instances       Size\n"
          ]
        },
        {
          "output_type": "stream",
          "name": "stderr",
          "text": [
            "      29/50      2.33G     0.9911      1.007      1.471         39        640: 100%|██████████| 232/232 [01:11<00:00,  3.24it/s]\n",
            "                 Class     Images  Instances      Box(P          R      mAP50  mAP50-95): 100%|██████████| 34/34 [00:10<00:00,  3.32it/s]"
          ]
        },
        {
          "output_type": "stream",
          "name": "stdout",
          "text": [
            "                   all       1061       3119      0.848      0.777      0.852      0.603\n"
          ]
        },
        {
          "output_type": "stream",
          "name": "stderr",
          "text": [
            "\n"
          ]
        },
        {
          "output_type": "stream",
          "name": "stdout",
          "text": [
            "\n",
            "      Epoch    GPU_mem   box_loss   cls_loss   dfl_loss  Instances       Size\n"
          ]
        },
        {
          "output_type": "stream",
          "name": "stderr",
          "text": [
            "      30/50      2.33G     0.9885     0.9832      1.462         23        640: 100%|██████████| 232/232 [01:12<00:00,  3.21it/s]\n",
            "                 Class     Images  Instances      Box(P          R      mAP50  mAP50-95): 100%|██████████| 34/34 [00:08<00:00,  4.01it/s]"
          ]
        },
        {
          "output_type": "stream",
          "name": "stdout",
          "text": [
            "                   all       1061       3119      0.802       0.76      0.841      0.597\n"
          ]
        },
        {
          "output_type": "stream",
          "name": "stderr",
          "text": [
            "\n"
          ]
        },
        {
          "output_type": "stream",
          "name": "stdout",
          "text": [
            "\n",
            "      Epoch    GPU_mem   box_loss   cls_loss   dfl_loss  Instances       Size\n"
          ]
        },
        {
          "output_type": "stream",
          "name": "stderr",
          "text": [
            "      31/50      2.31G     0.9853     0.9774      1.461         33        640: 100%|██████████| 232/232 [01:11<00:00,  3.22it/s]\n",
            "                 Class     Images  Instances      Box(P          R      mAP50  mAP50-95): 100%|██████████| 34/34 [00:09<00:00,  3.64it/s]\n"
          ]
        },
        {
          "output_type": "stream",
          "name": "stdout",
          "text": [
            "                   all       1061       3119      0.838      0.785      0.848      0.602\n",
            "\n",
            "      Epoch    GPU_mem   box_loss   cls_loss   dfl_loss  Instances       Size\n"
          ]
        },
        {
          "output_type": "stream",
          "name": "stderr",
          "text": [
            "      32/50      2.33G       0.98     0.9705      1.458         19        640: 100%|██████████| 232/232 [01:10<00:00,  3.29it/s]\n",
            "                 Class     Images  Instances      Box(P          R      mAP50  mAP50-95): 100%|██████████| 34/34 [00:11<00:00,  2.97it/s]"
          ]
        },
        {
          "output_type": "stream",
          "name": "stdout",
          "text": [
            "                   all       1061       3119      0.843      0.778      0.849      0.611\n"
          ]
        },
        {
          "output_type": "stream",
          "name": "stderr",
          "text": [
            "\n"
          ]
        },
        {
          "output_type": "stream",
          "name": "stdout",
          "text": [
            "\n",
            "      Epoch    GPU_mem   box_loss   cls_loss   dfl_loss  Instances       Size\n"
          ]
        },
        {
          "output_type": "stream",
          "name": "stderr",
          "text": [
            "      33/50      2.33G     0.9524     0.9569      1.434         24        640: 100%|██████████| 232/232 [01:11<00:00,  3.22it/s]\n",
            "                 Class     Images  Instances      Box(P          R      mAP50  mAP50-95): 100%|██████████| 34/34 [00:11<00:00,  3.07it/s]\n"
          ]
        },
        {
          "output_type": "stream",
          "name": "stdout",
          "text": [
            "                   all       1061       3119      0.836      0.795       0.86      0.622\n",
            "\n",
            "      Epoch    GPU_mem   box_loss   cls_loss   dfl_loss  Instances       Size\n"
          ]
        },
        {
          "output_type": "stream",
          "name": "stderr",
          "text": [
            "      34/50      2.31G     0.9616     0.9546       1.44         21        640: 100%|██████████| 232/232 [01:12<00:00,  3.21it/s]\n",
            "                 Class     Images  Instances      Box(P          R      mAP50  mAP50-95): 100%|██████████| 34/34 [00:09<00:00,  3.69it/s]\n"
          ]
        },
        {
          "output_type": "stream",
          "name": "stdout",
          "text": [
            "                   all       1061       3119      0.859      0.772       0.87       0.63\n",
            "\n",
            "      Epoch    GPU_mem   box_loss   cls_loss   dfl_loss  Instances       Size\n"
          ]
        },
        {
          "output_type": "stream",
          "name": "stderr",
          "text": [
            "      35/50       2.2G     0.9501     0.9377      1.433         32        640: 100%|██████████| 232/232 [01:17<00:00,  3.00it/s]\n",
            "                 Class     Images  Instances      Box(P          R      mAP50  mAP50-95): 100%|██████████| 34/34 [00:09<00:00,  3.68it/s]\n"
          ]
        },
        {
          "output_type": "stream",
          "name": "stdout",
          "text": [
            "                   all       1061       3119      0.883      0.745      0.857      0.624\n",
            "\n",
            "      Epoch    GPU_mem   box_loss   cls_loss   dfl_loss  Instances       Size\n"
          ]
        },
        {
          "output_type": "stream",
          "name": "stderr",
          "text": [
            "      36/50      2.33G     0.9281     0.9155      1.412         18        640: 100%|██████████| 232/232 [01:15<00:00,  3.07it/s]\n",
            "                 Class     Images  Instances      Box(P          R      mAP50  mAP50-95): 100%|██████████| 34/34 [00:08<00:00,  3.93it/s]\n"
          ]
        },
        {
          "output_type": "stream",
          "name": "stdout",
          "text": [
            "                   all       1061       3119      0.845      0.793      0.873      0.629\n",
            "\n",
            "      Epoch    GPU_mem   box_loss   cls_loss   dfl_loss  Instances       Size\n"
          ]
        },
        {
          "output_type": "stream",
          "name": "stderr",
          "text": [
            "      37/50      2.32G      0.929     0.9174      1.411         23        640: 100%|██████████| 232/232 [01:13<00:00,  3.14it/s]\n",
            "                 Class     Images  Instances      Box(P          R      mAP50  mAP50-95): 100%|██████████| 34/34 [00:09<00:00,  3.61it/s]\n"
          ]
        },
        {
          "output_type": "stream",
          "name": "stdout",
          "text": [
            "                   all       1061       3119      0.851      0.774      0.864       0.63\n",
            "\n",
            "      Epoch    GPU_mem   box_loss   cls_loss   dfl_loss  Instances       Size\n"
          ]
        },
        {
          "output_type": "stream",
          "name": "stderr",
          "text": [
            "      38/50      2.33G     0.9215     0.9091      1.408         13        640: 100%|██████████| 232/232 [01:12<00:00,  3.18it/s]\n",
            "                 Class     Images  Instances      Box(P          R      mAP50  mAP50-95): 100%|██████████| 34/34 [00:11<00:00,  2.96it/s]"
          ]
        },
        {
          "output_type": "stream",
          "name": "stdout",
          "text": [
            "                   all       1061       3119      0.835      0.805      0.864      0.628\n"
          ]
        },
        {
          "output_type": "stream",
          "name": "stderr",
          "text": [
            "\n"
          ]
        },
        {
          "output_type": "stream",
          "name": "stdout",
          "text": [
            "\n",
            "      Epoch    GPU_mem   box_loss   cls_loss   dfl_loss  Instances       Size\n"
          ]
        },
        {
          "output_type": "stream",
          "name": "stderr",
          "text": [
            "      39/50      2.33G     0.9152     0.8968      1.402         38        640: 100%|██████████| 232/232 [01:11<00:00,  3.26it/s]\n",
            "                 Class     Images  Instances      Box(P          R      mAP50  mAP50-95): 100%|██████████| 34/34 [00:11<00:00,  2.93it/s]"
          ]
        },
        {
          "output_type": "stream",
          "name": "stdout",
          "text": [
            "                   all       1061       3119      0.883      0.784      0.873      0.643\n"
          ]
        },
        {
          "output_type": "stream",
          "name": "stderr",
          "text": [
            "\n"
          ]
        },
        {
          "output_type": "stream",
          "name": "stdout",
          "text": [
            "\n",
            "      Epoch    GPU_mem   box_loss   cls_loss   dfl_loss  Instances       Size\n"
          ]
        },
        {
          "output_type": "stream",
          "name": "stderr",
          "text": [
            "      40/50      2.33G     0.8969     0.8699       1.39         23        640: 100%|██████████| 232/232 [01:13<00:00,  3.17it/s]\n",
            "                 Class     Images  Instances      Box(P          R      mAP50  mAP50-95): 100%|██████████| 34/34 [00:11<00:00,  3.01it/s]"
          ]
        },
        {
          "output_type": "stream",
          "name": "stdout",
          "text": [
            "                   all       1061       3119      0.864       0.79      0.875      0.648\n"
          ]
        },
        {
          "output_type": "stream",
          "name": "stderr",
          "text": [
            "\n"
          ]
        },
        {
          "output_type": "stream",
          "name": "stdout",
          "text": [
            "Closing dataloader mosaic\n",
            "\u001b[34m\u001b[1malbumentations: \u001b[0mBlur(p=0.01, blur_limit=(3, 7)), MedianBlur(p=0.01, blur_limit=(3, 7)), ToGray(p=0.01), CLAHE(p=0.01, clip_limit=(1, 4.0), tile_grid_size=(8, 8))\n"
          ]
        },
        {
          "output_type": "stream",
          "name": "stderr",
          "text": [
            "os.fork() was called. os.fork() is incompatible with multithreaded code, and JAX is multithreaded, so this will likely lead to a deadlock.\n",
            "os.fork() was called. os.fork() is incompatible with multithreaded code, and JAX is multithreaded, so this will likely lead to a deadlock.\n"
          ]
        },
        {
          "output_type": "stream",
          "name": "stdout",
          "text": [
            "\n",
            "      Epoch    GPU_mem   box_loss   cls_loss   dfl_loss  Instances       Size\n"
          ]
        },
        {
          "output_type": "stream",
          "name": "stderr",
          "text": [
            "      41/50      2.47G     0.8704     0.7786      1.367         14        640: 100%|██████████| 232/232 [01:11<00:00,  3.23it/s]\n",
            "                 Class     Images  Instances      Box(P          R      mAP50  mAP50-95): 100%|██████████| 34/34 [00:12<00:00,  2.83it/s]"
          ]
        },
        {
          "output_type": "stream",
          "name": "stdout",
          "text": [
            "                   all       1061       3119      0.891       0.79      0.879      0.655\n"
          ]
        },
        {
          "output_type": "stream",
          "name": "stderr",
          "text": [
            "\n"
          ]
        },
        {
          "output_type": "stream",
          "name": "stdout",
          "text": [
            "\n",
            "      Epoch    GPU_mem   box_loss   cls_loss   dfl_loss  Instances       Size\n"
          ]
        },
        {
          "output_type": "stream",
          "name": "stderr",
          "text": [
            "      42/50      2.29G     0.8511     0.7487      1.349         11        640: 100%|██████████| 232/232 [01:11<00:00,  3.25it/s]\n",
            "                 Class     Images  Instances      Box(P          R      mAP50  mAP50-95): 100%|██████████| 34/34 [00:08<00:00,  4.06it/s]"
          ]
        },
        {
          "output_type": "stream",
          "name": "stdout",
          "text": [
            "                   all       1061       3119      0.882      0.781      0.877      0.656\n"
          ]
        },
        {
          "output_type": "stream",
          "name": "stderr",
          "text": [
            "\n"
          ]
        },
        {
          "output_type": "stream",
          "name": "stdout",
          "text": [
            "\n",
            "      Epoch    GPU_mem   box_loss   cls_loss   dfl_loss  Instances       Size\n"
          ]
        },
        {
          "output_type": "stream",
          "name": "stderr",
          "text": [
            "      43/50       2.3G     0.8459     0.7425      1.348         19        640: 100%|██████████| 232/232 [01:09<00:00,  3.34it/s]\n",
            "                 Class     Images  Instances      Box(P          R      mAP50  mAP50-95): 100%|██████████| 34/34 [00:11<00:00,  3.01it/s]"
          ]
        },
        {
          "output_type": "stream",
          "name": "stdout",
          "text": [
            "                   all       1061       3119      0.876      0.796      0.888       0.66\n"
          ]
        },
        {
          "output_type": "stream",
          "name": "stderr",
          "text": [
            "\n"
          ]
        },
        {
          "output_type": "stream",
          "name": "stdout",
          "text": [
            "\n",
            "      Epoch    GPU_mem   box_loss   cls_loss   dfl_loss  Instances       Size\n"
          ]
        },
        {
          "output_type": "stream",
          "name": "stderr",
          "text": [
            "      44/50      2.31G     0.8344     0.7283      1.341         14        640: 100%|██████████| 232/232 [01:11<00:00,  3.24it/s]\n",
            "                 Class     Images  Instances      Box(P          R      mAP50  mAP50-95): 100%|██████████| 34/34 [00:10<00:00,  3.22it/s]"
          ]
        },
        {
          "output_type": "stream",
          "name": "stdout",
          "text": [
            "                   all       1061       3119      0.895      0.785      0.891      0.666\n"
          ]
        },
        {
          "output_type": "stream",
          "name": "stderr",
          "text": [
            "\n"
          ]
        },
        {
          "output_type": "stream",
          "name": "stdout",
          "text": [
            "\n",
            "      Epoch    GPU_mem   box_loss   cls_loss   dfl_loss  Instances       Size\n"
          ]
        },
        {
          "output_type": "stream",
          "name": "stderr",
          "text": [
            "      45/50      2.29G     0.8149     0.7065      1.319         15        640: 100%|██████████| 232/232 [01:11<00:00,  3.26it/s]\n",
            "                 Class     Images  Instances      Box(P          R      mAP50  mAP50-95): 100%|██████████| 34/34 [00:08<00:00,  3.88it/s]"
          ]
        },
        {
          "output_type": "stream",
          "name": "stdout",
          "text": [
            "                   all       1061       3119      0.898      0.784      0.889      0.672\n"
          ]
        },
        {
          "output_type": "stream",
          "name": "stderr",
          "text": [
            "\n"
          ]
        },
        {
          "output_type": "stream",
          "name": "stdout",
          "text": [
            "\n",
            "      Epoch    GPU_mem   box_loss   cls_loss   dfl_loss  Instances       Size\n"
          ]
        },
        {
          "output_type": "stream",
          "name": "stderr",
          "text": [
            "      46/50      2.31G     0.8139     0.7114      1.322         13        640: 100%|██████████| 232/232 [01:09<00:00,  3.33it/s]\n",
            "                 Class     Images  Instances      Box(P          R      mAP50  mAP50-95): 100%|██████████| 34/34 [00:11<00:00,  3.00it/s]"
          ]
        },
        {
          "output_type": "stream",
          "name": "stdout",
          "text": [
            "                   all       1061       3119      0.865      0.815      0.896      0.677\n"
          ]
        },
        {
          "output_type": "stream",
          "name": "stderr",
          "text": [
            "\n"
          ]
        },
        {
          "output_type": "stream",
          "name": "stdout",
          "text": [
            "\n",
            "      Epoch    GPU_mem   box_loss   cls_loss   dfl_loss  Instances       Size\n"
          ]
        },
        {
          "output_type": "stream",
          "name": "stderr",
          "text": [
            "      47/50      2.33G     0.8063     0.6931       1.32         14        640: 100%|██████████| 232/232 [01:12<00:00,  3.21it/s]\n",
            "                 Class     Images  Instances      Box(P          R      mAP50  mAP50-95): 100%|██████████| 34/34 [00:09<00:00,  3.64it/s]\n"
          ]
        },
        {
          "output_type": "stream",
          "name": "stdout",
          "text": [
            "                   all       1061       3119      0.905      0.788      0.896      0.672\n",
            "\n",
            "      Epoch    GPU_mem   box_loss   cls_loss   dfl_loss  Instances       Size\n"
          ]
        },
        {
          "output_type": "stream",
          "name": "stderr",
          "text": [
            "      48/50       2.3G     0.8004     0.6918      1.307         13        640: 100%|██████████| 232/232 [01:10<00:00,  3.27it/s]\n",
            "                 Class     Images  Instances      Box(P          R      mAP50  mAP50-95): 100%|██████████| 34/34 [00:10<00:00,  3.11it/s]"
          ]
        },
        {
          "output_type": "stream",
          "name": "stdout",
          "text": [
            "                   all       1061       3119      0.895      0.805      0.896      0.676\n"
          ]
        },
        {
          "output_type": "stream",
          "name": "stderr",
          "text": [
            "\n"
          ]
        },
        {
          "output_type": "stream",
          "name": "stdout",
          "text": [
            "\n",
            "      Epoch    GPU_mem   box_loss   cls_loss   dfl_loss  Instances       Size\n"
          ]
        },
        {
          "output_type": "stream",
          "name": "stderr",
          "text": [
            "      49/50       2.3G     0.7929     0.6923      1.304         17        640: 100%|██████████| 232/232 [01:09<00:00,  3.32it/s]\n",
            "                 Class     Images  Instances      Box(P          R      mAP50  mAP50-95): 100%|██████████| 34/34 [00:11<00:00,  2.97it/s]"
          ]
        },
        {
          "output_type": "stream",
          "name": "stdout",
          "text": [
            "                   all       1061       3119      0.868      0.833      0.902      0.677\n"
          ]
        },
        {
          "output_type": "stream",
          "name": "stderr",
          "text": [
            "\n"
          ]
        },
        {
          "output_type": "stream",
          "name": "stdout",
          "text": [
            "\n",
            "      Epoch    GPU_mem   box_loss   cls_loss   dfl_loss  Instances       Size\n"
          ]
        },
        {
          "output_type": "stream",
          "name": "stderr",
          "text": [
            "      50/50      2.29G     0.7864     0.6756      1.297         14        640: 100%|██████████| 232/232 [01:09<00:00,  3.35it/s]\n",
            "                 Class     Images  Instances      Box(P          R      mAP50  mAP50-95): 100%|██████████| 34/34 [00:08<00:00,  3.83it/s]"
          ]
        },
        {
          "output_type": "stream",
          "name": "stdout",
          "text": [
            "                   all       1061       3119      0.878      0.814        0.9      0.678\n"
          ]
        },
        {
          "output_type": "stream",
          "name": "stderr",
          "text": [
            "\n"
          ]
        },
        {
          "output_type": "stream",
          "name": "stdout",
          "text": [
            "\n",
            "50 epochs completed in 1.161 hours.\n",
            "Optimizer stripped from yolov8_rat/rodent_rat_detection/weights/last.pt, 6.3MB\n",
            "Optimizer stripped from yolov8_rat/rodent_rat_detection/weights/best.pt, 6.3MB\n",
            "\n",
            "Validating yolov8_rat/rodent_rat_detection/weights/best.pt...\n",
            "Ultralytics YOLOv8.2.78 🚀 Python-3.10.12 torch-2.3.1+cu121 CUDA:0 (Tesla T4, 15102MiB)\n",
            "YOLOv8n summary (fused): 168 layers, 3,006,038 parameters, 0 gradients, 8.1 GFLOPs\n"
          ]
        },
        {
          "output_type": "stream",
          "name": "stderr",
          "text": [
            "                 Class     Images  Instances      Box(P          R      mAP50  mAP50-95): 100%|██████████| 34/34 [00:15<00:00,  2.15it/s]\n"
          ]
        },
        {
          "output_type": "stream",
          "name": "stdout",
          "text": [
            "                   all       1061       3119      0.878      0.814        0.9      0.678\n",
            "                   rat        806       2842      0.887      0.833      0.913      0.721\n",
            "                rabbit        255        277       0.87      0.795      0.887      0.636\n",
            "Speed: 0.6ms preprocess, 2.4ms inference, 0.0ms loss, 2.3ms postprocess per image\n",
            "Results saved to \u001b[1myolov8_rat/rodent_rat_detection\u001b[0m\n"
          ]
        },
        {
          "output_type": "execute_result",
          "data": {
            "text/plain": [
              "ultralytics.utils.metrics.DetMetrics object with attributes:\n",
              "\n",
              "ap_class_index: array([0, 1])\n",
              "box: ultralytics.utils.metrics.Metric object\n",
              "confusion_matrix: <ultralytics.utils.metrics.ConfusionMatrix object at 0x7ff81bb05db0>\n",
              "curves: ['Precision-Recall(B)', 'F1-Confidence(B)', 'Precision-Confidence(B)', 'Recall-Confidence(B)']\n",
              "curves_results: [[array([          0,    0.001001,    0.002002,    0.003003,    0.004004,    0.005005,    0.006006,    0.007007,    0.008008,    0.009009,     0.01001,    0.011011,    0.012012,    0.013013,    0.014014,    0.015015,    0.016016,    0.017017,    0.018018,    0.019019,     0.02002,    0.021021,    0.022022,    0.023023,\n",
              "          0.024024,    0.025025,    0.026026,    0.027027,    0.028028,    0.029029,     0.03003,    0.031031,    0.032032,    0.033033,    0.034034,    0.035035,    0.036036,    0.037037,    0.038038,    0.039039,     0.04004,    0.041041,    0.042042,    0.043043,    0.044044,    0.045045,    0.046046,    0.047047,\n",
              "          0.048048,    0.049049,     0.05005,    0.051051,    0.052052,    0.053053,    0.054054,    0.055055,    0.056056,    0.057057,    0.058058,    0.059059,     0.06006,    0.061061,    0.062062,    0.063063,    0.064064,    0.065065,    0.066066,    0.067067,    0.068068,    0.069069,     0.07007,    0.071071,\n",
              "          0.072072,    0.073073,    0.074074,    0.075075,    0.076076,    0.077077,    0.078078,    0.079079,     0.08008,    0.081081,    0.082082,    0.083083,    0.084084,    0.085085,    0.086086,    0.087087,    0.088088,    0.089089,     0.09009,    0.091091,    0.092092,    0.093093,    0.094094,    0.095095,\n",
              "          0.096096,    0.097097,    0.098098,    0.099099,      0.1001,      0.1011,      0.1021,      0.1031,      0.1041,     0.10511,     0.10611,     0.10711,     0.10811,     0.10911,     0.11011,     0.11111,     0.11211,     0.11311,     0.11411,     0.11512,     0.11612,     0.11712,     0.11812,     0.11912,\n",
              "           0.12012,     0.12112,     0.12212,     0.12312,     0.12412,     0.12513,     0.12613,     0.12713,     0.12813,     0.12913,     0.13013,     0.13113,     0.13213,     0.13313,     0.13413,     0.13514,     0.13614,     0.13714,     0.13814,     0.13914,     0.14014,     0.14114,     0.14214,     0.14314,\n",
              "           0.14414,     0.14515,     0.14615,     0.14715,     0.14815,     0.14915,     0.15015,     0.15115,     0.15215,     0.15315,     0.15415,     0.15516,     0.15616,     0.15716,     0.15816,     0.15916,     0.16016,     0.16116,     0.16216,     0.16316,     0.16416,     0.16517,     0.16617,     0.16717,\n",
              "           0.16817,     0.16917,     0.17017,     0.17117,     0.17217,     0.17317,     0.17417,     0.17518,     0.17618,     0.17718,     0.17818,     0.17918,     0.18018,     0.18118,     0.18218,     0.18318,     0.18418,     0.18519,     0.18619,     0.18719,     0.18819,     0.18919,     0.19019,     0.19119,\n",
              "           0.19219,     0.19319,     0.19419,      0.1952,      0.1962,      0.1972,      0.1982,      0.1992,      0.2002,      0.2012,      0.2022,      0.2032,      0.2042,     0.20521,     0.20621,     0.20721,     0.20821,     0.20921,     0.21021,     0.21121,     0.21221,     0.21321,     0.21421,     0.21522,\n",
              "           0.21622,     0.21722,     0.21822,     0.21922,     0.22022,     0.22122,     0.22222,     0.22322,     0.22422,     0.22523,     0.22623,     0.22723,     0.22823,     0.22923,     0.23023,     0.23123,     0.23223,     0.23323,     0.23423,     0.23524,     0.23624,     0.23724,     0.23824,     0.23924,\n",
              "           0.24024,     0.24124,     0.24224,     0.24324,     0.24424,     0.24525,     0.24625,     0.24725,     0.24825,     0.24925,     0.25025,     0.25125,     0.25225,     0.25325,     0.25425,     0.25526,     0.25626,     0.25726,     0.25826,     0.25926,     0.26026,     0.26126,     0.26226,     0.26326,\n",
              "           0.26426,     0.26527,     0.26627,     0.26727,     0.26827,     0.26927,     0.27027,     0.27127,     0.27227,     0.27327,     0.27427,     0.27528,     0.27628,     0.27728,     0.27828,     0.27928,     0.28028,     0.28128,     0.28228,     0.28328,     0.28428,     0.28529,     0.28629,     0.28729,\n",
              "           0.28829,     0.28929,     0.29029,     0.29129,     0.29229,     0.29329,     0.29429,      0.2953,      0.2963,      0.2973,      0.2983,      0.2993,      0.3003,      0.3013,      0.3023,      0.3033,      0.3043,     0.30531,     0.30631,     0.30731,     0.30831,     0.30931,     0.31031,     0.31131,\n",
              "           0.31231,     0.31331,     0.31431,     0.31532,     0.31632,     0.31732,     0.31832,     0.31932,     0.32032,     0.32132,     0.32232,     0.32332,     0.32432,     0.32533,     0.32633,     0.32733,     0.32833,     0.32933,     0.33033,     0.33133,     0.33233,     0.33333,     0.33433,     0.33534,\n",
              "           0.33634,     0.33734,     0.33834,     0.33934,     0.34034,     0.34134,     0.34234,     0.34334,     0.34434,     0.34535,     0.34635,     0.34735,     0.34835,     0.34935,     0.35035,     0.35135,     0.35235,     0.35335,     0.35435,     0.35536,     0.35636,     0.35736,     0.35836,     0.35936,\n",
              "           0.36036,     0.36136,     0.36236,     0.36336,     0.36436,     0.36537,     0.36637,     0.36737,     0.36837,     0.36937,     0.37037,     0.37137,     0.37237,     0.37337,     0.37437,     0.37538,     0.37638,     0.37738,     0.37838,     0.37938,     0.38038,     0.38138,     0.38238,     0.38338,\n",
              "           0.38438,     0.38539,     0.38639,     0.38739,     0.38839,     0.38939,     0.39039,     0.39139,     0.39239,     0.39339,     0.39439,      0.3954,      0.3964,      0.3974,      0.3984,      0.3994,      0.4004,      0.4014,      0.4024,      0.4034,      0.4044,     0.40541,     0.40641,     0.40741,\n",
              "           0.40841,     0.40941,     0.41041,     0.41141,     0.41241,     0.41341,     0.41441,     0.41542,     0.41642,     0.41742,     0.41842,     0.41942,     0.42042,     0.42142,     0.42242,     0.42342,     0.42442,     0.42543,     0.42643,     0.42743,     0.42843,     0.42943,     0.43043,     0.43143,\n",
              "           0.43243,     0.43343,     0.43443,     0.43544,     0.43644,     0.43744,     0.43844,     0.43944,     0.44044,     0.44144,     0.44244,     0.44344,     0.44444,     0.44545,     0.44645,     0.44745,     0.44845,     0.44945,     0.45045,     0.45145,     0.45245,     0.45345,     0.45445,     0.45546,\n",
              "           0.45646,     0.45746,     0.45846,     0.45946,     0.46046,     0.46146,     0.46246,     0.46346,     0.46446,     0.46547,     0.46647,     0.46747,     0.46847,     0.46947,     0.47047,     0.47147,     0.47247,     0.47347,     0.47447,     0.47548,     0.47648,     0.47748,     0.47848,     0.47948,\n",
              "           0.48048,     0.48148,     0.48248,     0.48348,     0.48448,     0.48549,     0.48649,     0.48749,     0.48849,     0.48949,     0.49049,     0.49149,     0.49249,     0.49349,     0.49449,      0.4955,      0.4965,      0.4975,      0.4985,      0.4995,      0.5005,      0.5015,      0.5025,      0.5035,\n",
              "            0.5045,     0.50551,     0.50651,     0.50751,     0.50851,     0.50951,     0.51051,     0.51151,     0.51251,     0.51351,     0.51451,     0.51552,     0.51652,     0.51752,     0.51852,     0.51952,     0.52052,     0.52152,     0.52252,     0.52352,     0.52452,     0.52553,     0.52653,     0.52753,\n",
              "           0.52853,     0.52953,     0.53053,     0.53153,     0.53253,     0.53353,     0.53453,     0.53554,     0.53654,     0.53754,     0.53854,     0.53954,     0.54054,     0.54154,     0.54254,     0.54354,     0.54454,     0.54555,     0.54655,     0.54755,     0.54855,     0.54955,     0.55055,     0.55155,\n",
              "           0.55255,     0.55355,     0.55455,     0.55556,     0.55656,     0.55756,     0.55856,     0.55956,     0.56056,     0.56156,     0.56256,     0.56356,     0.56456,     0.56557,     0.56657,     0.56757,     0.56857,     0.56957,     0.57057,     0.57157,     0.57257,     0.57357,     0.57457,     0.57558,\n",
              "           0.57658,     0.57758,     0.57858,     0.57958,     0.58058,     0.58158,     0.58258,     0.58358,     0.58458,     0.58559,     0.58659,     0.58759,     0.58859,     0.58959,     0.59059,     0.59159,     0.59259,     0.59359,     0.59459,      0.5956,      0.5966,      0.5976,      0.5986,      0.5996,\n",
              "            0.6006,      0.6016,      0.6026,      0.6036,      0.6046,     0.60561,     0.60661,     0.60761,     0.60861,     0.60961,     0.61061,     0.61161,     0.61261,     0.61361,     0.61461,     0.61562,     0.61662,     0.61762,     0.61862,     0.61962,     0.62062,     0.62162,     0.62262,     0.62362,\n",
              "           0.62462,     0.62563,     0.62663,     0.62763,     0.62863,     0.62963,     0.63063,     0.63163,     0.63263,     0.63363,     0.63463,     0.63564,     0.63664,     0.63764,     0.63864,     0.63964,     0.64064,     0.64164,     0.64264,     0.64364,     0.64464,     0.64565,     0.64665,     0.64765,\n",
              "           0.64865,     0.64965,     0.65065,     0.65165,     0.65265,     0.65365,     0.65465,     0.65566,     0.65666,     0.65766,     0.65866,     0.65966,     0.66066,     0.66166,     0.66266,     0.66366,     0.66466,     0.66567,     0.66667,     0.66767,     0.66867,     0.66967,     0.67067,     0.67167,\n",
              "           0.67267,     0.67367,     0.67467,     0.67568,     0.67668,     0.67768,     0.67868,     0.67968,     0.68068,     0.68168,     0.68268,     0.68368,     0.68468,     0.68569,     0.68669,     0.68769,     0.68869,     0.68969,     0.69069,     0.69169,     0.69269,     0.69369,     0.69469,      0.6957,\n",
              "            0.6967,      0.6977,      0.6987,      0.6997,      0.7007,      0.7017,      0.7027,      0.7037,      0.7047,     0.70571,     0.70671,     0.70771,     0.70871,     0.70971,     0.71071,     0.71171,     0.71271,     0.71371,     0.71471,     0.71572,     0.71672,     0.71772,     0.71872,     0.71972,\n",
              "           0.72072,     0.72172,     0.72272,     0.72372,     0.72472,     0.72573,     0.72673,     0.72773,     0.72873,     0.72973,     0.73073,     0.73173,     0.73273,     0.73373,     0.73473,     0.73574,     0.73674,     0.73774,     0.73874,     0.73974,     0.74074,     0.74174,     0.74274,     0.74374,\n",
              "           0.74474,     0.74575,     0.74675,     0.74775,     0.74875,     0.74975,     0.75075,     0.75175,     0.75275,     0.75375,     0.75475,     0.75576,     0.75676,     0.75776,     0.75876,     0.75976,     0.76076,     0.76176,     0.76276,     0.76376,     0.76476,     0.76577,     0.76677,     0.76777,\n",
              "           0.76877,     0.76977,     0.77077,     0.77177,     0.77277,     0.77377,     0.77477,     0.77578,     0.77678,     0.77778,     0.77878,     0.77978,     0.78078,     0.78178,     0.78278,     0.78378,     0.78478,     0.78579,     0.78679,     0.78779,     0.78879,     0.78979,     0.79079,     0.79179,\n",
              "           0.79279,     0.79379,     0.79479,      0.7958,      0.7968,      0.7978,      0.7988,      0.7998,      0.8008,      0.8018,      0.8028,      0.8038,      0.8048,     0.80581,     0.80681,     0.80781,     0.80881,     0.80981,     0.81081,     0.81181,     0.81281,     0.81381,     0.81481,     0.81582,\n",
              "           0.81682,     0.81782,     0.81882,     0.81982,     0.82082,     0.82182,     0.82282,     0.82382,     0.82482,     0.82583,     0.82683,     0.82783,     0.82883,     0.82983,     0.83083,     0.83183,     0.83283,     0.83383,     0.83483,     0.83584,     0.83684,     0.83784,     0.83884,     0.83984,\n",
              "           0.84084,     0.84184,     0.84284,     0.84384,     0.84484,     0.84585,     0.84685,     0.84785,     0.84885,     0.84985,     0.85085,     0.85185,     0.85285,     0.85385,     0.85485,     0.85586,     0.85686,     0.85786,     0.85886,     0.85986,     0.86086,     0.86186,     0.86286,     0.86386,\n",
              "           0.86486,     0.86587,     0.86687,     0.86787,     0.86887,     0.86987,     0.87087,     0.87187,     0.87287,     0.87387,     0.87487,     0.87588,     0.87688,     0.87788,     0.87888,     0.87988,     0.88088,     0.88188,     0.88288,     0.88388,     0.88488,     0.88589,     0.88689,     0.88789,\n",
              "           0.88889,     0.88989,     0.89089,     0.89189,     0.89289,     0.89389,     0.89489,      0.8959,      0.8969,      0.8979,      0.8989,      0.8999,      0.9009,      0.9019,      0.9029,      0.9039,      0.9049,     0.90591,     0.90691,     0.90791,     0.90891,     0.90991,     0.91091,     0.91191,\n",
              "           0.91291,     0.91391,     0.91491,     0.91592,     0.91692,     0.91792,     0.91892,     0.91992,     0.92092,     0.92192,     0.92292,     0.92392,     0.92492,     0.92593,     0.92693,     0.92793,     0.92893,     0.92993,     0.93093,     0.93193,     0.93293,     0.93393,     0.93493,     0.93594,\n",
              "           0.93694,     0.93794,     0.93894,     0.93994,     0.94094,     0.94194,     0.94294,     0.94394,     0.94494,     0.94595,     0.94695,     0.94795,     0.94895,     0.94995,     0.95095,     0.95195,     0.95295,     0.95395,     0.95495,     0.95596,     0.95696,     0.95796,     0.95896,     0.95996,\n",
              "           0.96096,     0.96196,     0.96296,     0.96396,     0.96496,     0.96597,     0.96697,     0.96797,     0.96897,     0.96997,     0.97097,     0.97197,     0.97297,     0.97397,     0.97497,     0.97598,     0.97698,     0.97798,     0.97898,     0.97998,     0.98098,     0.98198,     0.98298,     0.98398,\n",
              "           0.98498,     0.98599,     0.98699,     0.98799,     0.98899,     0.98999,     0.99099,     0.99199,     0.99299,     0.99399,     0.99499,       0.996,       0.997,       0.998,       0.999,           1]), array([[          1,           1,           1, ...,   0.0061385,   0.0030692,           0],\n",
              "       [          1,           1,           1, ...,   0.0062431,   0.0031216,           0]]), 'Recall', 'Precision'], [array([          0,    0.001001,    0.002002,    0.003003,    0.004004,    0.005005,    0.006006,    0.007007,    0.008008,    0.009009,     0.01001,    0.011011,    0.012012,    0.013013,    0.014014,    0.015015,    0.016016,    0.017017,    0.018018,    0.019019,     0.02002,    0.021021,    0.022022,    0.023023,\n",
              "          0.024024,    0.025025,    0.026026,    0.027027,    0.028028,    0.029029,     0.03003,    0.031031,    0.032032,    0.033033,    0.034034,    0.035035,    0.036036,    0.037037,    0.038038,    0.039039,     0.04004,    0.041041,    0.042042,    0.043043,    0.044044,    0.045045,    0.046046,    0.047047,\n",
              "          0.048048,    0.049049,     0.05005,    0.051051,    0.052052,    0.053053,    0.054054,    0.055055,    0.056056,    0.057057,    0.058058,    0.059059,     0.06006,    0.061061,    0.062062,    0.063063,    0.064064,    0.065065,    0.066066,    0.067067,    0.068068,    0.069069,     0.07007,    0.071071,\n",
              "          0.072072,    0.073073,    0.074074,    0.075075,    0.076076,    0.077077,    0.078078,    0.079079,     0.08008,    0.081081,    0.082082,    0.083083,    0.084084,    0.085085,    0.086086,    0.087087,    0.088088,    0.089089,     0.09009,    0.091091,    0.092092,    0.093093,    0.094094,    0.095095,\n",
              "          0.096096,    0.097097,    0.098098,    0.099099,      0.1001,      0.1011,      0.1021,      0.1031,      0.1041,     0.10511,     0.10611,     0.10711,     0.10811,     0.10911,     0.11011,     0.11111,     0.11211,     0.11311,     0.11411,     0.11512,     0.11612,     0.11712,     0.11812,     0.11912,\n",
              "           0.12012,     0.12112,     0.12212,     0.12312,     0.12412,     0.12513,     0.12613,     0.12713,     0.12813,     0.12913,     0.13013,     0.13113,     0.13213,     0.13313,     0.13413,     0.13514,     0.13614,     0.13714,     0.13814,     0.13914,     0.14014,     0.14114,     0.14214,     0.14314,\n",
              "           0.14414,     0.14515,     0.14615,     0.14715,     0.14815,     0.14915,     0.15015,     0.15115,     0.15215,     0.15315,     0.15415,     0.15516,     0.15616,     0.15716,     0.15816,     0.15916,     0.16016,     0.16116,     0.16216,     0.16316,     0.16416,     0.16517,     0.16617,     0.16717,\n",
              "           0.16817,     0.16917,     0.17017,     0.17117,     0.17217,     0.17317,     0.17417,     0.17518,     0.17618,     0.17718,     0.17818,     0.17918,     0.18018,     0.18118,     0.18218,     0.18318,     0.18418,     0.18519,     0.18619,     0.18719,     0.18819,     0.18919,     0.19019,     0.19119,\n",
              "           0.19219,     0.19319,     0.19419,      0.1952,      0.1962,      0.1972,      0.1982,      0.1992,      0.2002,      0.2012,      0.2022,      0.2032,      0.2042,     0.20521,     0.20621,     0.20721,     0.20821,     0.20921,     0.21021,     0.21121,     0.21221,     0.21321,     0.21421,     0.21522,\n",
              "           0.21622,     0.21722,     0.21822,     0.21922,     0.22022,     0.22122,     0.22222,     0.22322,     0.22422,     0.22523,     0.22623,     0.22723,     0.22823,     0.22923,     0.23023,     0.23123,     0.23223,     0.23323,     0.23423,     0.23524,     0.23624,     0.23724,     0.23824,     0.23924,\n",
              "           0.24024,     0.24124,     0.24224,     0.24324,     0.24424,     0.24525,     0.24625,     0.24725,     0.24825,     0.24925,     0.25025,     0.25125,     0.25225,     0.25325,     0.25425,     0.25526,     0.25626,     0.25726,     0.25826,     0.25926,     0.26026,     0.26126,     0.26226,     0.26326,\n",
              "           0.26426,     0.26527,     0.26627,     0.26727,     0.26827,     0.26927,     0.27027,     0.27127,     0.27227,     0.27327,     0.27427,     0.27528,     0.27628,     0.27728,     0.27828,     0.27928,     0.28028,     0.28128,     0.28228,     0.28328,     0.28428,     0.28529,     0.28629,     0.28729,\n",
              "           0.28829,     0.28929,     0.29029,     0.29129,     0.29229,     0.29329,     0.29429,      0.2953,      0.2963,      0.2973,      0.2983,      0.2993,      0.3003,      0.3013,      0.3023,      0.3033,      0.3043,     0.30531,     0.30631,     0.30731,     0.30831,     0.30931,     0.31031,     0.31131,\n",
              "           0.31231,     0.31331,     0.31431,     0.31532,     0.31632,     0.31732,     0.31832,     0.31932,     0.32032,     0.32132,     0.32232,     0.32332,     0.32432,     0.32533,     0.32633,     0.32733,     0.32833,     0.32933,     0.33033,     0.33133,     0.33233,     0.33333,     0.33433,     0.33534,\n",
              "           0.33634,     0.33734,     0.33834,     0.33934,     0.34034,     0.34134,     0.34234,     0.34334,     0.34434,     0.34535,     0.34635,     0.34735,     0.34835,     0.34935,     0.35035,     0.35135,     0.35235,     0.35335,     0.35435,     0.35536,     0.35636,     0.35736,     0.35836,     0.35936,\n",
              "           0.36036,     0.36136,     0.36236,     0.36336,     0.36436,     0.36537,     0.36637,     0.36737,     0.36837,     0.36937,     0.37037,     0.37137,     0.37237,     0.37337,     0.37437,     0.37538,     0.37638,     0.37738,     0.37838,     0.37938,     0.38038,     0.38138,     0.38238,     0.38338,\n",
              "           0.38438,     0.38539,     0.38639,     0.38739,     0.38839,     0.38939,     0.39039,     0.39139,     0.39239,     0.39339,     0.39439,      0.3954,      0.3964,      0.3974,      0.3984,      0.3994,      0.4004,      0.4014,      0.4024,      0.4034,      0.4044,     0.40541,     0.40641,     0.40741,\n",
              "           0.40841,     0.40941,     0.41041,     0.41141,     0.41241,     0.41341,     0.41441,     0.41542,     0.41642,     0.41742,     0.41842,     0.41942,     0.42042,     0.42142,     0.42242,     0.42342,     0.42442,     0.42543,     0.42643,     0.42743,     0.42843,     0.42943,     0.43043,     0.43143,\n",
              "           0.43243,     0.43343,     0.43443,     0.43544,     0.43644,     0.43744,     0.43844,     0.43944,     0.44044,     0.44144,     0.44244,     0.44344,     0.44444,     0.44545,     0.44645,     0.44745,     0.44845,     0.44945,     0.45045,     0.45145,     0.45245,     0.45345,     0.45445,     0.45546,\n",
              "           0.45646,     0.45746,     0.45846,     0.45946,     0.46046,     0.46146,     0.46246,     0.46346,     0.46446,     0.46547,     0.46647,     0.46747,     0.46847,     0.46947,     0.47047,     0.47147,     0.47247,     0.47347,     0.47447,     0.47548,     0.47648,     0.47748,     0.47848,     0.47948,\n",
              "           0.48048,     0.48148,     0.48248,     0.48348,     0.48448,     0.48549,     0.48649,     0.48749,     0.48849,     0.48949,     0.49049,     0.49149,     0.49249,     0.49349,     0.49449,      0.4955,      0.4965,      0.4975,      0.4985,      0.4995,      0.5005,      0.5015,      0.5025,      0.5035,\n",
              "            0.5045,     0.50551,     0.50651,     0.50751,     0.50851,     0.50951,     0.51051,     0.51151,     0.51251,     0.51351,     0.51451,     0.51552,     0.51652,     0.51752,     0.51852,     0.51952,     0.52052,     0.52152,     0.52252,     0.52352,     0.52452,     0.52553,     0.52653,     0.52753,\n",
              "           0.52853,     0.52953,     0.53053,     0.53153,     0.53253,     0.53353,     0.53453,     0.53554,     0.53654,     0.53754,     0.53854,     0.53954,     0.54054,     0.54154,     0.54254,     0.54354,     0.54454,     0.54555,     0.54655,     0.54755,     0.54855,     0.54955,     0.55055,     0.55155,\n",
              "           0.55255,     0.55355,     0.55455,     0.55556,     0.55656,     0.55756,     0.55856,     0.55956,     0.56056,     0.56156,     0.56256,     0.56356,     0.56456,     0.56557,     0.56657,     0.56757,     0.56857,     0.56957,     0.57057,     0.57157,     0.57257,     0.57357,     0.57457,     0.57558,\n",
              "           0.57658,     0.57758,     0.57858,     0.57958,     0.58058,     0.58158,     0.58258,     0.58358,     0.58458,     0.58559,     0.58659,     0.58759,     0.58859,     0.58959,     0.59059,     0.59159,     0.59259,     0.59359,     0.59459,      0.5956,      0.5966,      0.5976,      0.5986,      0.5996,\n",
              "            0.6006,      0.6016,      0.6026,      0.6036,      0.6046,     0.60561,     0.60661,     0.60761,     0.60861,     0.60961,     0.61061,     0.61161,     0.61261,     0.61361,     0.61461,     0.61562,     0.61662,     0.61762,     0.61862,     0.61962,     0.62062,     0.62162,     0.62262,     0.62362,\n",
              "           0.62462,     0.62563,     0.62663,     0.62763,     0.62863,     0.62963,     0.63063,     0.63163,     0.63263,     0.63363,     0.63463,     0.63564,     0.63664,     0.63764,     0.63864,     0.63964,     0.64064,     0.64164,     0.64264,     0.64364,     0.64464,     0.64565,     0.64665,     0.64765,\n",
              "           0.64865,     0.64965,     0.65065,     0.65165,     0.65265,     0.65365,     0.65465,     0.65566,     0.65666,     0.65766,     0.65866,     0.65966,     0.66066,     0.66166,     0.66266,     0.66366,     0.66466,     0.66567,     0.66667,     0.66767,     0.66867,     0.66967,     0.67067,     0.67167,\n",
              "           0.67267,     0.67367,     0.67467,     0.67568,     0.67668,     0.67768,     0.67868,     0.67968,     0.68068,     0.68168,     0.68268,     0.68368,     0.68468,     0.68569,     0.68669,     0.68769,     0.68869,     0.68969,     0.69069,     0.69169,     0.69269,     0.69369,     0.69469,      0.6957,\n",
              "            0.6967,      0.6977,      0.6987,      0.6997,      0.7007,      0.7017,      0.7027,      0.7037,      0.7047,     0.70571,     0.70671,     0.70771,     0.70871,     0.70971,     0.71071,     0.71171,     0.71271,     0.71371,     0.71471,     0.71572,     0.71672,     0.71772,     0.71872,     0.71972,\n",
              "           0.72072,     0.72172,     0.72272,     0.72372,     0.72472,     0.72573,     0.72673,     0.72773,     0.72873,     0.72973,     0.73073,     0.73173,     0.73273,     0.73373,     0.73473,     0.73574,     0.73674,     0.73774,     0.73874,     0.73974,     0.74074,     0.74174,     0.74274,     0.74374,\n",
              "           0.74474,     0.74575,     0.74675,     0.74775,     0.74875,     0.74975,     0.75075,     0.75175,     0.75275,     0.75375,     0.75475,     0.75576,     0.75676,     0.75776,     0.75876,     0.75976,     0.76076,     0.76176,     0.76276,     0.76376,     0.76476,     0.76577,     0.76677,     0.76777,\n",
              "           0.76877,     0.76977,     0.77077,     0.77177,     0.77277,     0.77377,     0.77477,     0.77578,     0.77678,     0.77778,     0.77878,     0.77978,     0.78078,     0.78178,     0.78278,     0.78378,     0.78478,     0.78579,     0.78679,     0.78779,     0.78879,     0.78979,     0.79079,     0.79179,\n",
              "           0.79279,     0.79379,     0.79479,      0.7958,      0.7968,      0.7978,      0.7988,      0.7998,      0.8008,      0.8018,      0.8028,      0.8038,      0.8048,     0.80581,     0.80681,     0.80781,     0.80881,     0.80981,     0.81081,     0.81181,     0.81281,     0.81381,     0.81481,     0.81582,\n",
              "           0.81682,     0.81782,     0.81882,     0.81982,     0.82082,     0.82182,     0.82282,     0.82382,     0.82482,     0.82583,     0.82683,     0.82783,     0.82883,     0.82983,     0.83083,     0.83183,     0.83283,     0.83383,     0.83483,     0.83584,     0.83684,     0.83784,     0.83884,     0.83984,\n",
              "           0.84084,     0.84184,     0.84284,     0.84384,     0.84484,     0.84585,     0.84685,     0.84785,     0.84885,     0.84985,     0.85085,     0.85185,     0.85285,     0.85385,     0.85485,     0.85586,     0.85686,     0.85786,     0.85886,     0.85986,     0.86086,     0.86186,     0.86286,     0.86386,\n",
              "           0.86486,     0.86587,     0.86687,     0.86787,     0.86887,     0.86987,     0.87087,     0.87187,     0.87287,     0.87387,     0.87487,     0.87588,     0.87688,     0.87788,     0.87888,     0.87988,     0.88088,     0.88188,     0.88288,     0.88388,     0.88488,     0.88589,     0.88689,     0.88789,\n",
              "           0.88889,     0.88989,     0.89089,     0.89189,     0.89289,     0.89389,     0.89489,      0.8959,      0.8969,      0.8979,      0.8989,      0.8999,      0.9009,      0.9019,      0.9029,      0.9039,      0.9049,     0.90591,     0.90691,     0.90791,     0.90891,     0.90991,     0.91091,     0.91191,\n",
              "           0.91291,     0.91391,     0.91491,     0.91592,     0.91692,     0.91792,     0.91892,     0.91992,     0.92092,     0.92192,     0.92292,     0.92392,     0.92492,     0.92593,     0.92693,     0.92793,     0.92893,     0.92993,     0.93093,     0.93193,     0.93293,     0.93393,     0.93493,     0.93594,\n",
              "           0.93694,     0.93794,     0.93894,     0.93994,     0.94094,     0.94194,     0.94294,     0.94394,     0.94494,     0.94595,     0.94695,     0.94795,     0.94895,     0.94995,     0.95095,     0.95195,     0.95295,     0.95395,     0.95495,     0.95596,     0.95696,     0.95796,     0.95896,     0.95996,\n",
              "           0.96096,     0.96196,     0.96296,     0.96396,     0.96496,     0.96597,     0.96697,     0.96797,     0.96897,     0.96997,     0.97097,     0.97197,     0.97297,     0.97397,     0.97497,     0.97598,     0.97698,     0.97798,     0.97898,     0.97998,     0.98098,     0.98198,     0.98298,     0.98398,\n",
              "           0.98498,     0.98599,     0.98699,     0.98799,     0.98899,     0.98999,     0.99099,     0.99199,     0.99299,     0.99399,     0.99499,       0.996,       0.997,       0.998,       0.999,           1]), array([[    0.15125,     0.15125,     0.24839, ...,           0,           0,           0],\n",
              "       [    0.12637,     0.12637,     0.18304, ...,           0,           0,           0]]), 'Confidence', 'F1'], [array([          0,    0.001001,    0.002002,    0.003003,    0.004004,    0.005005,    0.006006,    0.007007,    0.008008,    0.009009,     0.01001,    0.011011,    0.012012,    0.013013,    0.014014,    0.015015,    0.016016,    0.017017,    0.018018,    0.019019,     0.02002,    0.021021,    0.022022,    0.023023,\n",
              "          0.024024,    0.025025,    0.026026,    0.027027,    0.028028,    0.029029,     0.03003,    0.031031,    0.032032,    0.033033,    0.034034,    0.035035,    0.036036,    0.037037,    0.038038,    0.039039,     0.04004,    0.041041,    0.042042,    0.043043,    0.044044,    0.045045,    0.046046,    0.047047,\n",
              "          0.048048,    0.049049,     0.05005,    0.051051,    0.052052,    0.053053,    0.054054,    0.055055,    0.056056,    0.057057,    0.058058,    0.059059,     0.06006,    0.061061,    0.062062,    0.063063,    0.064064,    0.065065,    0.066066,    0.067067,    0.068068,    0.069069,     0.07007,    0.071071,\n",
              "          0.072072,    0.073073,    0.074074,    0.075075,    0.076076,    0.077077,    0.078078,    0.079079,     0.08008,    0.081081,    0.082082,    0.083083,    0.084084,    0.085085,    0.086086,    0.087087,    0.088088,    0.089089,     0.09009,    0.091091,    0.092092,    0.093093,    0.094094,    0.095095,\n",
              "          0.096096,    0.097097,    0.098098,    0.099099,      0.1001,      0.1011,      0.1021,      0.1031,      0.1041,     0.10511,     0.10611,     0.10711,     0.10811,     0.10911,     0.11011,     0.11111,     0.11211,     0.11311,     0.11411,     0.11512,     0.11612,     0.11712,     0.11812,     0.11912,\n",
              "           0.12012,     0.12112,     0.12212,     0.12312,     0.12412,     0.12513,     0.12613,     0.12713,     0.12813,     0.12913,     0.13013,     0.13113,     0.13213,     0.13313,     0.13413,     0.13514,     0.13614,     0.13714,     0.13814,     0.13914,     0.14014,     0.14114,     0.14214,     0.14314,\n",
              "           0.14414,     0.14515,     0.14615,     0.14715,     0.14815,     0.14915,     0.15015,     0.15115,     0.15215,     0.15315,     0.15415,     0.15516,     0.15616,     0.15716,     0.15816,     0.15916,     0.16016,     0.16116,     0.16216,     0.16316,     0.16416,     0.16517,     0.16617,     0.16717,\n",
              "           0.16817,     0.16917,     0.17017,     0.17117,     0.17217,     0.17317,     0.17417,     0.17518,     0.17618,     0.17718,     0.17818,     0.17918,     0.18018,     0.18118,     0.18218,     0.18318,     0.18418,     0.18519,     0.18619,     0.18719,     0.18819,     0.18919,     0.19019,     0.19119,\n",
              "           0.19219,     0.19319,     0.19419,      0.1952,      0.1962,      0.1972,      0.1982,      0.1992,      0.2002,      0.2012,      0.2022,      0.2032,      0.2042,     0.20521,     0.20621,     0.20721,     0.20821,     0.20921,     0.21021,     0.21121,     0.21221,     0.21321,     0.21421,     0.21522,\n",
              "           0.21622,     0.21722,     0.21822,     0.21922,     0.22022,     0.22122,     0.22222,     0.22322,     0.22422,     0.22523,     0.22623,     0.22723,     0.22823,     0.22923,     0.23023,     0.23123,     0.23223,     0.23323,     0.23423,     0.23524,     0.23624,     0.23724,     0.23824,     0.23924,\n",
              "           0.24024,     0.24124,     0.24224,     0.24324,     0.24424,     0.24525,     0.24625,     0.24725,     0.24825,     0.24925,     0.25025,     0.25125,     0.25225,     0.25325,     0.25425,     0.25526,     0.25626,     0.25726,     0.25826,     0.25926,     0.26026,     0.26126,     0.26226,     0.26326,\n",
              "           0.26426,     0.26527,     0.26627,     0.26727,     0.26827,     0.26927,     0.27027,     0.27127,     0.27227,     0.27327,     0.27427,     0.27528,     0.27628,     0.27728,     0.27828,     0.27928,     0.28028,     0.28128,     0.28228,     0.28328,     0.28428,     0.28529,     0.28629,     0.28729,\n",
              "           0.28829,     0.28929,     0.29029,     0.29129,     0.29229,     0.29329,     0.29429,      0.2953,      0.2963,      0.2973,      0.2983,      0.2993,      0.3003,      0.3013,      0.3023,      0.3033,      0.3043,     0.30531,     0.30631,     0.30731,     0.30831,     0.30931,     0.31031,     0.31131,\n",
              "           0.31231,     0.31331,     0.31431,     0.31532,     0.31632,     0.31732,     0.31832,     0.31932,     0.32032,     0.32132,     0.32232,     0.32332,     0.32432,     0.32533,     0.32633,     0.32733,     0.32833,     0.32933,     0.33033,     0.33133,     0.33233,     0.33333,     0.33433,     0.33534,\n",
              "           0.33634,     0.33734,     0.33834,     0.33934,     0.34034,     0.34134,     0.34234,     0.34334,     0.34434,     0.34535,     0.34635,     0.34735,     0.34835,     0.34935,     0.35035,     0.35135,     0.35235,     0.35335,     0.35435,     0.35536,     0.35636,     0.35736,     0.35836,     0.35936,\n",
              "           0.36036,     0.36136,     0.36236,     0.36336,     0.36436,     0.36537,     0.36637,     0.36737,     0.36837,     0.36937,     0.37037,     0.37137,     0.37237,     0.37337,     0.37437,     0.37538,     0.37638,     0.37738,     0.37838,     0.37938,     0.38038,     0.38138,     0.38238,     0.38338,\n",
              "           0.38438,     0.38539,     0.38639,     0.38739,     0.38839,     0.38939,     0.39039,     0.39139,     0.39239,     0.39339,     0.39439,      0.3954,      0.3964,      0.3974,      0.3984,      0.3994,      0.4004,      0.4014,      0.4024,      0.4034,      0.4044,     0.40541,     0.40641,     0.40741,\n",
              "           0.40841,     0.40941,     0.41041,     0.41141,     0.41241,     0.41341,     0.41441,     0.41542,     0.41642,     0.41742,     0.41842,     0.41942,     0.42042,     0.42142,     0.42242,     0.42342,     0.42442,     0.42543,     0.42643,     0.42743,     0.42843,     0.42943,     0.43043,     0.43143,\n",
              "           0.43243,     0.43343,     0.43443,     0.43544,     0.43644,     0.43744,     0.43844,     0.43944,     0.44044,     0.44144,     0.44244,     0.44344,     0.44444,     0.44545,     0.44645,     0.44745,     0.44845,     0.44945,     0.45045,     0.45145,     0.45245,     0.45345,     0.45445,     0.45546,\n",
              "           0.45646,     0.45746,     0.45846,     0.45946,     0.46046,     0.46146,     0.46246,     0.46346,     0.46446,     0.46547,     0.46647,     0.46747,     0.46847,     0.46947,     0.47047,     0.47147,     0.47247,     0.47347,     0.47447,     0.47548,     0.47648,     0.47748,     0.47848,     0.47948,\n",
              "           0.48048,     0.48148,     0.48248,     0.48348,     0.48448,     0.48549,     0.48649,     0.48749,     0.48849,     0.48949,     0.49049,     0.49149,     0.49249,     0.49349,     0.49449,      0.4955,      0.4965,      0.4975,      0.4985,      0.4995,      0.5005,      0.5015,      0.5025,      0.5035,\n",
              "            0.5045,     0.50551,     0.50651,     0.50751,     0.50851,     0.50951,     0.51051,     0.51151,     0.51251,     0.51351,     0.51451,     0.51552,     0.51652,     0.51752,     0.51852,     0.51952,     0.52052,     0.52152,     0.52252,     0.52352,     0.52452,     0.52553,     0.52653,     0.52753,\n",
              "           0.52853,     0.52953,     0.53053,     0.53153,     0.53253,     0.53353,     0.53453,     0.53554,     0.53654,     0.53754,     0.53854,     0.53954,     0.54054,     0.54154,     0.54254,     0.54354,     0.54454,     0.54555,     0.54655,     0.54755,     0.54855,     0.54955,     0.55055,     0.55155,\n",
              "           0.55255,     0.55355,     0.55455,     0.55556,     0.55656,     0.55756,     0.55856,     0.55956,     0.56056,     0.56156,     0.56256,     0.56356,     0.56456,     0.56557,     0.56657,     0.56757,     0.56857,     0.56957,     0.57057,     0.57157,     0.57257,     0.57357,     0.57457,     0.57558,\n",
              "           0.57658,     0.57758,     0.57858,     0.57958,     0.58058,     0.58158,     0.58258,     0.58358,     0.58458,     0.58559,     0.58659,     0.58759,     0.58859,     0.58959,     0.59059,     0.59159,     0.59259,     0.59359,     0.59459,      0.5956,      0.5966,      0.5976,      0.5986,      0.5996,\n",
              "            0.6006,      0.6016,      0.6026,      0.6036,      0.6046,     0.60561,     0.60661,     0.60761,     0.60861,     0.60961,     0.61061,     0.61161,     0.61261,     0.61361,     0.61461,     0.61562,     0.61662,     0.61762,     0.61862,     0.61962,     0.62062,     0.62162,     0.62262,     0.62362,\n",
              "           0.62462,     0.62563,     0.62663,     0.62763,     0.62863,     0.62963,     0.63063,     0.63163,     0.63263,     0.63363,     0.63463,     0.63564,     0.63664,     0.63764,     0.63864,     0.63964,     0.64064,     0.64164,     0.64264,     0.64364,     0.64464,     0.64565,     0.64665,     0.64765,\n",
              "           0.64865,     0.64965,     0.65065,     0.65165,     0.65265,     0.65365,     0.65465,     0.65566,     0.65666,     0.65766,     0.65866,     0.65966,     0.66066,     0.66166,     0.66266,     0.66366,     0.66466,     0.66567,     0.66667,     0.66767,     0.66867,     0.66967,     0.67067,     0.67167,\n",
              "           0.67267,     0.67367,     0.67467,     0.67568,     0.67668,     0.67768,     0.67868,     0.67968,     0.68068,     0.68168,     0.68268,     0.68368,     0.68468,     0.68569,     0.68669,     0.68769,     0.68869,     0.68969,     0.69069,     0.69169,     0.69269,     0.69369,     0.69469,      0.6957,\n",
              "            0.6967,      0.6977,      0.6987,      0.6997,      0.7007,      0.7017,      0.7027,      0.7037,      0.7047,     0.70571,     0.70671,     0.70771,     0.70871,     0.70971,     0.71071,     0.71171,     0.71271,     0.71371,     0.71471,     0.71572,     0.71672,     0.71772,     0.71872,     0.71972,\n",
              "           0.72072,     0.72172,     0.72272,     0.72372,     0.72472,     0.72573,     0.72673,     0.72773,     0.72873,     0.72973,     0.73073,     0.73173,     0.73273,     0.73373,     0.73473,     0.73574,     0.73674,     0.73774,     0.73874,     0.73974,     0.74074,     0.74174,     0.74274,     0.74374,\n",
              "           0.74474,     0.74575,     0.74675,     0.74775,     0.74875,     0.74975,     0.75075,     0.75175,     0.75275,     0.75375,     0.75475,     0.75576,     0.75676,     0.75776,     0.75876,     0.75976,     0.76076,     0.76176,     0.76276,     0.76376,     0.76476,     0.76577,     0.76677,     0.76777,\n",
              "           0.76877,     0.76977,     0.77077,     0.77177,     0.77277,     0.77377,     0.77477,     0.77578,     0.77678,     0.77778,     0.77878,     0.77978,     0.78078,     0.78178,     0.78278,     0.78378,     0.78478,     0.78579,     0.78679,     0.78779,     0.78879,     0.78979,     0.79079,     0.79179,\n",
              "           0.79279,     0.79379,     0.79479,      0.7958,      0.7968,      0.7978,      0.7988,      0.7998,      0.8008,      0.8018,      0.8028,      0.8038,      0.8048,     0.80581,     0.80681,     0.80781,     0.80881,     0.80981,     0.81081,     0.81181,     0.81281,     0.81381,     0.81481,     0.81582,\n",
              "           0.81682,     0.81782,     0.81882,     0.81982,     0.82082,     0.82182,     0.82282,     0.82382,     0.82482,     0.82583,     0.82683,     0.82783,     0.82883,     0.82983,     0.83083,     0.83183,     0.83283,     0.83383,     0.83483,     0.83584,     0.83684,     0.83784,     0.83884,     0.83984,\n",
              "           0.84084,     0.84184,     0.84284,     0.84384,     0.84484,     0.84585,     0.84685,     0.84785,     0.84885,     0.84985,     0.85085,     0.85185,     0.85285,     0.85385,     0.85485,     0.85586,     0.85686,     0.85786,     0.85886,     0.85986,     0.86086,     0.86186,     0.86286,     0.86386,\n",
              "           0.86486,     0.86587,     0.86687,     0.86787,     0.86887,     0.86987,     0.87087,     0.87187,     0.87287,     0.87387,     0.87487,     0.87588,     0.87688,     0.87788,     0.87888,     0.87988,     0.88088,     0.88188,     0.88288,     0.88388,     0.88488,     0.88589,     0.88689,     0.88789,\n",
              "           0.88889,     0.88989,     0.89089,     0.89189,     0.89289,     0.89389,     0.89489,      0.8959,      0.8969,      0.8979,      0.8989,      0.8999,      0.9009,      0.9019,      0.9029,      0.9039,      0.9049,     0.90591,     0.90691,     0.90791,     0.90891,     0.90991,     0.91091,     0.91191,\n",
              "           0.91291,     0.91391,     0.91491,     0.91592,     0.91692,     0.91792,     0.91892,     0.91992,     0.92092,     0.92192,     0.92292,     0.92392,     0.92492,     0.92593,     0.92693,     0.92793,     0.92893,     0.92993,     0.93093,     0.93193,     0.93293,     0.93393,     0.93493,     0.93594,\n",
              "           0.93694,     0.93794,     0.93894,     0.93994,     0.94094,     0.94194,     0.94294,     0.94394,     0.94494,     0.94595,     0.94695,     0.94795,     0.94895,     0.94995,     0.95095,     0.95195,     0.95295,     0.95395,     0.95495,     0.95596,     0.95696,     0.95796,     0.95896,     0.95996,\n",
              "           0.96096,     0.96196,     0.96296,     0.96396,     0.96496,     0.96597,     0.96697,     0.96797,     0.96897,     0.96997,     0.97097,     0.97197,     0.97297,     0.97397,     0.97497,     0.97598,     0.97698,     0.97798,     0.97898,     0.97998,     0.98098,     0.98198,     0.98298,     0.98398,\n",
              "           0.98498,     0.98599,     0.98699,     0.98799,     0.98899,     0.98999,     0.99099,     0.99199,     0.99299,     0.99399,     0.99499,       0.996,       0.997,       0.998,       0.999,           1]), array([[   0.081994,    0.081994,     0.14255, ...,           1,           1,           1],\n",
              "       [   0.067547,    0.067547,     0.10097, ...,           1,           1,           1]]), 'Confidence', 'Precision'], [array([          0,    0.001001,    0.002002,    0.003003,    0.004004,    0.005005,    0.006006,    0.007007,    0.008008,    0.009009,     0.01001,    0.011011,    0.012012,    0.013013,    0.014014,    0.015015,    0.016016,    0.017017,    0.018018,    0.019019,     0.02002,    0.021021,    0.022022,    0.023023,\n",
              "          0.024024,    0.025025,    0.026026,    0.027027,    0.028028,    0.029029,     0.03003,    0.031031,    0.032032,    0.033033,    0.034034,    0.035035,    0.036036,    0.037037,    0.038038,    0.039039,     0.04004,    0.041041,    0.042042,    0.043043,    0.044044,    0.045045,    0.046046,    0.047047,\n",
              "          0.048048,    0.049049,     0.05005,    0.051051,    0.052052,    0.053053,    0.054054,    0.055055,    0.056056,    0.057057,    0.058058,    0.059059,     0.06006,    0.061061,    0.062062,    0.063063,    0.064064,    0.065065,    0.066066,    0.067067,    0.068068,    0.069069,     0.07007,    0.071071,\n",
              "          0.072072,    0.073073,    0.074074,    0.075075,    0.076076,    0.077077,    0.078078,    0.079079,     0.08008,    0.081081,    0.082082,    0.083083,    0.084084,    0.085085,    0.086086,    0.087087,    0.088088,    0.089089,     0.09009,    0.091091,    0.092092,    0.093093,    0.094094,    0.095095,\n",
              "          0.096096,    0.097097,    0.098098,    0.099099,      0.1001,      0.1011,      0.1021,      0.1031,      0.1041,     0.10511,     0.10611,     0.10711,     0.10811,     0.10911,     0.11011,     0.11111,     0.11211,     0.11311,     0.11411,     0.11512,     0.11612,     0.11712,     0.11812,     0.11912,\n",
              "           0.12012,     0.12112,     0.12212,     0.12312,     0.12412,     0.12513,     0.12613,     0.12713,     0.12813,     0.12913,     0.13013,     0.13113,     0.13213,     0.13313,     0.13413,     0.13514,     0.13614,     0.13714,     0.13814,     0.13914,     0.14014,     0.14114,     0.14214,     0.14314,\n",
              "           0.14414,     0.14515,     0.14615,     0.14715,     0.14815,     0.14915,     0.15015,     0.15115,     0.15215,     0.15315,     0.15415,     0.15516,     0.15616,     0.15716,     0.15816,     0.15916,     0.16016,     0.16116,     0.16216,     0.16316,     0.16416,     0.16517,     0.16617,     0.16717,\n",
              "           0.16817,     0.16917,     0.17017,     0.17117,     0.17217,     0.17317,     0.17417,     0.17518,     0.17618,     0.17718,     0.17818,     0.17918,     0.18018,     0.18118,     0.18218,     0.18318,     0.18418,     0.18519,     0.18619,     0.18719,     0.18819,     0.18919,     0.19019,     0.19119,\n",
              "           0.19219,     0.19319,     0.19419,      0.1952,      0.1962,      0.1972,      0.1982,      0.1992,      0.2002,      0.2012,      0.2022,      0.2032,      0.2042,     0.20521,     0.20621,     0.20721,     0.20821,     0.20921,     0.21021,     0.21121,     0.21221,     0.21321,     0.21421,     0.21522,\n",
              "           0.21622,     0.21722,     0.21822,     0.21922,     0.22022,     0.22122,     0.22222,     0.22322,     0.22422,     0.22523,     0.22623,     0.22723,     0.22823,     0.22923,     0.23023,     0.23123,     0.23223,     0.23323,     0.23423,     0.23524,     0.23624,     0.23724,     0.23824,     0.23924,\n",
              "           0.24024,     0.24124,     0.24224,     0.24324,     0.24424,     0.24525,     0.24625,     0.24725,     0.24825,     0.24925,     0.25025,     0.25125,     0.25225,     0.25325,     0.25425,     0.25526,     0.25626,     0.25726,     0.25826,     0.25926,     0.26026,     0.26126,     0.26226,     0.26326,\n",
              "           0.26426,     0.26527,     0.26627,     0.26727,     0.26827,     0.26927,     0.27027,     0.27127,     0.27227,     0.27327,     0.27427,     0.27528,     0.27628,     0.27728,     0.27828,     0.27928,     0.28028,     0.28128,     0.28228,     0.28328,     0.28428,     0.28529,     0.28629,     0.28729,\n",
              "           0.28829,     0.28929,     0.29029,     0.29129,     0.29229,     0.29329,     0.29429,      0.2953,      0.2963,      0.2973,      0.2983,      0.2993,      0.3003,      0.3013,      0.3023,      0.3033,      0.3043,     0.30531,     0.30631,     0.30731,     0.30831,     0.30931,     0.31031,     0.31131,\n",
              "           0.31231,     0.31331,     0.31431,     0.31532,     0.31632,     0.31732,     0.31832,     0.31932,     0.32032,     0.32132,     0.32232,     0.32332,     0.32432,     0.32533,     0.32633,     0.32733,     0.32833,     0.32933,     0.33033,     0.33133,     0.33233,     0.33333,     0.33433,     0.33534,\n",
              "           0.33634,     0.33734,     0.33834,     0.33934,     0.34034,     0.34134,     0.34234,     0.34334,     0.34434,     0.34535,     0.34635,     0.34735,     0.34835,     0.34935,     0.35035,     0.35135,     0.35235,     0.35335,     0.35435,     0.35536,     0.35636,     0.35736,     0.35836,     0.35936,\n",
              "           0.36036,     0.36136,     0.36236,     0.36336,     0.36436,     0.36537,     0.36637,     0.36737,     0.36837,     0.36937,     0.37037,     0.37137,     0.37237,     0.37337,     0.37437,     0.37538,     0.37638,     0.37738,     0.37838,     0.37938,     0.38038,     0.38138,     0.38238,     0.38338,\n",
              "           0.38438,     0.38539,     0.38639,     0.38739,     0.38839,     0.38939,     0.39039,     0.39139,     0.39239,     0.39339,     0.39439,      0.3954,      0.3964,      0.3974,      0.3984,      0.3994,      0.4004,      0.4014,      0.4024,      0.4034,      0.4044,     0.40541,     0.40641,     0.40741,\n",
              "           0.40841,     0.40941,     0.41041,     0.41141,     0.41241,     0.41341,     0.41441,     0.41542,     0.41642,     0.41742,     0.41842,     0.41942,     0.42042,     0.42142,     0.42242,     0.42342,     0.42442,     0.42543,     0.42643,     0.42743,     0.42843,     0.42943,     0.43043,     0.43143,\n",
              "           0.43243,     0.43343,     0.43443,     0.43544,     0.43644,     0.43744,     0.43844,     0.43944,     0.44044,     0.44144,     0.44244,     0.44344,     0.44444,     0.44545,     0.44645,     0.44745,     0.44845,     0.44945,     0.45045,     0.45145,     0.45245,     0.45345,     0.45445,     0.45546,\n",
              "           0.45646,     0.45746,     0.45846,     0.45946,     0.46046,     0.46146,     0.46246,     0.46346,     0.46446,     0.46547,     0.46647,     0.46747,     0.46847,     0.46947,     0.47047,     0.47147,     0.47247,     0.47347,     0.47447,     0.47548,     0.47648,     0.47748,     0.47848,     0.47948,\n",
              "           0.48048,     0.48148,     0.48248,     0.48348,     0.48448,     0.48549,     0.48649,     0.48749,     0.48849,     0.48949,     0.49049,     0.49149,     0.49249,     0.49349,     0.49449,      0.4955,      0.4965,      0.4975,      0.4985,      0.4995,      0.5005,      0.5015,      0.5025,      0.5035,\n",
              "            0.5045,     0.50551,     0.50651,     0.50751,     0.50851,     0.50951,     0.51051,     0.51151,     0.51251,     0.51351,     0.51451,     0.51552,     0.51652,     0.51752,     0.51852,     0.51952,     0.52052,     0.52152,     0.52252,     0.52352,     0.52452,     0.52553,     0.52653,     0.52753,\n",
              "           0.52853,     0.52953,     0.53053,     0.53153,     0.53253,     0.53353,     0.53453,     0.53554,     0.53654,     0.53754,     0.53854,     0.53954,     0.54054,     0.54154,     0.54254,     0.54354,     0.54454,     0.54555,     0.54655,     0.54755,     0.54855,     0.54955,     0.55055,     0.55155,\n",
              "           0.55255,     0.55355,     0.55455,     0.55556,     0.55656,     0.55756,     0.55856,     0.55956,     0.56056,     0.56156,     0.56256,     0.56356,     0.56456,     0.56557,     0.56657,     0.56757,     0.56857,     0.56957,     0.57057,     0.57157,     0.57257,     0.57357,     0.57457,     0.57558,\n",
              "           0.57658,     0.57758,     0.57858,     0.57958,     0.58058,     0.58158,     0.58258,     0.58358,     0.58458,     0.58559,     0.58659,     0.58759,     0.58859,     0.58959,     0.59059,     0.59159,     0.59259,     0.59359,     0.59459,      0.5956,      0.5966,      0.5976,      0.5986,      0.5996,\n",
              "            0.6006,      0.6016,      0.6026,      0.6036,      0.6046,     0.60561,     0.60661,     0.60761,     0.60861,     0.60961,     0.61061,     0.61161,     0.61261,     0.61361,     0.61461,     0.61562,     0.61662,     0.61762,     0.61862,     0.61962,     0.62062,     0.62162,     0.62262,     0.62362,\n",
              "           0.62462,     0.62563,     0.62663,     0.62763,     0.62863,     0.62963,     0.63063,     0.63163,     0.63263,     0.63363,     0.63463,     0.63564,     0.63664,     0.63764,     0.63864,     0.63964,     0.64064,     0.64164,     0.64264,     0.64364,     0.64464,     0.64565,     0.64665,     0.64765,\n",
              "           0.64865,     0.64965,     0.65065,     0.65165,     0.65265,     0.65365,     0.65465,     0.65566,     0.65666,     0.65766,     0.65866,     0.65966,     0.66066,     0.66166,     0.66266,     0.66366,     0.66466,     0.66567,     0.66667,     0.66767,     0.66867,     0.66967,     0.67067,     0.67167,\n",
              "           0.67267,     0.67367,     0.67467,     0.67568,     0.67668,     0.67768,     0.67868,     0.67968,     0.68068,     0.68168,     0.68268,     0.68368,     0.68468,     0.68569,     0.68669,     0.68769,     0.68869,     0.68969,     0.69069,     0.69169,     0.69269,     0.69369,     0.69469,      0.6957,\n",
              "            0.6967,      0.6977,      0.6987,      0.6997,      0.7007,      0.7017,      0.7027,      0.7037,      0.7047,     0.70571,     0.70671,     0.70771,     0.70871,     0.70971,     0.71071,     0.71171,     0.71271,     0.71371,     0.71471,     0.71572,     0.71672,     0.71772,     0.71872,     0.71972,\n",
              "           0.72072,     0.72172,     0.72272,     0.72372,     0.72472,     0.72573,     0.72673,     0.72773,     0.72873,     0.72973,     0.73073,     0.73173,     0.73273,     0.73373,     0.73473,     0.73574,     0.73674,     0.73774,     0.73874,     0.73974,     0.74074,     0.74174,     0.74274,     0.74374,\n",
              "           0.74474,     0.74575,     0.74675,     0.74775,     0.74875,     0.74975,     0.75075,     0.75175,     0.75275,     0.75375,     0.75475,     0.75576,     0.75676,     0.75776,     0.75876,     0.75976,     0.76076,     0.76176,     0.76276,     0.76376,     0.76476,     0.76577,     0.76677,     0.76777,\n",
              "           0.76877,     0.76977,     0.77077,     0.77177,     0.77277,     0.77377,     0.77477,     0.77578,     0.77678,     0.77778,     0.77878,     0.77978,     0.78078,     0.78178,     0.78278,     0.78378,     0.78478,     0.78579,     0.78679,     0.78779,     0.78879,     0.78979,     0.79079,     0.79179,\n",
              "           0.79279,     0.79379,     0.79479,      0.7958,      0.7968,      0.7978,      0.7988,      0.7998,      0.8008,      0.8018,      0.8028,      0.8038,      0.8048,     0.80581,     0.80681,     0.80781,     0.80881,     0.80981,     0.81081,     0.81181,     0.81281,     0.81381,     0.81481,     0.81582,\n",
              "           0.81682,     0.81782,     0.81882,     0.81982,     0.82082,     0.82182,     0.82282,     0.82382,     0.82482,     0.82583,     0.82683,     0.82783,     0.82883,     0.82983,     0.83083,     0.83183,     0.83283,     0.83383,     0.83483,     0.83584,     0.83684,     0.83784,     0.83884,     0.83984,\n",
              "           0.84084,     0.84184,     0.84284,     0.84384,     0.84484,     0.84585,     0.84685,     0.84785,     0.84885,     0.84985,     0.85085,     0.85185,     0.85285,     0.85385,     0.85485,     0.85586,     0.85686,     0.85786,     0.85886,     0.85986,     0.86086,     0.86186,     0.86286,     0.86386,\n",
              "           0.86486,     0.86587,     0.86687,     0.86787,     0.86887,     0.86987,     0.87087,     0.87187,     0.87287,     0.87387,     0.87487,     0.87588,     0.87688,     0.87788,     0.87888,     0.87988,     0.88088,     0.88188,     0.88288,     0.88388,     0.88488,     0.88589,     0.88689,     0.88789,\n",
              "           0.88889,     0.88989,     0.89089,     0.89189,     0.89289,     0.89389,     0.89489,      0.8959,      0.8969,      0.8979,      0.8989,      0.8999,      0.9009,      0.9019,      0.9029,      0.9039,      0.9049,     0.90591,     0.90691,     0.90791,     0.90891,     0.90991,     0.91091,     0.91191,\n",
              "           0.91291,     0.91391,     0.91491,     0.91592,     0.91692,     0.91792,     0.91892,     0.91992,     0.92092,     0.92192,     0.92292,     0.92392,     0.92492,     0.92593,     0.92693,     0.92793,     0.92893,     0.92993,     0.93093,     0.93193,     0.93293,     0.93393,     0.93493,     0.93594,\n",
              "           0.93694,     0.93794,     0.93894,     0.93994,     0.94094,     0.94194,     0.94294,     0.94394,     0.94494,     0.94595,     0.94695,     0.94795,     0.94895,     0.94995,     0.95095,     0.95195,     0.95295,     0.95395,     0.95495,     0.95596,     0.95696,     0.95796,     0.95896,     0.95996,\n",
              "           0.96096,     0.96196,     0.96296,     0.96396,     0.96496,     0.96597,     0.96697,     0.96797,     0.96897,     0.96997,     0.97097,     0.97197,     0.97297,     0.97397,     0.97497,     0.97598,     0.97698,     0.97798,     0.97898,     0.97998,     0.98098,     0.98198,     0.98298,     0.98398,\n",
              "           0.98498,     0.98599,     0.98699,     0.98799,     0.98899,     0.98999,     0.99099,     0.99199,     0.99299,     0.99399,     0.99499,       0.996,       0.997,       0.998,       0.999,           1]), array([[    0.97326,     0.97326,     0.96446, ...,           0,           0,           0],\n",
              "       [    0.97834,     0.97834,     0.97834, ...,           0,           0,           0]]), 'Confidence', 'Recall']]\n",
              "fitness: 0.7003978342618757\n",
              "keys: ['metrics/precision(B)', 'metrics/recall(B)', 'metrics/mAP50(B)', 'metrics/mAP50-95(B)']\n",
              "maps: array([     0.7205,     0.63598])\n",
              "names: {0: 'rat', 1: 'rabbit'}\n",
              "plot: True\n",
              "results_dict: {'metrics/precision(B)': 0.8780886448530203, 'metrics/recall(B)': 0.8138764340558584, 'metrics/mAP50(B)': 0.8997994267209495, 'metrics/mAP50-95(B)': 0.6782421017664231, 'fitness': 0.7003978342618757}\n",
              "save_dir: PosixPath('yolov8_rat/rodent_rat_detection')\n",
              "speed: {'preprocess': 0.6039962804508479, 'inference': 2.368374886544216, 'loss': 0.007163792932853735, 'postprocess': 2.330728121010567}\n",
              "task: 'detect'"
            ]
          },
          "metadata": {},
          "execution_count": 7
        }
      ]
    },
    {
      "cell_type": "code",
      "source": [
        "\n",
        "# Load the trained model\n",
        "model = YOLO('/content/yolov8_rat/rodent_rat_detection/weights/best.pt')  # Path to the best model weights\n"
      ],
      "metadata": {
        "id": "ov6scyj8fVui"
      },
      "execution_count": null,
      "outputs": []
    },
    {
      "cell_type": "code",
      "source": [
        "from pathlib import Path\n",
        "\n",
        "# Directory to save the results\n",
        "save_directory = Path('/content/rat-detect-1/test/results')\n",
        "save_directory.mkdir(parents=True, exist_ok=True)\n",
        "\n",
        "# Run inference on a directory of images\n",
        "results = model('/content/rat-detect-1/test/images')  # Directory containing multiple images\n",
        "\n",
        "# Loop through each result in the list and save it\n",
        "for i, result in enumerate(results):\n",
        "    save_path = save_directory / f'image_{i}.jpg'\n",
        "    result.plot(save=True, filename=str(save_path))\n"
      ],
      "metadata": {
        "colab": {
          "base_uri": "https://localhost:8080/"
        },
        "id": "VpYfoSVS23QC",
        "outputId": "58fd2e75-1fdf-485b-b90b-87049d23f46f"
      },
      "execution_count": null,
      "outputs": [
        {
          "output_type": "stream",
          "name": "stdout",
          "text": [
            "\n",
            "image 1/540 /content/rat-detect-1/test/images/011725-ratte-w3011_jpg.rf.39219f0968b382827a4b13552e289887.jpg: 640x640 5 rats, 13.6ms\n",
            "image 2/540 /content/rat-detect-1/test/images/110781663_6239ae308b_o_jpg.rf.b768d389d007ed29eaa49ae835ac3b65.jpg: 640x640 3 rats, 10.4ms\n",
            "image 3/540 /content/rat-detect-1/test/images/11250852375_a29790e1f0_o_jpg.rf.668af749ca858bba736d2f398113c210.jpg: 640x640 3 rats, 12.9ms\n",
            "image 4/540 /content/rat-detect-1/test/images/1200px-Ratte-Vache-w2986_jpg.rf.5d3c195e753611e945f5a456a8681b8f.jpg: 640x640 6 rats, 13.6ms\n",
            "image 5/540 /content/rat-detect-1/test/images/12_jpg.rf.c9457bbdd09ed4cbf53272b7ed60735e.jpg: 640x640 1 rabbit, 9.6ms\n",
            "image 6/540 /content/rat-detect-1/test/images/13510604243_e0e55e854e_o_jpg.rf.810c3d750eed49e3f2f9d45a04518bb0.jpg: 640x640 6 rats, 9.5ms\n",
            "image 7/540 /content/rat-detect-1/test/images/13560056985_dfbd8bfff5_o_jpg.rf.b86fe40e8f9063505f265e385fa8a6ba.jpg: 640x640 3 rats, 9.4ms\n",
            "image 8/540 /content/rat-detect-1/test/images/13560412474_c9b527c15c_o_jpg.rf.69de81643175ae365c6e0416bec09fd5.jpg: 640x640 1 rat, 1 rabbit, 9.3ms\n",
            "image 9/540 /content/rat-detect-1/test/images/13701380413_2645d34b92_c_jpg.rf.7036571d80db1eecea3aba8bf503362d.jpg: 640x640 2 rats, 8.7ms\n",
            "image 10/540 /content/rat-detect-1/test/images/14363295963_aeed434819_o_jpg.rf.ae22ac4ab4f8beda980cf9b4b4e32cf7.jpg: 640x640 5 rats, 8.7ms\n",
            "image 11/540 /content/rat-detect-1/test/images/15622099342_c1aa6c3cba_o_jpg.rf.de635979cc58994aa03e81ef4b10ed9f.jpg: 640x640 3 rats, 8.7ms\n",
            "image 12/540 /content/rat-detect-1/test/images/15882972_40ba14cc02_o_jpg.rf.f3415b52e13e0e70fb8226fd98174cf2.jpg: 640x640 4 rats, 8.7ms\n",
            "image 13/540 /content/rat-detect-1/test/images/16053539386_b94d7ca831_o_jpg.rf.77ab530a0756f75cbe3a588775ee2aac.jpg: 640x640 4 rats, 10.2ms\n",
            "image 14/540 /content/rat-detect-1/test/images/16053539386_b94d7ca831_o_jpg.rf.d2f019a65363eb3612d61dcbbe8c5857.jpg: 640x640 4 rats, 8.9ms\n",
            "image 15/540 /content/rat-detect-1/test/images/16835002993_d0d3379e48_o_jpg.rf.1b6415ff84a854069ae8b847ad1ba9b9.jpg: 640x640 5 rats, 8.7ms\n",
            "image 16/540 /content/rat-detect-1/test/images/16835002993_d0d3379e48_o_jpg.rf.9292d4f58f00896252992295d6f77e8d.jpg: 640x640 3 rats, 8.7ms\n",
            "image 17/540 /content/rat-detect-1/test/images/170307-1915-38630a0615cde950_jpg.rf.0c0ef1d1bc0d6e6ec3750f2a2923d99f.jpg: 640x640 1 rat, 1 rabbit, 8.8ms\n",
            "image 18/540 /content/rat-detect-1/test/images/17202434349_8bb359d993_o_jpg.rf.7c783d7ae1760fd644931662ae9b3f4b.jpg: 640x640 4 rats, 11.5ms\n",
            "image 19/540 /content/rat-detect-1/test/images/1865649755_bdec7d16f7_o_jpg.rf.f847f145e2a22ea4c798fdfab46e465f.jpg: 640x640 3 rats, 14.0ms\n",
            "image 20/540 /content/rat-detect-1/test/images/190207-rat-editorial_jpg.rf.5164ab696df226682c0315ee4344104e.jpg: 640x640 7 rats, 12.9ms\n",
            "image 21/540 /content/rat-detect-1/test/images/2263582507_fc1c701003_c_jpg.rf.2dc863335c70f98411173bd03160fe74.jpg: 640x640 4 rats, 13.3ms\n",
            "image 22/540 /content/rat-detect-1/test/images/2347765371_561a3ce559_o_jpg.rf.4e9974b55e2768090be675f23f1cf969.jpg: 640x640 4 rats, 10.0ms\n",
            "image 23/540 /content/rat-detect-1/test/images/2365679308_2e9eea45f3_o_jpg.rf.9ad3d6081b3778d9f9561f60905bb1be.jpg: 640x640 7 rats, 10.5ms\n",
            "image 24/540 /content/rat-detect-1/test/images/2429253847_cd95d9a3e7_o_jpg.rf.bf92f4446651ffaafadd761defab924b.jpg: 640x640 3 rats, 12.7ms\n",
            "image 25/540 /content/rat-detect-1/test/images/2751991948_96210e8505_c_jpg.rf.7a383e1db444614636a60d05d5523b68.jpg: 640x640 5 rats, 11.2ms\n",
            "image 26/540 /content/rat-detect-1/test/images/2751991948_96210e8505_c_jpg.rf.89f13e83ada390db67ef0c14c3e6bbb5.jpg: 640x640 3 rats, 10.8ms\n",
            "image 27/540 /content/rat-detect-1/test/images/2914286818_d3dcfa8842_o_jpg.rf.e22bf2362a649f52be21e727e25b796b.jpg: 640x640 4 rats, 8.8ms\n",
            "image 28/540 /content/rat-detect-1/test/images/2gkRAGKxb9gGpkNdBCTq36-1200-80_jpg.rf.46805111387923bd59df1316888b05f9.jpg: 640x640 4 rats, 8.7ms\n",
            "image 29/540 /content/rat-detect-1/test/images/3000-sydney_jpg.rf.024ded1b342d1b0c2c9ee2f5b3a6eb0b.jpg: 640x640 4 rats, 8.7ms\n",
            "image 30/540 /content/rat-detect-1/test/images/3036668341_dd373f9c05_o_jpg.rf.e5b1c631509b1b63f44fcad37cc0be4c.jpg: 640x640 4 rats, 7.9ms\n",
            "image 31/540 /content/rat-detect-1/test/images/30594401730_2a99c2c311_o_jpg.rf.0bc4eaaf0f2a399d1966602cbe9a6422.jpg: 640x640 4 rats, 8.7ms\n",
            "image 32/540 /content/rat-detect-1/test/images/31008616600_872f3695c8_o_jpg.rf.d394f4b8eeff89e72e2ba53396ea5841.jpg: 640x640 (no detections), 12.8ms\n",
            "image 33/540 /content/rat-detect-1/test/images/3210750_1_lightbox_peine-kleine-ratte-frisst-in-einer-parkanlage-in-berlin-abfall-foto-arno-burgi-archiv-p_jpg.rf.a672cc37895129f328879d55f52f2f3e.jpg: 640x640 4 rats, 8.9ms\n",
            "image 34/540 /content/rat-detect-1/test/images/321857840_623ccdba7d_o_jpg.rf.228cd342017ad48c23767920e503cdb1.jpg: 640x640 4 rats, 13.1ms\n",
            "image 35/540 /content/rat-detect-1/test/images/321857840_623ccdba7d_o_jpg.rf.2f8a61433cb2fe28055b0aae8198b265.jpg: 640x640 4 rats, 10.1ms\n",
            "image 36/540 /content/rat-detect-1/test/images/3334518575_43f44d19c8_o_jpg.rf.1079b265bc487bdc1c911550ea6259de.jpg: 640x640 2 rats, 9.7ms\n",
            "image 37/540 /content/rat-detect-1/test/images/33_jpg.rf.4ba489feb18f96a98d145d8989dfb420.jpg: 640x640 1 rabbit, 9.0ms\n",
            "image 38/540 /content/rat-detect-1/test/images/34528738666_91ccc22c7d_o_jpg.rf.f365aff6ddab37bf379518f1bd36eed6.jpg: 640x640 5 rats, 9.2ms\n",
            "image 39/540 /content/rat-detect-1/test/images/34943433904_394cd1bdae_o_jpg.rf.1ea67311ccb57395edef46ea0ac84d75.jpg: 640x640 3 rats, 9.0ms\n",
            "image 40/540 /content/rat-detect-1/test/images/34943433904_394cd1bdae_o_jpg.rf.db359962310f5452c7fabdb0745c99ae.jpg: 640x640 3 rats, 8.9ms\n",
            "image 41/540 /content/rat-detect-1/test/images/35554873642_6de941ee69_o_jpg.rf.5b90c93b57fc7648ab21e231a9e0c6b7.jpg: 640x640 6 rats, 9.2ms\n",
            "image 42/540 /content/rat-detect-1/test/images/35660886475_e4f807d685_c_jpg.rf.6efd5e15cf2bbf95a4e4d7eea565fca2.jpg: 640x640 2 rats, 1 rabbit, 11.3ms\n",
            "image 43/540 /content/rat-detect-1/test/images/38329669332_653860f058_o_jpg.rf.7e76e5016a9ef03e49293e897e584ec5.jpg: 640x640 7 rats, 12.7ms\n",
            "image 44/540 /content/rat-detect-1/test/images/40343559281_bfdf08f942_o_jpg.rf.1f70105ab1a8892fb7c55c3477cc4de6.jpg: 640x640 4 rats, 11.6ms\n",
            "image 45/540 /content/rat-detect-1/test/images/40398542115_cbc27768ed_o_jpg.rf.a9c48e4ca39be7ab7aa22e0ba0166a2f.jpg: 640x640 6 rats, 9.7ms\n",
            "image 46/540 /content/rat-detect-1/test/images/4078195808_23dae4cc59_o_jpg.rf.498579502874e3cf61604f8667abac8d.jpg: 640x640 4 rats, 9.5ms\n",
            "image 47/540 /content/rat-detect-1/test/images/4078195808_23dae4cc59_o_jpg.rf.aee9e8ef8a2d6bd5acfc7ecbf9350a62.jpg: 640x640 4 rats, 8.8ms\n",
            "image 48/540 /content/rat-detect-1/test/images/4338403085_052e8ed4ea_o_jpg.rf.13413588bcab394f017fc21a7e5c2973.jpg: 640x640 3 rats, 11.2ms\n",
            "image 49/540 /content/rat-detect-1/test/images/43709168441_e8a3220959_o_jpg.rf.36f9a18d6cda929f445028b18f374362.jpg: 640x640 4 rats, 8.9ms\n",
            "image 50/540 /content/rat-detect-1/test/images/445582286_cabcd802c3_o_jpg.rf.4ac047c8d1547638a7fa0c3f955687a6.jpg: 640x640 5 rats, 8.2ms\n",
            "image 51/540 /content/rat-detect-1/test/images/44954070535_c1b2d1b0c0_o_jpg.rf.d8b3fc08e9ad41a7efa44dd1c267fecc.jpg: 640x640 3 rats, 9.2ms\n",
            "image 52/540 /content/rat-detect-1/test/images/47391287482_8066ee252a_o_jpg.rf.4c0f20fc0c71ddde4b470922b5e7a4e1.jpg: 640x640 5 rats, 9.3ms\n",
            "image 53/540 /content/rat-detect-1/test/images/47699647161_1ddc489011_o_jpg.rf.acf4036ea785779fa72fbb31611a0325.jpg: 640x640 5 rats, 8.7ms\n",
            "image 54/540 /content/rat-detect-1/test/images/48733119156_ba5a9a3f26_o_jpg.rf.61c8a6e00723f814be134d70eb845086.jpg: 640x640 3 rats, 9.3ms\n",
            "image 55/540 /content/rat-detect-1/test/images/48733119156_ba5a9a3f26_o_jpg.rf.b2795dad05c3b7beafb6a0cc1e10b3de.jpg: 640x640 5 rats, 8.9ms\n",
            "image 56/540 /content/rat-detect-1/test/images/49188420621_805684004f_o_jpg.rf.79dae7e858d0495e6312ab7369541da2.jpg: 640x640 4 rats, 10.6ms\n",
            "image 57/540 /content/rat-detect-1/test/images/49188420621_805684004f_o_jpg.rf.a8e672581441464e324f900d0bd1de09.jpg: 640x640 4 rats, 9.7ms\n",
            "image 58/540 /content/rat-detect-1/test/images/49715996662_9b40321018_o_jpg.rf.0323453002386f9a2ddb64399524fcc0.jpg: 640x640 4 rats, 9.0ms\n",
            "image 59/540 /content/rat-detect-1/test/images/49756145171_f887afa2f4_o_jpg.rf.585bef68f9f3e79b412b337db446f9b3.jpg: 640x640 3 rats, 9.2ms\n",
            "image 60/540 /content/rat-detect-1/test/images/49865423518_bb9bc1cb82_c_jpg.rf.f1ec4045eb6b029368673edea655f437.jpg: 640x640 4 rats, 9.4ms\n",
            "image 61/540 /content/rat-detect-1/test/images/50174671607_52e4eb3022_o_jpg.rf.f5699ce94ef5bc9fbbf210420deea9f4.jpg: 640x640 2 rats, 9.6ms\n",
            "image 62/540 /content/rat-detect-1/test/images/50174671607_52e4eb3022_o_jpg.rf.f5aab8d05820fa89633b618f5d3e13c5.jpg: 640x640 3 rats, 8.9ms\n",
            "image 63/540 /content/rat-detect-1/test/images/50260519732_c0877f09f1_o_jpg.rf.03d1c06ab54a8ad20d5f97d92f4221a8.jpg: 640x640 2 rats, 9.0ms\n",
            "image 64/540 /content/rat-detect-1/test/images/5296483304_e4a369d4c6_o_jpg.rf.23364186102ad11ce978daa2a1335cf0.jpg: 640x640 4 rats, 9.0ms\n",
            "image 65/540 /content/rat-detect-1/test/images/5392504502_bc84ff0798_o_jpg.rf.d20aa7a562507f784632c5e119bde256.jpg: 640x640 4 rats, 9.4ms\n",
            "image 66/540 /content/rat-detect-1/test/images/554723229_d4fade51e1_o_jpg.rf.b49bc5fd37cc6e3a5e200739444c7439.jpg: 640x640 2 rats, 8.7ms\n",
            "image 67/540 /content/rat-detect-1/test/images/554723229_d4fade51e1_o_jpg.rf.fbef86a33a6e2ac54f9153aea5d75e40.jpg: 640x640 5 rats, 9.2ms\n",
            "image 68/540 /content/rat-detect-1/test/images/5939598866_1cb632ac2a_o_jpg.rf.de88f30fd2c27b28e2f1d0ce974cdb3b.jpg: 640x640 2 rats, 1 rabbit, 11.6ms\n",
            "image 69/540 /content/rat-detect-1/test/images/61_jpg.rf.7af59cfd37793b36494f96fe27ba1c46.jpg: 640x640 2 rats, 12.2ms\n",
            "image 70/540 /content/rat-detect-1/test/images/62_jpg.rf.2099b0be18192226cff7ec572cc1c2f3.jpg: 640x640 (no detections), 16.1ms\n",
            "image 71/540 /content/rat-detect-1/test/images/6973667428_70363b5e61_o_jpg.rf.62a23f58bfc3d9deaa74fca1510b7ed1.jpg: 640x640 4 rats, 19.2ms\n",
            "image 72/540 /content/rat-detect-1/test/images/7119749147_c5fdd71eb1_o_jpg.rf.981357107d6e7d7656f02e71ded67e0f.jpg: 640x640 5 rats, 12.7ms\n",
            "image 73/540 /content/rat-detect-1/test/images/79_jpg.rf.e642ad6b8800fad82fa8a2c98a077b72.jpg: 640x640 1 rabbit, 11.2ms\n",
            "image 74/540 /content/rat-detect-1/test/images/8066930595_e0b56ae40e_o_jpg.rf.e941871d032e81f2e3e09a1d09ae4263.jpg: 640x640 4 rats, 17.9ms\n",
            "image 75/540 /content/rat-detect-1/test/images/8310375068_a470dec0da_o_jpg.rf.b28efca3b57f80681ff3be022a36f67e.jpg: 640x640 5 rats, 11.2ms\n",
            "image 76/540 /content/rat-detect-1/test/images/8379360151_837e79d160_o_jpg.rf.e182ec0075842209881091d762e454ac.jpg: 640x640 1 rat, 10.6ms\n",
            "image 77/540 /content/rat-detect-1/test/images/8554755150_90ff2d3197_o_jpg.rf.5531dd3b00f80db66236068080c3a00c.jpg: 640x640 6 rats, 14.0ms\n",
            "image 78/540 /content/rat-detect-1/test/images/86_jpg.rf.08dd080970483e0a414f611c808e33c6.jpg: 640x640 1 rabbit, 14.5ms\n",
            "image 79/540 /content/rat-detect-1/test/images/9314346922_7cc6f8826f_o_jpg.rf.af1f5417170b3c6d814e21bad75f3897.jpg: 640x640 1 rabbit, 17.2ms\n",
            "image 80/540 /content/rat-detect-1/test/images/DE_AT_article_ratten-bekaempfen_main_jpg.rf.143efa3d4fa907fa98512fc74e813748.jpg: 640x640 4 rats, 9.1ms\n",
            "image 81/540 /content/rat-detect-1/test/images/DE_AT_article_ratten-bekaempfen_main_jpg.rf.8d0db9b2eee4fb8556dcc34230e37b81.jpg: 640x640 6 rats, 8.9ms\n",
            "image 82/540 /content/rat-detect-1/test/images/Dd1T5hIe4qj8cvKyz4-jlf-luzern_jpg.rf.66c19bf8f99a01296409d0b065a016d0.jpg: 640x640 1 rat, 11.6ms\n",
            "image 83/540 /content/rat-detect-1/test/images/GettyImages_51632741_jpg.rf.be230f4fc73a6655fc736d99c52bed86.jpg: 640x640 4 rats, 9.5ms\n",
            "image 84/540 /content/rat-detect-1/test/images/Living-with-Pets-w3013_jpg.rf.1af53757e43a8271bd06815611cda254.jpg: 640x640 4 rats, 9.1ms\n",
            "image 85/540 /content/rat-detect-1/test/images/Living-with-Pets-w3013_jpg.rf.bdd9af862615b1ab44ae73e31f568adb.jpg: 640x640 3 rats, 11.7ms\n",
            "image 86/540 /content/rat-detect-1/test/images/R3ead6d8902ec837cf1ddb91c32bb2789_jpg.rf.5b52342b7a3b40d66e000a28998a1c06.jpg: 640x640 5 rats, 11.5ms\n",
            "image 87/540 /content/rat-detect-1/test/images/R3ead6d8902ec837cf1ddb91c32bb2789_jpg.rf.5d5b1e5b1ae3fab24ec3e774db72c1c4.jpg: 640x640 3 rats, 9.7ms\n",
            "image 88/540 /content/rat-detect-1/test/images/Rat_50_jpeg_jpg.rf.ab81b1837a790793ee4cb9f494f407aa.jpg: 640x640 1 rabbit, 9.1ms\n",
            "image 89/540 /content/rat-detect-1/test/images/Rat_51_png_jpg.rf.4d75d0a9fd9215bb9266983bc65e09aa.jpg: 640x640 1 rabbit, 9.0ms\n",
            "image 90/540 /content/rat-detect-1/test/images/Ratte-760x570-w3067_jpg.rf.96c5ca491db2f3e352c7d74cc6e4b721.jpg: 640x640 3 rats, 8.9ms\n",
            "image 91/540 /content/rat-detect-1/test/images/Ratte-aus-Gullydeckel-befreit-Jetzt-gibt-es-sogar-T-Shirts-der-Fat-German-Rat_reference_4_3-w2969_jpg.rf.320e6d12e08cdb29b6fd9aa7a45d322d.jpg: 640x640 6 rats, 8.9ms\n",
            "image 92/540 /content/rat-detect-1/test/images/Ratte-w3035_jpg.rf.bd7157a23e315887b348f09b69385e2d.jpg: 640x640 5 rats, 8.7ms\n",
            "image 93/540 /content/rat-detect-1/test/images/Ratte-w3035_jpg.rf.c4eef484ce2d8ad407f7be4717d2b0e6.jpg: 640x640 1 rat, 8.8ms\n",
            "image 94/540 /content/rat-detect-1/test/images/Ratte-w3035_jpg.rf.f8105ecd17acb23790881e5963a3ea74.jpg: 640x640 4 rats, 9.0ms\n",
            "image 95/540 /content/rat-detect-1/test/images/Ratte1-e1412784064202-2220x1000-w2983_jpg.rf.01b06d7eaeda0e86e56e0949741ab426.jpg: 640x640 4 rats, 10.4ms\n",
            "image 96/540 /content/rat-detect-1/test/images/Ratten-Ernaehrung-1030x687_jpg.rf.152896bab8f32b15dc65ed04a249fac2.jpg: 640x640 4 rats, 9.0ms\n",
            "image 97/540 /content/rat-detect-1/test/images/Ratten-Ernahrung-1030x687_jpg.rf.6e2053fa5deabbfe26f3cafcf68c68b9.jpg: 640x640 4 rats, 9.6ms\n",
            "image 98/540 /content/rat-detect-1/test/images/Ratten-im-Kaefig-in-Stadthaeger-Wald-entsorgt-Polizei-ermittelt_big_teaser_article_jpg.rf.2784a8f416620f1d91f3433aeb6c8b8e.jpg: 640x640 4 rats, 10.7ms\n",
            "image 99/540 /content/rat-detect-1/test/images/Stadt-Garbsen-laesst-Ratten-bekaempfen_big_teaser_article_jpg.rf.343fac3da28a53332eb73532149e55b3.jpg: 640x640 4 rats, 9.5ms\n",
            "image 100/540 /content/rat-detect-1/test/images/Stadt-Garbsen-laesst-Ratten-bekaempfen_big_teaser_article_jpg.rf.66f77b86a248627fc7d4b1dabc4a9a80.jpg: 640x640 3 rats, 9.2ms\n",
            "image 101/540 /content/rat-detect-1/test/images/Une_Rats_HDshutterstock_192098102-w2911_jpg.rf.71cf12c01c9701a84485ba577dd7a137.jpg: 640x640 3 rats, 10.4ms\n",
            "image 102/540 /content/rat-detect-1/test/images/Viele_Ratten_in_einem_Tempel_oder_Kirche_png_jpg.rf.45b12f406ea0ddcf29b1995751fe9617.jpg: 640x640 4 rats, 9.1ms\n",
            "image 103/540 /content/rat-detect-1/test/images/WhatsApp-Image-2022-11-01-at-17-50-02_jpeg_jpg.rf.eff3269a137d321791b49ef456572119.jpg: 640x640 6 rats, 9.3ms\n",
            "image 104/540 /content/rat-detect-1/test/images/WhatsApp-Image-2022-11-01-at-17-50-04-1-_jpeg_jpg.rf.350e420e2d11aab24d6de6c741ccbda0.jpg: 640x640 1 rat, 9.1ms\n",
            "image 105/540 /content/rat-detect-1/test/images/WhatsApp-Image-2022-11-01-at-17-50-05-1-_jpeg_jpg.rf.f0c203720d302f9b909bc94f6bae3349.jpg: 640x640 4 rats, 9.1ms\n",
            "image 106/540 /content/rat-detect-1/test/images/WhatsApp-Image-2022-11-01-at-17-50-06-1-_jpeg_jpg.rf.d799e791a0a843ad631ad7c1dafbf3c5.jpg: 640x640 6 rats, 9.2ms\n",
            "image 107/540 /content/rat-detect-1/test/images/WhatsApp-Image-2022-11-01-at-17-50-07-2-_jpeg_jpg.rf.713f6499276a94534a6d48db04425d07.jpg: 640x640 4 rats, 9.9ms\n",
            "image 108/540 /content/rat-detect-1/test/images/WhatsApp-Image-2022-11-01-at-17-50-07-2-_jpeg_jpg.rf.75915ef367d0476fdc5cec981f1242cb.jpg: 640x640 (no detections), 9.1ms\n",
            "image 109/540 /content/rat-detect-1/test/images/WhatsApp-Image-2022-11-01-at-17-50-09-2-_jpeg_jpg.rf.84caf006851d0dfff1400e5a374f5cbe.jpg: 640x640 2 rats, 11.2ms\n",
            "image 110/540 /content/rat-detect-1/test/images/WhatsApp-Image-2022-11-01-at-17-51-10-1-_jpeg_jpg.rf.72fdeace4f53a5af4213e63af515ee78.jpg: 640x640 4 rats, 11.1ms\n",
            "image 111/540 /content/rat-detect-1/test/images/WhatsApp-Image-2022-11-01-at-17-51-10-4-_jpeg_jpg.rf.f017d8e71b4fe06dc37e6c8a7127e2bb.jpg: 640x640 4 rats, 12.6ms\n",
            "image 112/540 /content/rat-detect-1/test/images/WhatsApp-Image-2022-11-01-at-17-51-11-2-_jpeg_jpg.rf.e9dad54e3f7a56da0cc38c717a4695a4.jpg: 640x640 3 rats, 11.6ms\n",
            "image 113/540 /content/rat-detect-1/test/images/WhatsApp-Image-2022-11-02-at-20-19-54-1-_jpeg_jpg.rf.e057d8e1f787480df4d9efee629f184d.jpg: 640x640 6 rats, 10.3ms\n",
            "image 114/540 /content/rat-detect-1/test/images/WhatsApp-Image-2022-11-02-at-20-19-54_jpeg_jpg.rf.e8ff6f2b82ee590713aab897c00d6b61.jpg: 640x640 4 rats, 11.2ms\n",
            "image 115/540 /content/rat-detect-1/test/images/WhatsApp-Image-2022-11-02-at-20-19-56_jpeg_jpg.rf.8d1cd2d4b5111d72b18d3fe40bfc697f.jpg: 640x640 4 rats, 14.0ms\n",
            "image 116/540 /content/rat-detect-1/test/images/WhatsApp-Image-2022-11-02-at-20-19-58-1-_jpeg_jpg.rf.aa9fffa6c60f3102ee49ced62fe1547b.jpg: 640x640 5 rats, 14.3ms\n",
            "image 117/540 /content/rat-detect-1/test/images/WhatsApp-Image-2022-11-02-at-20-20-00_jpeg_jpg.rf.653050dec03c3d26bb56ded1dee23f4d.jpg: 640x640 5 rats, 13.3ms\n",
            "image 118/540 /content/rat-detect-1/test/images/WhatsApp-Image-2022-11-02-at-20-20-02-1-_jpeg_jpg.rf.84e0b989d36279c81649672e1f9dfbbb.jpg: 640x640 4 rats, 11.6ms\n",
            "image 119/540 /content/rat-detect-1/test/images/WhatsApp-Image-2022-11-02-at-20-20-05_jpeg_jpg.rf.b1e567353c1c26437dbd10d18e1bec6a.jpg: 640x640 3 rats, 11.5ms\n",
            "image 120/540 /content/rat-detect-1/test/images/WhatsApp-Image-2022-11-02-at-20-21-05-1-_jpeg_jpg.rf.75df5f91fc5284845ca1a8f671f3c169.jpg: 640x640 3 rats, 18.2ms\n",
            "image 121/540 /content/rat-detect-1/test/images/WhatsApp-Image-2022-11-02-at-20-21-05-5-_jpeg_jpg.rf.96d6df2919c222e5e986b06cb9ce5357.jpg: 640x640 1 rat, 13.9ms\n",
            "image 122/540 /content/rat-detect-1/test/images/WhatsApp-Image-2022-11-02-at-20-21-07-2-_jpeg_jpg.rf.a2fa3c5e24d4890598fc35702d7d9cdb.jpg: 640x640 4 rats, 12.4ms\n",
            "image 123/540 /content/rat-detect-1/test/images/WhatsApp-Image-2022-11-02-at-20-21-44-4-_jpeg_jpg.rf.04da505fd89ba61d0d299c9ace53742f.jpg: 640x640 4 rats, 12.0ms\n",
            "image 124/540 /content/rat-detect-1/test/images/WhatsApp-Image-2022-11-02-at-20-21-44-4-_jpeg_jpg.rf.97e31d10dcae584e588a0a5b85bc210f.jpg: 640x640 3 rats, 12.9ms\n",
            "image 125/540 /content/rat-detect-1/test/images/WhatsApp-Image-2022-11-02-at-20-21-45-5-_jpeg_jpg.rf.cd56a93ee5faae578f080114a00242fd.jpg: 640x640 4 rats, 13.6ms\n",
            "image 126/540 /content/rat-detect-1/test/images/WhatsApp-Image-2022-11-02-at-20-21-45-9-_jpeg_jpg.rf.d15a3dd5e0400dfbf033b52b66f29738.jpg: 640x640 4 rats, 12.5ms\n",
            "image 127/540 /content/rat-detect-1/test/images/WhatsApp-Image-2022-11-02-at-20-21-46-1-_jpeg_jpg.rf.c170ce14b9a69dc168b9b9687a601be9.jpg: 640x640 3 rats, 18.9ms\n",
            "image 128/540 /content/rat-detect-1/test/images/WhatsApp-Image-2022-11-02-at-20-21-46-2-_jpeg_jpg.rf.f98664563459a29bc66aadca58678134.jpg: 640x640 3 rats, 12.3ms\n",
            "image 129/540 /content/rat-detect-1/test/images/WhatsApp-Image-2022-11-02-at-20-21-46_jpeg_jpg.rf.972f4c2352acc724d5bb21f9f2447b46.jpg: 640x640 6 rats, 7.7ms\n",
            "image 130/540 /content/rat-detect-1/test/images/WhatsApp-Image-2022-11-02-at-20-21-47-1-_jpeg_jpg.rf.4f9e61b5edac4d3d208bed6c281a5340.jpg: 640x640 1 rat, 6.7ms\n",
            "image 131/540 /content/rat-detect-1/test/images/WhatsApp-Image-2022-11-02-at-20-33-18_jpeg_jpg.rf.b62dcfd1e2f228fe78320f398cfdfe23.jpg: 640x640 3 rats, 6.9ms\n",
            "image 132/540 /content/rat-detect-1/test/images/WhatsApp-Image-2022-11-02-at-20-33-19-1-_jpeg_jpg.rf.12bdf2a5be4374b5eb40e4bec7ca2ddb.jpg: 640x640 3 rats, 11.2ms\n",
            "image 133/540 /content/rat-detect-1/test/images/WhatsApp-Image-2022-11-02-at-20-33-20-4-_jpeg_jpg.rf.b6b37bb265afbb2c3c804f17ece84dac.jpg: 640x640 1 rat, 6.9ms\n",
            "image 134/540 /content/rat-detect-1/test/images/WhatsApp-Image-2022-11-02-at-20-33-20-5-_jpeg_jpg.rf.0feced422a3f20bd4c628ff3be881ccc.jpg: 640x640 4 rats, 6.7ms\n",
            "image 135/540 /content/rat-detect-1/test/images/WhatsApp-Image-2022-11-02-at-20-33-21-4-_jpeg_jpg.rf.3c2f29a150efd6266185405ffd17ec3a.jpg: 640x640 4 rats, 6.7ms\n",
            "image 136/540 /content/rat-detect-1/test/images/WhatsApp-Image-2022-11-02-at-20-33-21-5-_jpeg_jpg.rf.f5d4c6b46d820f5d77c6b3896caf36ce.jpg: 640x640 4 rats, 6.8ms\n",
            "image 137/540 /content/rat-detect-1/test/images/WhatsApp-Image-2022-11-02-at-20-33-22-4-_jpeg_jpg.rf.116f828b0b88dfe3bfa7404b7f4ae3ac.jpg: 640x640 5 rats, 6.7ms\n",
            "image 138/540 /content/rat-detect-1/test/images/WhatsApp-Image-2022-11-02-at-20-33-47-1-_jpeg_jpg.rf.de6b6b9403b8ff19ecfa6624b1515a16.jpg: 640x640 4 rats, 6.7ms\n",
            "image 139/540 /content/rat-detect-1/test/images/WhatsApp-Image-2022-11-02-at-20-33-50-2-_jpeg_jpg.rf.8ef0bc5851fa78766d9ab4dfea3eeda9.jpg: 640x640 5 rats, 6.7ms\n",
            "image 140/540 /content/rat-detect-1/test/images/WhatsApp-Image-2022-11-02-at-20-33-53-1-_jpeg_jpg.rf.4f2437c8449ce90cb85607928ef9994b.jpg: 640x640 3 rats, 6.8ms\n",
            "image 141/540 /content/rat-detect-1/test/images/WhatsApp-Image-2022-11-02-at-20-33-53-3-_jpeg_jpg.rf.fbcfb123c8d41e80521a9ba591790085.jpg: 640x640 4 rats, 6.1ms\n",
            "image 142/540 /content/rat-detect-1/test/images/WhatsApp-Image-2022-11-02-at-20-33-56-2-_jpeg_jpg.rf.c0aaf3995bfdf565f3f2a30891f52343.jpg: 640x640 6 rats, 6.0ms\n",
            "image 143/540 /content/rat-detect-1/test/images/WhatsApp-Image-2022-11-02-at-20-40-51-2-_jpeg_jpg.rf.e176e517a559ac3e010717ee93c6c4e0.jpg: 640x640 5 rats, 6.1ms\n",
            "image 144/540 /content/rat-detect-1/test/images/WhatsApp-Image-2022-11-02-at-20-40-51-3-_jpeg_jpg.rf.348330893a1030e69bef06067b2b6369.jpg: 640x640 4 rats, 6.1ms\n",
            "image 145/540 /content/rat-detect-1/test/images/WhatsApp-Image-2022-11-02-at-20-40-52_jpeg_jpg.rf.83fe5df1c492fa8a56be2fb4212f3113.jpg: 640x640 2 rats, 6.8ms\n",
            "image 146/540 /content/rat-detect-1/test/images/WhatsApp-Image-2022-11-02-at-20-40-53-3-_jpeg_jpg.rf.597e1de2cc4d25ee243893b8f0f34955.jpg: 640x640 3 rats, 6.0ms\n",
            "image 147/540 /content/rat-detect-1/test/images/WhatsApp-Image-2022-11-02-at-20-40-53-4-_jpeg_jpg.rf.c712868066d69ad0b94409186a985e8b.jpg: 640x640 4 rats, 6.5ms\n",
            "image 148/540 /content/rat-detect-1/test/images/WhatsApp-Image-2022-11-02-at-20-40-53_jpeg_jpg.rf.6b587feedda3407dc8b7e7cbc81f610a.jpg: 640x640 1 rat, 6.0ms\n",
            "image 149/540 /content/rat-detect-1/test/images/WhatsApp-Image-2022-11-07-at-18-19-55-2-_jpeg_jpg.rf.0a2158c407bc025f67e779b71554876b.jpg: 640x640 2 rats, 5.9ms\n",
            "image 150/540 /content/rat-detect-1/test/images/WhatsApp-Image-2022-11-07-at-18-19-55-2-_jpeg_jpg.rf.a1bb157b5f249ecde7579b2fd40487c8.jpg: 640x640 5 rats, 5.9ms\n",
            "image 151/540 /content/rat-detect-1/test/images/WhatsApp-Image-2022-11-07-at-18-19-56-1-_jpeg_jpg.rf.1d49052ce69e89c66d3e6bccf1a097e0.jpg: 640x640 4 rats, 6.0ms\n",
            "image 152/540 /content/rat-detect-1/test/images/WhatsApp-Image-2022-11-07-at-18-19-56-1-_jpeg_jpg.rf.bd80b8c23a43ef9ebddb2e28457ca322.jpg: 640x640 4 rats, 6.0ms\n",
            "image 153/540 /content/rat-detect-1/test/images/WhatsApp-Video-2022-11-01-at-17_50_09_mp4-11_jpg.rf.6074abb44500f148a3c8ae8abfa3c57f.jpg: 640x640 5 rats, 7.9ms\n",
            "image 154/540 /content/rat-detect-1/test/images/WhatsApp-Video-2022-11-01-at-17_50_09_mp4-15_jpg.rf.a984031ddb63413c15a810ad5f709524.jpg: 640x640 6 rats, 6.1ms\n",
            "image 155/540 /content/rat-detect-1/test/images/WhatsApp-Video-2022-11-01-at-17_50_09_mp4-1_jpg.rf.cf2eb6f85654e393a11171d2fcd0b951.jpg: 640x640 2 rats, 6.3ms\n",
            "image 156/540 /content/rat-detect-1/test/images/WhatsApp-Video-2022-11-01-at-17_50_09_mp4-21_jpg.rf.29694da318a63abd0c2b78e82c886cee.jpg: 640x640 7 rats, 6.1ms\n",
            "image 157/540 /content/rat-detect-1/test/images/WhatsApp-Video-2022-11-01-at-17_50_09_mp4-22_jpg.rf.439f230c6e108bd1d005ed01ec20ddcc.jpg: 640x640 6 rats, 6.3ms\n",
            "image 158/540 /content/rat-detect-1/test/images/WhatsApp-Video-2022-11-01-at-17_50_09_mp4-22_jpg.rf.90b46909d011b2a2f0b5c0ebc4779871.jpg: 640x640 7 rats, 6.2ms\n",
            "image 159/540 /content/rat-detect-1/test/images/WhatsApp-Video-2022-11-01-at-17_50_09_mp4-25_jpg.rf.132baad175e41d7cfea4903f5c3b0648.jpg: 640x640 2 rats, 6.2ms\n",
            "image 160/540 /content/rat-detect-1/test/images/WhatsApp-Video-2022-11-01-at-17_50_09_mp4-27_jpg.rf.7c20f73900bfcac4a1bd212cc8859d18.jpg: 640x640 2 rats, 6.5ms\n",
            "image 161/540 /content/rat-detect-1/test/images/WhatsApp-Video-2022-11-01-at-17_50_09_mp4-31_jpg.rf.9d0bf04bf65e414ef5ab1b884ba0b0a8.jpg: 640x640 4 rats, 8.5ms\n",
            "image 162/540 /content/rat-detect-1/test/images/WhatsApp-Video-2022-11-01-at-17_50_09_mp4-32_jpg.rf.1a3bbba9a5b7cc0347ee6bf73d660a22.jpg: 640x640 4 rats, 6.4ms\n",
            "image 163/540 /content/rat-detect-1/test/images/WhatsApp-Video-2022-11-01-at-17_50_09_mp4-34_jpg.rf.9e2b010e0d99b85d22ffa6dfe7fba567.jpg: 640x640 6 rats, 6.0ms\n",
            "image 164/540 /content/rat-detect-1/test/images/WhatsApp-Video-2022-11-01-at-17_50_09_mp4-35_jpg.rf.6d33bec73841c1823e7ac19d81d5c03e.jpg: 640x640 5 rats, 6.3ms\n",
            "image 165/540 /content/rat-detect-1/test/images/WhatsApp-Video-2022-11-01-at-17_50_09_mp4-37_jpg.rf.1f7eb7ab0c524ac1878f6d2203d119f5.jpg: 640x640 2 rats, 6.3ms\n",
            "image 166/540 /content/rat-detect-1/test/images/WhatsApp-Video-2022-11-01-at-17_50_09_mp4-37_jpg.rf.87be2add767e9e9fd357488f0b786248.jpg: 640x640 6 rats, 8.1ms\n",
            "image 167/540 /content/rat-detect-1/test/images/WhatsApp-Video-2022-11-01-at-17_50_09_mp4-37_jpg.rf.f2cfdf1b447df1f0b6c6fcc36df4a4ed.jpg: 640x640 4 rats, 6.1ms\n",
            "image 168/540 /content/rat-detect-1/test/images/WhatsApp-Video-2022-11-01-at-17_50_09_mp4-5_jpg.rf.ef578c3eaa1a7faf9959f89c98e88793.jpg: 640x640 4 rats, 6.5ms\n",
            "image 169/540 /content/rat-detect-1/test/images/WhatsApp-Video-2022-11-01-at-17_50_09_mp4-8_jpg.rf.4cc753957211a3d71d57de0a0cfb9d00.jpg: 640x640 5 rats, 6.7ms\n",
            "image 170/540 /content/rat-detect-1/test/images/WhatsApp-Video-2022-11-01-at-17_50_15_mp4-0_jpg.rf.112d6fa683f37c90cecd0a0de950f572.jpg: 640x640 4 rats, 6.8ms\n",
            "image 171/540 /content/rat-detect-1/test/images/WhatsApp-Video-2022-11-01-at-17_50_15_mp4-100_jpg.rf.ef2799ce4142ffc696dca8920d53fef3.jpg: 640x640 8 rats, 6.2ms\n",
            "image 172/540 /content/rat-detect-1/test/images/WhatsApp-Video-2022-11-01-at-17_50_15_mp4-104_jpg.rf.b040b70ff8142a1280ea1cec91ed2234.jpg: 640x640 2 rats, 8.8ms\n",
            "image 173/540 /content/rat-detect-1/test/images/WhatsApp-Video-2022-11-01-at-17_50_15_mp4-10_jpg.rf.d7e90657ed65a1808d9e676787ff6fd2.jpg: 640x640 7 rats, 8.3ms\n",
            "image 174/540 /content/rat-detect-1/test/images/WhatsApp-Video-2022-11-01-at-17_50_15_mp4-119_jpg.rf.db12ff8c3e47319e9be3558785e64703.jpg: 640x640 4 rats, 7.9ms\n",
            "image 175/540 /content/rat-detect-1/test/images/WhatsApp-Video-2022-11-01-at-17_50_15_mp4-124_jpg.rf.f25276a9c7c4a178f4607db3a7ca12c6.jpg: 640x640 2 rats, 9.2ms\n",
            "image 176/540 /content/rat-detect-1/test/images/WhatsApp-Video-2022-11-01-at-17_50_15_mp4-127_jpg.rf.133c2e1ce47e47aa6bf6bef0f32241fe.jpg: 640x640 1 rat, 7.8ms\n",
            "image 177/540 /content/rat-detect-1/test/images/WhatsApp-Video-2022-11-01-at-17_50_15_mp4-127_jpg.rf.a6bd6fef795a88bb5b259cb07ab74303.jpg: 640x640 4 rats, 9.1ms\n",
            "image 178/540 /content/rat-detect-1/test/images/WhatsApp-Video-2022-11-01-at-17_50_15_mp4-137_jpg.rf.0602857ee750695df853329fbe1d988a.jpg: 640x640 5 rats, 8.3ms\n",
            "image 179/540 /content/rat-detect-1/test/images/WhatsApp-Video-2022-11-01-at-17_50_15_mp4-139_jpg.rf.8e8b71c99c6d3ecd69854337ac93b58d.jpg: 640x640 4 rats, 7.5ms\n",
            "image 180/540 /content/rat-detect-1/test/images/WhatsApp-Video-2022-11-01-at-17_50_15_mp4-13_jpg.rf.eb92ccbc26360ab0a90186d026ee0168.jpg: 640x640 1 rat, 7.1ms\n",
            "image 181/540 /content/rat-detect-1/test/images/WhatsApp-Video-2022-11-01-at-17_50_15_mp4-143_jpg.rf.53bac35ad29edfdca0b2f435f1e94572.jpg: 640x640 3 rats, 9.4ms\n",
            "image 182/540 /content/rat-detect-1/test/images/WhatsApp-Video-2022-11-01-at-17_50_15_mp4-145_jpg.rf.68e9dd79d2a660f9f3e3d9fe837dac93.jpg: 640x640 7 rats, 8.8ms\n",
            "image 183/540 /content/rat-detect-1/test/images/WhatsApp-Video-2022-11-01-at-17_50_15_mp4-147_jpg.rf.50255f4f05dee7b84ed0ca827b85a932.jpg: 640x640 6 rats, 8.9ms\n",
            "image 184/540 /content/rat-detect-1/test/images/WhatsApp-Video-2022-11-01-at-17_50_15_mp4-147_jpg.rf.cf3d5026b089afd9ca56ff79145661a2.jpg: 640x640 3 rats, 8.7ms\n",
            "image 185/540 /content/rat-detect-1/test/images/WhatsApp-Video-2022-11-01-at-17_50_15_mp4-14_jpg.rf.8434f0431d818daf70161d870c0e664d.jpg: 640x640 5 rats, 10.8ms\n",
            "image 186/540 /content/rat-detect-1/test/images/WhatsApp-Video-2022-11-01-at-17_50_15_mp4-150_jpg.rf.1ae37694e1e07bfd4db81d4fa92f6022.jpg: 640x640 4 rats, 8.5ms\n",
            "image 187/540 /content/rat-detect-1/test/images/WhatsApp-Video-2022-11-01-at-17_50_15_mp4-154_jpg.rf.75e498ede9889d40c650c99702371628.jpg: 640x640 2 rats, 8.9ms\n",
            "image 188/540 /content/rat-detect-1/test/images/WhatsApp-Video-2022-11-01-at-17_50_15_mp4-160_jpg.rf.a62413b6b683507ad0287de54a7f6552.jpg: 640x640 2 rats, 9.3ms\n",
            "image 189/540 /content/rat-detect-1/test/images/WhatsApp-Video-2022-11-01-at-17_50_15_mp4-161_jpg.rf.8425b17ef21866121b61625a413f9bfb.jpg: 640x640 4 rats, 10.0ms\n",
            "image 190/540 /content/rat-detect-1/test/images/WhatsApp-Video-2022-11-01-at-17_50_15_mp4-168_jpg.rf.3f52923ce3669256b04b15eb607e60cf.jpg: 640x640 4 rats, 10.6ms\n",
            "image 191/540 /content/rat-detect-1/test/images/WhatsApp-Video-2022-11-01-at-17_50_15_mp4-172_jpg.rf.ab4c66c446cff4e131ba707b77926eb3.jpg: 640x640 3 rats, 8.2ms\n",
            "image 192/540 /content/rat-detect-1/test/images/WhatsApp-Video-2022-11-01-at-17_50_15_mp4-173_jpg.rf.c85712283d7bd39378c7ec8c4ce964a8.jpg: 640x640 5 rats, 6.1ms\n",
            "image 193/540 /content/rat-detect-1/test/images/WhatsApp-Video-2022-11-01-at-17_50_15_mp4-177_jpg.rf.6d4eb01f3848f093fb3622da202c0d31.jpg: 640x640 3 rats, 6.5ms\n",
            "image 194/540 /content/rat-detect-1/test/images/WhatsApp-Video-2022-11-01-at-17_50_15_mp4-179_jpg.rf.f47018c28e0586e0a515a640fcb3a0d0.jpg: 640x640 3 rats, 7.0ms\n",
            "image 195/540 /content/rat-detect-1/test/images/WhatsApp-Video-2022-11-01-at-17_50_15_mp4-17_jpg.rf.4290ee73e4c3a736203699324d20cc60.jpg: 640x640 6 rats, 6.0ms\n",
            "image 196/540 /content/rat-detect-1/test/images/WhatsApp-Video-2022-11-01-at-17_50_15_mp4-184_jpg.rf.168bec0cd373bf1bd854b294bd1d4e7c.jpg: 640x640 4 rats, 6.4ms\n",
            "image 197/540 /content/rat-detect-1/test/images/WhatsApp-Video-2022-11-01-at-17_50_15_mp4-18_jpg.rf.75c3f80085175d7bb194c5aeb27de5af.jpg: 640x640 4 rats, 6.9ms\n",
            "image 198/540 /content/rat-detect-1/test/images/WhatsApp-Video-2022-11-01-at-17_50_15_mp4-194_jpg.rf.1e83eed7f68b37f3cb01599f081dbc11.jpg: 640x640 2 rats, 13.1ms\n",
            "image 199/540 /content/rat-detect-1/test/images/WhatsApp-Video-2022-11-01-at-17_50_15_mp4-194_jpg.rf.abec84900af41316780acae05d095b2c.jpg: 640x640 5 rats, 7.7ms\n",
            "image 200/540 /content/rat-detect-1/test/images/WhatsApp-Video-2022-11-01-at-17_50_15_mp4-210_jpg.rf.02b518e182aec8cba636b24146f346fc.jpg: 640x640 1 rat, 6.7ms\n",
            "image 201/540 /content/rat-detect-1/test/images/WhatsApp-Video-2022-11-01-at-17_50_15_mp4-211_jpg.rf.eadd7c8c9bc05aeb9fbda31b8eac5a2d.jpg: 640x640 3 rats, 6.6ms\n",
            "image 202/540 /content/rat-detect-1/test/images/WhatsApp-Video-2022-11-01-at-17_50_15_mp4-218_jpg.rf.24aa56204d63e6957dd889da26e74aca.jpg: 640x640 5 rats, 6.2ms\n",
            "image 203/540 /content/rat-detect-1/test/images/WhatsApp-Video-2022-11-01-at-17_50_15_mp4-223_jpg.rf.4aa10c9bb1791a63523dd7eb408bc819.jpg: 640x640 4 rats, 7.2ms\n",
            "image 204/540 /content/rat-detect-1/test/images/WhatsApp-Video-2022-11-01-at-17_50_15_mp4-224_jpg.rf.134002d4c8008683bb9dad48b280001d.jpg: 640x640 4 rats, 6.1ms\n",
            "image 205/540 /content/rat-detect-1/test/images/WhatsApp-Video-2022-11-01-at-17_50_15_mp4-227_jpg.rf.dfc82809f180a09186de51a1908e359c.jpg: 640x640 1 rat, 7.7ms\n",
            "image 206/540 /content/rat-detect-1/test/images/WhatsApp-Video-2022-11-01-at-17_50_15_mp4-37_jpg.rf.41e0feae5827e1ce573f3e14419099ed.jpg: 640x640 1 rat, 6.4ms\n",
            "image 207/540 /content/rat-detect-1/test/images/WhatsApp-Video-2022-11-01-at-17_50_15_mp4-40_jpg.rf.35d995481865d8b068867434235c7d38.jpg: 640x640 6 rats, 6.4ms\n",
            "image 208/540 /content/rat-detect-1/test/images/WhatsApp-Video-2022-11-01-at-17_50_15_mp4-43_jpg.rf.2f60de5b6452932fb7d48de9be8927b6.jpg: 640x640 1 rat, 6.3ms\n",
            "image 209/540 /content/rat-detect-1/test/images/WhatsApp-Video-2022-11-01-at-17_50_15_mp4-61_jpg.rf.ba0eb997fbf3c850d2763358a34724d8.jpg: 640x640 4 rats, 9.3ms\n",
            "image 210/540 /content/rat-detect-1/test/images/WhatsApp-Video-2022-11-01-at-17_50_15_mp4-72_jpg.rf.fd83c911c412153d4cd1ac59e01d2a92.jpg: 640x640 5 rats, 6.1ms\n",
            "image 211/540 /content/rat-detect-1/test/images/WhatsApp-Video-2022-11-01-at-17_50_15_mp4-79_jpg.rf.d8b91b08303bb3d837619f321a5406e4.jpg: 640x640 4 rats, 6.3ms\n",
            "image 212/540 /content/rat-detect-1/test/images/WhatsApp-Video-2022-11-01-at-17_50_15_mp4-83_jpg.rf.2e3d175116f19f559dc3985445ec5867.jpg: 640x640 4 rats, 6.3ms\n",
            "image 213/540 /content/rat-detect-1/test/images/WhatsApp-Video-2022-11-01-at-17_50_15_mp4-84_jpg.rf.c11d79aa2c33d8262d30f3ee138feb1a.jpg: 640x640 6 rats, 6.2ms\n",
            "image 214/540 /content/rat-detect-1/test/images/WhatsApp-Video-2022-11-01-at-17_50_15_mp4-93_jpg.rf.0b792a38dec94723dce582a5d256adc2.jpg: 640x640 4 rats, 6.8ms\n",
            "image 215/540 /content/rat-detect-1/test/images/WhatsApp-Video-2022-11-01-at-17_50_15_mp4-98_jpg.rf.a20ffe95b784408ec215658776eb55c1.jpg: 640x640 6 rats, 6.6ms\n",
            "image 216/540 /content/rat-detect-1/test/images/WhatsApp-Video-2022-11-01-at-17_51_05_mp4-100_jpg.rf.9d67568c9d58bf0e84df2d5dd52a47c2.jpg: 640x640 4 rats, 6.4ms\n",
            "image 217/540 /content/rat-detect-1/test/images/WhatsApp-Video-2022-11-01-at-17_51_05_mp4-101_jpg.rf.089f1dec53bb9c829080e77d779d3095.jpg: 640x640 4 rats, 7.7ms\n",
            "image 218/540 /content/rat-detect-1/test/images/WhatsApp-Video-2022-11-01-at-17_51_05_mp4-101_jpg.rf.c1f40b4b43e2914d4346894e368bc66a.jpg: 640x640 1 rat, 6.4ms\n",
            "image 219/540 /content/rat-detect-1/test/images/WhatsApp-Video-2022-11-01-at-17_51_05_mp4-107_jpg.rf.8a39b174a2e61b0be53767c7959b650b.jpg: 640x640 5 rats, 6.4ms\n",
            "image 220/540 /content/rat-detect-1/test/images/WhatsApp-Video-2022-11-01-at-17_51_05_mp4-108_jpg.rf.b94f92deaefc782f84321dbf508cf73e.jpg: 640x640 4 rats, 6.3ms\n",
            "image 221/540 /content/rat-detect-1/test/images/WhatsApp-Video-2022-11-01-at-17_51_05_mp4-108_jpg.rf.f2711bb89f2f1a0a1d963087cb0399fc.jpg: 640x640 5 rats, 6.1ms\n",
            "image 222/540 /content/rat-detect-1/test/images/WhatsApp-Video-2022-11-01-at-17_51_05_mp4-114_jpg.rf.aee09c37d3611a52646667ceae24e176.jpg: 640x640 4 rats, 6.0ms\n",
            "image 223/540 /content/rat-detect-1/test/images/WhatsApp-Video-2022-11-01-at-17_51_05_mp4-11_jpg.rf.81325b802f2a53dfa6199620b4ebd4dd.jpg: 640x640 4 rats, 6.0ms\n",
            "image 224/540 /content/rat-detect-1/test/images/WhatsApp-Video-2022-11-01-at-17_51_05_mp4-11_jpg.rf.dba9dbb8f94c259214f17ebdbd1fdd54.jpg: 640x640 4 rats, 8.1ms\n",
            "image 225/540 /content/rat-detect-1/test/images/WhatsApp-Video-2022-11-01-at-17_51_05_mp4-120_jpg.rf.f5f6b1537dff94afd8103a28f92349e1.jpg: 640x640 3 rats, 6.6ms\n",
            "image 226/540 /content/rat-detect-1/test/images/WhatsApp-Video-2022-11-01-at-17_51_05_mp4-121_jpg.rf.3f8329d637a20e4dac81bd4d6f2f2449.jpg: 640x640 4 rats, 6.5ms\n",
            "image 227/540 /content/rat-detect-1/test/images/WhatsApp-Video-2022-11-01-at-17_51_05_mp4-122_jpg.rf.2fccafef71d19d86fdec43d7ccbba32e.jpg: 640x640 7 rats, 6.1ms\n",
            "image 228/540 /content/rat-detect-1/test/images/WhatsApp-Video-2022-11-01-at-17_51_05_mp4-124_jpg.rf.0ae76268bc38e42676a392a65d7c0fa5.jpg: 640x640 5 rats, 6.0ms\n",
            "image 229/540 /content/rat-detect-1/test/images/WhatsApp-Video-2022-11-01-at-17_51_05_mp4-124_jpg.rf.4a32b84625e159f384a5d3529c45d599.jpg: 640x640 3 rats, 6.2ms\n",
            "image 230/540 /content/rat-detect-1/test/images/WhatsApp-Video-2022-11-01-at-17_51_05_mp4-127_jpg.rf.9fe200602b8dd2e4a0b17d7f7158e050.jpg: 640x640 5 rats, 7.7ms\n",
            "image 231/540 /content/rat-detect-1/test/images/WhatsApp-Video-2022-11-01-at-17_51_05_mp4-133_jpg.rf.6713a42d9e9a176d4ce1e7e6c102ef9c.jpg: 640x640 6 rats, 6.8ms\n",
            "image 232/540 /content/rat-detect-1/test/images/WhatsApp-Video-2022-11-01-at-17_51_05_mp4-135_jpg.rf.46a1c14c814c934d7bd16c137ab6245e.jpg: 640x640 6 rats, 6.2ms\n",
            "image 233/540 /content/rat-detect-1/test/images/WhatsApp-Video-2022-11-01-at-17_51_05_mp4-137_jpg.rf.ec5072fc9f2bd0c1a03430b440218f73.jpg: 640x640 4 rats, 6.5ms\n",
            "image 234/540 /content/rat-detect-1/test/images/WhatsApp-Video-2022-11-01-at-17_51_05_mp4-138_jpg.rf.633a5acf92a6e7d83a4a1131f03e80c5.jpg: 640x640 6 rats, 12.1ms\n",
            "image 235/540 /content/rat-detect-1/test/images/WhatsApp-Video-2022-11-01-at-17_51_05_mp4-144_jpg.rf.269305acef64238e407ba623cc239875.jpg: 640x640 5 rats, 9.6ms\n",
            "image 236/540 /content/rat-detect-1/test/images/WhatsApp-Video-2022-11-01-at-17_51_05_mp4-145_jpg.rf.a7d1bee2bcdb03eb840fdbb2ab5029e7.jpg: 640x640 6 rats, 8.4ms\n",
            "image 237/540 /content/rat-detect-1/test/images/WhatsApp-Video-2022-11-01-at-17_51_05_mp4-147_jpg.rf.71ccf2d55a6edbc139a3880a905c5b2f.jpg: 640x640 3 rats, 6.2ms\n",
            "image 238/540 /content/rat-detect-1/test/images/WhatsApp-Video-2022-11-01-at-17_51_05_mp4-150_jpg.rf.c2d0d3fc2178a1e2cf75a36d0f0c5398.jpg: 640x640 5 rats, 10.7ms\n",
            "image 239/540 /content/rat-detect-1/test/images/WhatsApp-Video-2022-11-01-at-17_51_05_mp4-152_jpg.rf.70d7f0e427473b78edc6ca5adae1bf2e.jpg: 640x640 4 rats, 9.1ms\n",
            "image 240/540 /content/rat-detect-1/test/images/WhatsApp-Video-2022-11-01-at-17_51_05_mp4-152_jpg.rf.9a975c6d17b9471c0c5d2f3bd91f1a8c.jpg: 640x640 3 rats, 8.2ms\n",
            "image 241/540 /content/rat-detect-1/test/images/WhatsApp-Video-2022-11-01-at-17_51_05_mp4-156_jpg.rf.589e394f912432b392e4519a8ed7a9cf.jpg: 640x640 3 rats, 10.3ms\n",
            "image 242/540 /content/rat-detect-1/test/images/WhatsApp-Video-2022-11-01-at-17_51_05_mp4-156_jpg.rf.a33325e0095c44a1052fc51ca5b0f231.jpg: 640x640 3 rats, 8.4ms\n",
            "image 243/540 /content/rat-detect-1/test/images/WhatsApp-Video-2022-11-01-at-17_51_05_mp4-163_jpg.rf.fd0cf45d765bc0f26972e5651f387258.jpg: 640x640 5 rats, 10.3ms\n",
            "image 244/540 /content/rat-detect-1/test/images/WhatsApp-Video-2022-11-01-at-17_51_05_mp4-165_jpg.rf.4cdffd9eaed9e1e461d36c4cfb1a04ba.jpg: 640x640 4 rats, 8.8ms\n",
            "image 245/540 /content/rat-detect-1/test/images/WhatsApp-Video-2022-11-01-at-17_51_05_mp4-165_jpg.rf.72438ea57b3511287049072d787c83fa.jpg: 640x640 2 rats, 8.7ms\n",
            "image 246/540 /content/rat-detect-1/test/images/WhatsApp-Video-2022-11-01-at-17_51_05_mp4-16_jpg.rf.083adb00ab20be7857af63061ddca449.jpg: 640x640 (no detections), 9.2ms\n",
            "image 247/540 /content/rat-detect-1/test/images/WhatsApp-Video-2022-11-01-at-17_51_05_mp4-170_jpg.rf.fab7af72a6edfef5cd0352eaf3906c81.jpg: 640x640 5 rats, 9.1ms\n",
            "image 248/540 /content/rat-detect-1/test/images/WhatsApp-Video-2022-11-01-at-17_51_05_mp4-172_jpg.rf.14bd93620cccba817739d15c2b6f4e4a.jpg: 640x640 3 rats, 10.6ms\n",
            "image 249/540 /content/rat-detect-1/test/images/WhatsApp-Video-2022-11-01-at-17_51_05_mp4-173_jpg.rf.792470e45e2e9cb58cfa78d5dac708bf.jpg: 640x640 5 rats, 8.8ms\n",
            "image 250/540 /content/rat-detect-1/test/images/WhatsApp-Video-2022-11-01-at-17_51_05_mp4-177_jpg.rf.c3e2a054d78bdcde99a4d7c9f7054fc9.jpg: 640x640 2 rats, 9.5ms\n",
            "image 251/540 /content/rat-detect-1/test/images/WhatsApp-Video-2022-11-01-at-17_51_05_mp4-180_jpg.rf.47bea07616cc02d53e10539eee403eb2.jpg: 640x640 2 rats, 8.9ms\n",
            "image 252/540 /content/rat-detect-1/test/images/WhatsApp-Video-2022-11-01-at-17_51_05_mp4-181_jpg.rf.aa116e6f5a8bccdbd56847b5add966bf.jpg: 640x640 5 rats, 9.0ms\n",
            "image 253/540 /content/rat-detect-1/test/images/WhatsApp-Video-2022-11-01-at-17_51_05_mp4-182_jpg.rf.f6d014cc6bc619b7269598b7b126c023.jpg: 640x640 1 rat, 7.8ms\n",
            "image 254/540 /content/rat-detect-1/test/images/WhatsApp-Video-2022-11-01-at-17_51_05_mp4-183_jpg.rf.38c4a53c8df0a101c7a8553867f76ef9.jpg: 640x640 2 rats, 6.3ms\n",
            "image 255/540 /content/rat-detect-1/test/images/WhatsApp-Video-2022-11-01-at-17_51_05_mp4-188_jpg.rf.3d0e978d7108d7e6d23f4029a9a92039.jpg: 640x640 4 rats, 6.4ms\n",
            "image 256/540 /content/rat-detect-1/test/images/WhatsApp-Video-2022-11-01-at-17_51_05_mp4-189_jpg.rf.7fa70f0884f02a1edd405f4d72ca5f9c.jpg: 640x640 1 rat, 6.5ms\n",
            "image 257/540 /content/rat-detect-1/test/images/WhatsApp-Video-2022-11-01-at-17_51_05_mp4-191_jpg.rf.b59c16f4297a2aa93e60ea14bb83ca5c.jpg: 640x640 5 rats, 6.5ms\n",
            "image 258/540 /content/rat-detect-1/test/images/WhatsApp-Video-2022-11-01-at-17_51_05_mp4-192_jpg.rf.3264ddb41efd7cc323ada64e6f94daa9.jpg: 640x640 6 rats, 5.9ms\n",
            "image 259/540 /content/rat-detect-1/test/images/WhatsApp-Video-2022-11-01-at-17_51_05_mp4-197_jpg.rf.56360892ba0988a3e4a1f5f3a05fe280.jpg: 640x640 5 rats, 6.3ms\n",
            "image 260/540 /content/rat-detect-1/test/images/WhatsApp-Video-2022-11-01-at-17_51_05_mp4-199_jpg.rf.8571a6efed0adca5b40d1dff68b8f077.jpg: 640x640 6 rats, 6.4ms\n",
            "image 261/540 /content/rat-detect-1/test/images/WhatsApp-Video-2022-11-01-at-17_51_05_mp4-211_jpg.rf.4d260ecdcb43d3d797fa92157dec5a53.jpg: 640x640 2 rats, 6.0ms\n",
            "image 262/540 /content/rat-detect-1/test/images/WhatsApp-Video-2022-11-01-at-17_51_05_mp4-213_jpg.rf.159272818e37999d7834fc81d82864bf.jpg: 640x640 5 rats, 6.2ms\n",
            "image 263/540 /content/rat-detect-1/test/images/WhatsApp-Video-2022-11-01-at-17_51_05_mp4-217_jpg.rf.845c70b34f488d6ca905581697f1dad6.jpg: 640x640 2 rats, 6.0ms\n",
            "image 264/540 /content/rat-detect-1/test/images/WhatsApp-Video-2022-11-01-at-17_51_05_mp4-220_jpg.rf.98b2f539d623ff82e03acf3dbd3dc716.jpg: 640x640 5 rats, 10.2ms\n",
            "image 265/540 /content/rat-detect-1/test/images/WhatsApp-Video-2022-11-01-at-17_51_05_mp4-220_jpg.rf.de074e9160ea632b0a6d04c153115de1.jpg: 640x640 4 rats, 6.4ms\n",
            "image 266/540 /content/rat-detect-1/test/images/WhatsApp-Video-2022-11-01-at-17_51_05_mp4-227_jpg.rf.d294945c9eb07ec279af605426ccf65a.jpg: 640x640 5 rats, 7.6ms\n",
            "image 267/540 /content/rat-detect-1/test/images/WhatsApp-Video-2022-11-01-at-17_51_05_mp4-229_jpg.rf.faeaa618ee417a1790bff4192d6483fd.jpg: 640x640 4 rats, 6.1ms\n",
            "image 268/540 /content/rat-detect-1/test/images/WhatsApp-Video-2022-11-01-at-17_51_05_mp4-238_jpg.rf.ea88bbf3b2dc8470a20f0084192863ab.jpg: 640x640 6 rats, 6.4ms\n",
            "image 269/540 /content/rat-detect-1/test/images/WhatsApp-Video-2022-11-01-at-17_51_05_mp4-239_jpg.rf.e1ea5a2421d14655a4011563761647a9.jpg: 640x640 4 rats, 5.9ms\n",
            "image 270/540 /content/rat-detect-1/test/images/WhatsApp-Video-2022-11-01-at-17_51_05_mp4-245_jpg.rf.a8d6c8e40d9a77ca09996c5b31a48745.jpg: 640x640 3 rats, 5.9ms\n",
            "image 271/540 /content/rat-detect-1/test/images/WhatsApp-Video-2022-11-01-at-17_51_05_mp4-245_jpg.rf.b0b4769194342076ae9d0d2f284c752f.jpg: 640x640 5 rats, 7.8ms\n",
            "image 272/540 /content/rat-detect-1/test/images/WhatsApp-Video-2022-11-01-at-17_51_05_mp4-246_jpg.rf.025f466d369a6bf65a4853536c22bc91.jpg: 640x640 5 rats, 6.1ms\n",
            "image 273/540 /content/rat-detect-1/test/images/WhatsApp-Video-2022-11-01-at-17_51_05_mp4-249_jpg.rf.9bbe74f49c1a3591fad1312a680265fc.jpg: 640x640 5 rats, 9.2ms\n",
            "image 274/540 /content/rat-detect-1/test/images/WhatsApp-Video-2022-11-01-at-17_51_05_mp4-252_jpg.rf.15036618c6ed32f57bb29dbe77f860e8.jpg: 640x640 4 rats, 5.9ms\n",
            "image 275/540 /content/rat-detect-1/test/images/WhatsApp-Video-2022-11-01-at-17_51_05_mp4-254_jpg.rf.4929f220911e9b2f316967cc176f5758.jpg: 640x640 5 rats, 6.3ms\n",
            "image 276/540 /content/rat-detect-1/test/images/WhatsApp-Video-2022-11-01-at-17_51_05_mp4-259_jpg.rf.89d9d403f706ff268f6dedc6371e1380.jpg: 640x640 4 rats, 8.0ms\n",
            "image 277/540 /content/rat-detect-1/test/images/WhatsApp-Video-2022-11-01-at-17_51_05_mp4-265_jpg.rf.9f17aa16316657613b883b23c9386bbc.jpg: 640x640 6 rats, 8.3ms\n",
            "image 278/540 /content/rat-detect-1/test/images/WhatsApp-Video-2022-11-01-at-17_51_05_mp4-266_jpg.rf.c2a03a51ba29055f63147c95ae0101a5.jpg: 640x640 4 rats, 6.2ms\n",
            "image 279/540 /content/rat-detect-1/test/images/WhatsApp-Video-2022-11-01-at-17_51_05_mp4-267_jpg.rf.89b8520f31539dc2fca20bfcb4de5362.jpg: 640x640 4 rats, 6.9ms\n",
            "image 280/540 /content/rat-detect-1/test/images/WhatsApp-Video-2022-11-01-at-17_51_05_mp4-268_jpg.rf.5c0e548cecbd5621f4c4e95aea3e2543.jpg: 640x640 4 rats, 6.2ms\n",
            "image 281/540 /content/rat-detect-1/test/images/WhatsApp-Video-2022-11-01-at-17_51_05_mp4-268_jpg.rf.c5cfc0a3ad912716104387f84b795f8d.jpg: 640x640 1 rat, 5.9ms\n",
            "image 282/540 /content/rat-detect-1/test/images/WhatsApp-Video-2022-11-01-at-17_51_05_mp4-270_jpg.rf.9989325733ef1ef15da92effbb821d44.jpg: 640x640 3 rats, 6.4ms\n",
            "image 283/540 /content/rat-detect-1/test/images/WhatsApp-Video-2022-11-01-at-17_51_05_mp4-271_jpg.rf.96c9d42074b7c84736b1bf65eb3f3394.jpg: 640x640 3 rats, 6.3ms\n",
            "image 284/540 /content/rat-detect-1/test/images/WhatsApp-Video-2022-11-01-at-17_51_05_mp4-271_jpg.rf.c1c8cc92c9944a47f4cf06fd60250059.jpg: 640x640 4 rats, 7.5ms\n",
            "image 285/540 /content/rat-detect-1/test/images/WhatsApp-Video-2022-11-01-at-17_51_05_mp4-271_jpg.rf.d847b29612fdbb572eb9b76aede775b7.jpg: 640x640 4 rats, 6.0ms\n",
            "image 286/540 /content/rat-detect-1/test/images/WhatsApp-Video-2022-11-01-at-17_51_05_mp4-276_jpg.rf.3dcabe4f8c824f4b0d47eeca9f6a0f2e.jpg: 640x640 2 rats, 6.5ms\n",
            "image 287/540 /content/rat-detect-1/test/images/WhatsApp-Video-2022-11-01-at-17_51_05_mp4-280_jpg.rf.f57fa118761bbe1cdedc7978f1d25b3c.jpg: 640x640 3 rats, 6.1ms\n",
            "image 288/540 /content/rat-detect-1/test/images/WhatsApp-Video-2022-11-01-at-17_51_05_mp4-281_jpg.rf.4647d04833e7caff8aa6dbb69ec127ac.jpg: 640x640 2 rats, 6.2ms\n",
            "image 289/540 /content/rat-detect-1/test/images/WhatsApp-Video-2022-11-01-at-17_51_05_mp4-289_jpg.rf.7d769014bfcc76837c71b593e19e8003.jpg: 640x640 4 rats, 7.3ms\n",
            "image 290/540 /content/rat-detect-1/test/images/WhatsApp-Video-2022-11-01-at-17_51_05_mp4-28_jpg.rf.0b9077c39894e92caba61e3596d5d867.jpg: 640x640 4 rats, 7.0ms\n",
            "image 291/540 /content/rat-detect-1/test/images/WhatsApp-Video-2022-11-01-at-17_51_05_mp4-28_jpg.rf.a7945c957c971d6d67cfe9db7fb4b97c.jpg: 640x640 2 rats, 7.9ms\n",
            "image 292/540 /content/rat-detect-1/test/images/WhatsApp-Video-2022-11-01-at-17_51_05_mp4-293_jpg.rf.86e2fa71447454ddb46983bca99c1fbf.jpg: 640x640 4 rats, 6.4ms\n",
            "image 293/540 /content/rat-detect-1/test/images/WhatsApp-Video-2022-11-01-at-17_51_05_mp4-296_jpg.rf.8f636abf0854a9187b7e3acee77850b9.jpg: 640x640 5 rats, 6.2ms\n",
            "image 294/540 /content/rat-detect-1/test/images/WhatsApp-Video-2022-11-01-at-17_51_05_mp4-297_jpg.rf.111f7fd37f97532a51d6ee71bd19c80a.jpg: 640x640 3 rats, 6.0ms\n",
            "image 295/540 /content/rat-detect-1/test/images/WhatsApp-Video-2022-11-01-at-17_51_05_mp4-299_jpg.rf.7eb2280a79c539062731e3cc58c43e44.jpg: 640x640 4 rats, 10.7ms\n",
            "image 296/540 /content/rat-detect-1/test/images/WhatsApp-Video-2022-11-01-at-17_51_05_mp4-299_jpg.rf.bd5dc39d4020ceb8a3eaa7361a8cf7f3.jpg: 640x640 4 rats, 6.6ms\n",
            "image 297/540 /content/rat-detect-1/test/images/WhatsApp-Video-2022-11-01-at-17_51_05_mp4-301_jpg.rf.68311848dbb5ebd5f6d689d515179fdb.jpg: 640x640 1 rat, 6.4ms\n",
            "image 298/540 /content/rat-detect-1/test/images/WhatsApp-Video-2022-11-01-at-17_51_05_mp4-307_jpg.rf.4c78ccd8106ca5f4d7eb245cd1ec6382.jpg: 640x640 5 rats, 6.3ms\n",
            "image 299/540 /content/rat-detect-1/test/images/WhatsApp-Video-2022-11-01-at-17_51_05_mp4-310_jpg.rf.a64e97b56a6203d31c75f162402b6628.jpg: 640x640 4 rats, 6.4ms\n",
            "image 300/540 /content/rat-detect-1/test/images/WhatsApp-Video-2022-11-01-at-17_51_05_mp4-312_jpg.rf.5dd83d7eae0020ea6589347d480baaa1.jpg: 640x640 1 rat, 6.5ms\n",
            "image 301/540 /content/rat-detect-1/test/images/WhatsApp-Video-2022-11-01-at-17_51_05_mp4-316_jpg.rf.e102b52493f435038bbbb42426441889.jpg: 640x640 5 rats, 8.9ms\n",
            "image 302/540 /content/rat-detect-1/test/images/WhatsApp-Video-2022-11-01-at-17_51_05_mp4-318_jpg.rf.46e8856d7e6af60841cf08df7b0c41f6.jpg: 640x640 1 rat, 9.9ms\n",
            "image 303/540 /content/rat-detect-1/test/images/WhatsApp-Video-2022-11-01-at-17_51_05_mp4-320_jpg.rf.97c5c10e171e4d4d246034590da62932.jpg: 640x640 5 rats, 9.6ms\n",
            "image 304/540 /content/rat-detect-1/test/images/WhatsApp-Video-2022-11-01-at-17_51_05_mp4-323_jpg.rf.34ccedced38adf3c3c093cce0724cb97.jpg: 640x640 4 rats, 9.2ms\n",
            "image 305/540 /content/rat-detect-1/test/images/WhatsApp-Video-2022-11-01-at-17_51_05_mp4-323_jpg.rf.a1b8305cd7d4bb494cca936a9178cf13.jpg: 640x640 2 rats, 8.7ms\n",
            "image 306/540 /content/rat-detect-1/test/images/WhatsApp-Video-2022-11-01-at-17_51_05_mp4-33_jpg.rf.9fd095c98667f84462388a6925212313.jpg: 640x640 5 rats, 9.5ms\n",
            "image 307/540 /content/rat-detect-1/test/images/WhatsApp-Video-2022-11-01-at-17_51_05_mp4-40_jpg.rf.dcfee0e1e76bf83a52ce0489b16fbe4d.jpg: 640x640 4 rats, 10.7ms\n",
            "image 308/540 /content/rat-detect-1/test/images/WhatsApp-Video-2022-11-01-at-17_51_05_mp4-53_jpg.rf.da12e079b750aafd6eebd95b8f1ec912.jpg: 640x640 4 rats, 9.1ms\n",
            "image 309/540 /content/rat-detect-1/test/images/WhatsApp-Video-2022-11-01-at-17_51_05_mp4-54_jpg.rf.c9de338df973ad5e2b5a1b18e4c37cfc.jpg: 640x640 4 rats, 8.4ms\n",
            "image 310/540 /content/rat-detect-1/test/images/WhatsApp-Video-2022-11-01-at-17_51_05_mp4-57_jpg.rf.ad761e6acebe10b44323c7b3e4bd56c3.jpg: 640x640 4 rats, 8.7ms\n",
            "image 311/540 /content/rat-detect-1/test/images/WhatsApp-Video-2022-11-01-at-17_51_05_mp4-60_jpg.rf.f489a75f82cc27985e04c45d2ea2d270.jpg: 640x640 4 rats, 8.4ms\n",
            "image 312/540 /content/rat-detect-1/test/images/WhatsApp-Video-2022-11-01-at-17_51_05_mp4-64_jpg.rf.0b5a89be88b5338fbf2be0033ce222b3.jpg: 640x640 5 rats, 11.5ms\n",
            "image 313/540 /content/rat-detect-1/test/images/WhatsApp-Video-2022-11-01-at-17_51_05_mp4-65_jpg.rf.1471ff70c3597566000bdf0c11f31030.jpg: 640x640 6 rats, 8.2ms\n",
            "image 314/540 /content/rat-detect-1/test/images/WhatsApp-Video-2022-11-01-at-17_51_05_mp4-70_jpg.rf.31438c41bca099983dba5af59ff20b22.jpg: 640x640 4 rats, 9.5ms\n",
            "image 315/540 /content/rat-detect-1/test/images/WhatsApp-Video-2022-11-01-at-17_51_05_mp4-71_jpg.rf.91f5d0bf3a7a694273e5d56ae816f414.jpg: 640x640 1 rat, 8.8ms\n",
            "image 316/540 /content/rat-detect-1/test/images/WhatsApp-Video-2022-11-01-at-17_51_05_mp4-72_jpg.rf.4c8ba9a1fb695cbccd7c892eace51582.jpg: 640x640 4 rats, 9.4ms\n",
            "image 317/540 /content/rat-detect-1/test/images/WhatsApp-Video-2022-11-01-at-17_51_05_mp4-75_jpg.rf.aa69f2f44a6a486030e97a0be32202ca.jpg: 640x640 5 rats, 9.8ms\n",
            "image 318/540 /content/rat-detect-1/test/images/WhatsApp-Video-2022-11-01-at-17_51_05_mp4-76_jpg.rf.d1bbe4a91768d4ba1321305c6ac5ce7c.jpg: 640x640 4 rats, 8.6ms\n",
            "image 319/540 /content/rat-detect-1/test/images/WhatsApp-Video-2022-11-01-at-17_51_05_mp4-77_jpg.rf.f6e86ef0fb30e853460a7a450b37b150.jpg: 640x640 4 rats, 8.3ms\n",
            "image 320/540 /content/rat-detect-1/test/images/WhatsApp-Video-2022-11-01-at-17_51_05_mp4-81_jpg.rf.2e84fc2f252a45325fdf944f6b012c4b.jpg: 640x640 1 rat, 6.0ms\n",
            "image 321/540 /content/rat-detect-1/test/images/WhatsApp-Video-2022-11-01-at-17_51_05_mp4-84_jpg.rf.0d4644c3c1325ea3915e75ca8f0fc1f4.jpg: 640x640 4 rats, 6.3ms\n",
            "image 322/540 /content/rat-detect-1/test/images/WhatsApp-Video-2022-11-01-at-17_51_05_mp4-84_jpg.rf.0f1a0e83b0e877a78b8d1f259cb5e46e.jpg: 640x640 5 rats, 6.2ms\n",
            "image 323/540 /content/rat-detect-1/test/images/WhatsApp-Video-2022-11-01-at-17_51_05_mp4-85_jpg.rf.3a046ff5266c8d04afa98845c218b868.jpg: 640x640 1 rat, 10.8ms\n",
            "image 324/540 /content/rat-detect-1/test/images/WhatsApp-Video-2022-11-01-at-17_51_05_mp4-88_jpg.rf.277e08377131712b8d6b28fc128e9486.jpg: 640x640 3 rats, 6.3ms\n",
            "image 325/540 /content/rat-detect-1/test/images/WhatsApp-Video-2022-11-01-at-17_51_05_mp4-88_jpg.rf.496fb62d27a4b811394dfcdb3a7d06f2.jpg: 640x640 4 rats, 7.5ms\n",
            "image 326/540 /content/rat-detect-1/test/images/WhatsApp-Video-2022-11-01-at-17_51_05_mp4-92_jpg.rf.7c0279855f11a8c62bbf22fef2091c34.jpg: 640x640 2 rats, 6.0ms\n",
            "image 327/540 /content/rat-detect-1/test/images/WhatsApp-Video-2022-11-01-at-17_51_05_mp4-94_jpg.rf.482c3b3aad33d814e64eb2a4c7d13d95.jpg: 640x640 2 rats, 6.1ms\n",
            "image 328/540 /content/rat-detect-1/test/images/WhatsApp-Video-2022-11-01-at-17_51_05_mp4-94_jpg.rf.c3cf59131b20ab52843f07ef1d2732df.jpg: 640x640 1 rat, 6.0ms\n",
            "image 329/540 /content/rat-detect-1/test/images/WhatsApp-Video-2022-11-01-at-17_51_05_mp4-95_jpg.rf.64fa6f54ce6c236796adb781d56ffb15.jpg: 640x640 3 rats, 6.2ms\n",
            "image 330/540 /content/rat-detect-1/test/images/WhatsApp-Video-2022-11-01-at-17_51_05_mp4-95_jpg.rf.d2c4142b00d44ddc8acda8bf9d345a52.jpg: 640x640 5 rats, 14.6ms\n",
            "image 331/540 /content/rat-detect-1/test/images/WhatsApp-Video-2022-11-01-at-17_51_05_mp4-97_jpg.rf.6373556fa9fac84b7026d2e38a507c64.jpg: 640x640 4 rats, 7.6ms\n",
            "image 332/540 /content/rat-detect-1/test/images/WhatsApp-Video-2022-11-01-at-17_51_09_mp4-0_jpg.rf.983ad743fd1c59b8851b312a3cbb4f40.jpg: 640x640 4 rats, 6.1ms\n",
            "image 333/540 /content/rat-detect-1/test/images/WhatsApp-Video-2022-11-01-at-17_51_09_mp4-102_jpg.rf.c20961c2aa24a88e63619cda4e613960.jpg: 640x640 1 rat, 6.1ms\n",
            "image 334/540 /content/rat-detect-1/test/images/WhatsApp-Video-2022-11-01-at-17_51_09_mp4-104_jpg.rf.ccbf0b1880a62fa1cdd3f851035436c6.jpg: 640x640 4 rats, 6.0ms\n",
            "image 335/540 /content/rat-detect-1/test/images/WhatsApp-Video-2022-11-01-at-17_51_09_mp4-105_jpg.rf.2b00d565c7841ec56d280409ce66ce9a.jpg: 640x640 4 rats, 5.9ms\n",
            "image 336/540 /content/rat-detect-1/test/images/WhatsApp-Video-2022-11-01-at-17_51_09_mp4-105_jpg.rf.34a412c579428d394b152791b17b75ac.jpg: 640x640 5 rats, 6.4ms\n",
            "image 337/540 /content/rat-detect-1/test/images/WhatsApp-Video-2022-11-01-at-17_51_09_mp4-117_jpg.rf.43c185a929d493c2f51ee34f0aabd563.jpg: 640x640 4 rats, 6.0ms\n",
            "image 338/540 /content/rat-detect-1/test/images/WhatsApp-Video-2022-11-01-at-17_51_09_mp4-124_jpg.rf.cecca307b254f7484b17f93b714d9ecc.jpg: 640x640 2 rats, 6.2ms\n",
            "image 339/540 /content/rat-detect-1/test/images/WhatsApp-Video-2022-11-01-at-17_51_09_mp4-12_jpg.rf.c388d0c9ee5f88d159c5b7d8c66e39d9.jpg: 640x640 4 rats, 7.6ms\n",
            "image 340/540 /content/rat-detect-1/test/images/WhatsApp-Video-2022-11-01-at-17_51_09_mp4-130_jpg.rf.aa1d977df2910f7790aac8e475bbd890.jpg: 640x640 3 rats, 9.3ms\n",
            "image 341/540 /content/rat-detect-1/test/images/WhatsApp-Video-2022-11-01-at-17_51_09_mp4-130_jpg.rf.b8efaba79318e151ea766ad8400b935a.jpg: 640x640 4 rats, 6.5ms\n",
            "image 342/540 /content/rat-detect-1/test/images/WhatsApp-Video-2022-11-01-at-17_51_09_mp4-136_jpg.rf.80ca6cfefb8087d50de4176c77f96e7b.jpg: 640x640 3 rats, 6.8ms\n",
            "image 343/540 /content/rat-detect-1/test/images/WhatsApp-Video-2022-11-01-at-17_51_09_mp4-19_jpg.rf.07cbca1afbf8a1f6a85acd37814d622b.jpg: 640x640 4 rats, 6.7ms\n",
            "image 344/540 /content/rat-detect-1/test/images/WhatsApp-Video-2022-11-01-at-17_51_09_mp4-21_jpg.rf.772a99b702b8ea31b45500112130cf0c.jpg: 640x640 2 rats, 6.0ms\n",
            "image 345/540 /content/rat-detect-1/test/images/WhatsApp-Video-2022-11-01-at-17_51_09_mp4-23_jpg.rf.a56f883088bbdaa0563e93f4e076dee7.jpg: 640x640 1 rat, 7.2ms\n",
            "image 346/540 /content/rat-detect-1/test/images/WhatsApp-Video-2022-11-01-at-17_51_09_mp4-28_jpg.rf.af9f84d0adbed3f2dc8c4c07d6f5773a.jpg: 640x640 4 rats, 6.3ms\n",
            "image 347/540 /content/rat-detect-1/test/images/WhatsApp-Video-2022-11-01-at-17_51_09_mp4-29_jpg.rf.3568c6c708b8813e90b223f9c77c85e6.jpg: 640x640 4 rats, 7.7ms\n",
            "image 348/540 /content/rat-detect-1/test/images/WhatsApp-Video-2022-11-01-at-17_51_09_mp4-37_jpg.rf.70b6b87b02c5d74313a731f160005f2c.jpg: 640x640 4 rats, 7.5ms\n",
            "image 349/540 /content/rat-detect-1/test/images/WhatsApp-Video-2022-11-01-at-17_51_09_mp4-39_jpg.rf.b069044d6a0876506f7b949c5dcef9ae.jpg: 640x640 2 rats, 6.7ms\n",
            "image 350/540 /content/rat-detect-1/test/images/WhatsApp-Video-2022-11-01-at-17_51_09_mp4-4_jpg.rf.3037ce0a74a02216164ddef089f055ef.jpg: 640x640 5 rats, 6.2ms\n",
            "image 351/540 /content/rat-detect-1/test/images/WhatsApp-Video-2022-11-01-at-17_51_09_mp4-4_jpg.rf.ddd6bdf075b7ec392fa4051ced4952d8.jpg: 640x640 4 rats, 6.5ms\n",
            "image 352/540 /content/rat-detect-1/test/images/WhatsApp-Video-2022-11-01-at-17_51_09_mp4-51_jpg.rf.9fa6e900321d521f4ef2065726a816cf.jpg: 640x640 4 rats, 6.3ms\n",
            "image 353/540 /content/rat-detect-1/test/images/WhatsApp-Video-2022-11-01-at-17_51_09_mp4-52_jpg.rf.1697753388c06dc946a9f3f8c556f485.jpg: 640x640 7 rats, 6.7ms\n",
            "image 354/540 /content/rat-detect-1/test/images/WhatsApp-Video-2022-11-01-at-17_51_09_mp4-55_jpg.rf.d1af866cc4b0d1f488da7314fe9ff9e6.jpg: 640x640 5 rats, 7.2ms\n",
            "image 355/540 /content/rat-detect-1/test/images/WhatsApp-Video-2022-11-01-at-17_51_09_mp4-56_jpg.rf.14ef9fb4ae378b60ea4791aa3b7d5e71.jpg: 640x640 3 rats, 6.2ms\n",
            "image 356/540 /content/rat-detect-1/test/images/WhatsApp-Video-2022-11-01-at-17_51_09_mp4-58_jpg.rf.4b08e978ce45e5bd1749da0dd17d09dd.jpg: 640x640 4 rats, 6.2ms\n",
            "image 357/540 /content/rat-detect-1/test/images/WhatsApp-Video-2022-11-01-at-17_51_09_mp4-64_jpg.rf.7b468419fc90515efa161df6b29f5f7c.jpg: 640x640 4 rats, 5.8ms\n",
            "image 358/540 /content/rat-detect-1/test/images/WhatsApp-Video-2022-11-01-at-17_51_09_mp4-67_jpg.rf.a3543a278ecdd6538090f2148145c1fa.jpg: 640x640 4 rats, 5.8ms\n",
            "image 359/540 /content/rat-detect-1/test/images/WhatsApp-Video-2022-11-01-at-17_51_09_mp4-67_jpg.rf.acba5c96edeb69d7061049570f549b75.jpg: 640x640 3 rats, 6.0ms\n",
            "image 360/540 /content/rat-detect-1/test/images/WhatsApp-Video-2022-11-01-at-17_51_09_mp4-69_jpg.rf.39daef231b1242e4616a855c45699a28.jpg: 640x640 5 rats, 5.9ms\n",
            "image 361/540 /content/rat-detect-1/test/images/WhatsApp-Video-2022-11-01-at-17_51_09_mp4-6_jpg.rf.a10e25eaa0c60e6c4d4bc46cdfa10037.jpg: 640x640 4 rats, 6.2ms\n",
            "image 362/540 /content/rat-detect-1/test/images/WhatsApp-Video-2022-11-01-at-17_51_09_mp4-72_jpg.rf.26244098148b3def32d4eeaa9ad446e8.jpg: 640x640 5 rats, 6.0ms\n",
            "image 363/540 /content/rat-detect-1/test/images/WhatsApp-Video-2022-11-01-at-17_51_09_mp4-75_jpg.rf.4a03507f644b156950afee481affb22d.jpg: 640x640 4 rats, 6.6ms\n",
            "image 364/540 /content/rat-detect-1/test/images/WhatsApp-Video-2022-11-01-at-17_51_09_mp4-77_jpg.rf.add34f1a759fc559df56ade560717aff.jpg: 640x640 4 rats, 5.9ms\n",
            "image 365/540 /content/rat-detect-1/test/images/WhatsApp-Video-2022-11-01-at-17_51_09_mp4-78_jpg.rf.6a499f343d108c05098be21264b21b11.jpg: 640x640 1 rat, 7.9ms\n",
            "image 366/540 /content/rat-detect-1/test/images/WhatsApp-Video-2022-11-01-at-17_51_09_mp4-79_jpg.rf.c1ed2aff58c3483bcc296a2b21cc047a.jpg: 640x640 5 rats, 9.0ms\n",
            "image 367/540 /content/rat-detect-1/test/images/WhatsApp-Video-2022-11-01-at-17_51_09_mp4-79_jpg.rf.ea0b55200f193f5b11765bfff794c854.jpg: 640x640 6 rats, 10.2ms\n",
            "image 368/540 /content/rat-detect-1/test/images/WhatsApp-Video-2022-11-01-at-17_51_09_mp4-81_jpg.rf.205937393f6f1783f52f5cc219348b6a.jpg: 640x640 4 rats, 9.2ms\n",
            "image 369/540 /content/rat-detect-1/test/images/WhatsApp-Video-2022-11-01-at-17_51_09_mp4-84_jpg.rf.2aa6ac8248da97d01e5cfc238c1c1ae9.jpg: 640x640 1 rat, 8.4ms\n",
            "image 370/540 /content/rat-detect-1/test/images/big-taboo-banner_jpg.rf.6e128edfe1f22d98b39f286c269faa13.jpg: 640x640 3 rats, 8.5ms\n",
            "image 371/540 /content/rat-detect-1/test/images/big-taboo-banner_jpg.rf.dd07be9510615fc20a96f4feea82fc2a.jpg: 640x640 5 rats, 9.5ms\n",
            "image 372/540 /content/rat-detect-1/test/images/bramble-cay-mosaikschwanzratte-g-pr-w3032_jpg.rf.19561100c52f64a13110a6d04f5e775d.jpg: 640x640 1 rat, 1 rabbit, 8.3ms\n",
            "image 373/540 /content/rat-detect-1/test/images/dsc9669_jpg.rf.901d833bb4fe0e2835a508a8ff080084.jpg: 640x640 9 rats, 9.8ms\n",
            "image 374/540 /content/rat-detect-1/test/images/futter_ratte-w3073_jpg.rf.17f909ae09b8c1ae3ddc3f04a2c1fa87.jpg: 640x640 5 rats, 11.2ms\n",
            "image 375/540 /content/rat-detect-1/test/images/gettyimages-1000814876-2048x2048_jpg.rf.e6e05fd6aad6ff821f4de3929fc30187.jpg: 640x640 4 rats, 11.8ms\n",
            "image 376/540 /content/rat-detect-1/test/images/gettyimages-1223921350-2048x2048_jpg.rf.9df1edcbc106380d1f3808a260c8ddd1.jpg: 640x640 4 rats, 8.7ms\n",
            "image 377/540 /content/rat-detect-1/test/images/gettyimages-1268929954-2048x2048_jpg.rf.046722862603169ac9c144f37955e5f4.jpg: 640x640 2 rats, 8.9ms\n",
            "image 378/540 /content/rat-detect-1/test/images/gettyimages-3273215-2048x2048_jpg.rf.8e355f2ff7d9a2a84c47c655759b2796.jpg: 640x640 3 rats, 8.3ms\n",
            "image 379/540 /content/rat-detect-1/test/images/gettyimages-525973077-2048x2048_jpg.rf.8fd8377c7c2bf43315a88f74a01ead31.jpg: 640x640 4 rats, 8.5ms\n",
            "image 380/540 /content/rat-detect-1/test/images/gettyimages-842477322-2048x2048_jpg.rf.3e1173b50e0f88c358857412a28e78c4.jpg: 640x640 3 rats, 12.4ms\n",
            "image 381/540 /content/rat-detect-1/test/images/gettyimages-90061456-2048x2048_jpg.rf.5ba167a7ff72b2468ed14089b53ad837.jpg: 640x640 4 rats, 8.5ms\n",
            "image 382/540 /content/rat-detect-1/test/images/hausratte-diese-ratte-lebt-ungern-im-keller_jpg.rf.9e10d52a38f63e1136091af692dc2341.jpg: 640x640 4 rats, 6.4ms\n",
            "image 383/540 /content/rat-detect-1/test/images/hausratte-diese-ratte-lebt-ungern-im-keller_jpg.rf.b59a13f47fb40ef82eb6ab47a6a9ce09.jpg: 640x640 3 rats, 6.2ms\n",
            "image 384/540 /content/rat-detect-1/test/images/iStock-951851334_klein-1200x675-w3033_jpg.rf.bec16fb4ab89968f167c39b35f227907.jpg: 640x640 4 rats, 6.0ms\n",
            "image 385/540 /content/rat-detect-1/test/images/main_main_rodents-hero-img_jpg.rf.63ff19aabf6cc747125846756ea707d9.jpg: 640x640 3 rats, 6.2ms\n",
            "image 386/540 /content/rat-detect-1/test/images/main_rat-on-the-floor-image-desktop-w3017_jpg.rf.704c40e0d2f1c2f2ad8b91afd2b998bf.jpg: 640x640 2 rats, 6.4ms\n",
            "image 387/540 /content/rat-detect-1/test/images/n02325366_1058_JPEG_jpg.rf.0a2249a7e8aecde3036493fa86ba7a74.jpg: 640x640 1 rabbit, 6.7ms\n",
            "image 388/540 /content/rat-detect-1/test/images/n02325366_10764_JPEG_jpg.rf.e250c3fe64a91b15b36474ad635151d3.jpg: 640x640 1 rabbit, 6.2ms\n",
            "image 389/540 /content/rat-detect-1/test/images/n02325366_1088_JPEG_jpg.rf.fb822a230601ca54947111a751d9e6a7.jpg: 640x640 1 rabbit, 6.0ms\n",
            "image 390/540 /content/rat-detect-1/test/images/n02325366_11755_JPEG_jpg.rf.05a2dd898a58c7fa8031ebd696385ddf.jpg: 640x640 1 rabbit, 6.2ms\n",
            "image 391/540 /content/rat-detect-1/test/images/n02325366_1582_JPEG_jpg.rf.028a37b401d9c4fc2941f0d2445995e7.jpg: 640x640 1 rabbit, 6.2ms\n",
            "image 392/540 /content/rat-detect-1/test/images/n02325366_1677_JPEG_jpg.rf.5e6121580b3d22fa182348a027eb881a.jpg: 640x640 1 rabbit, 6.2ms\n",
            "image 393/540 /content/rat-detect-1/test/images/n02325366_1923_JPEG_jpg.rf.a12c7f1f9fb723146226ca8e9e10e7c5.jpg: 640x640 1 rabbit, 6.3ms\n",
            "image 394/540 /content/rat-detect-1/test/images/n02325366_2505_JPEG_jpg.rf.d01da4c45e9cfe3611bc8a84c75b3580.jpg: 640x640 1 rabbit, 6.2ms\n",
            "image 395/540 /content/rat-detect-1/test/images/n02325366_2584_JPEG_jpg.rf.217760c3269a95adb5656f755c402422.jpg: 640x640 (no detections), 5.8ms\n",
            "image 396/540 /content/rat-detect-1/test/images/n02325366_2735_JPEG_jpg.rf.cfa0f25bc9237a6515ddd229192ce790.jpg: 640x640 1 rabbit, 8.4ms\n",
            "image 397/540 /content/rat-detect-1/test/images/n02325366_2909_JPEG_jpg.rf.8b4d9a8b79643fdd2b298886319383be.jpg: 640x640 1 rabbit, 16.1ms\n",
            "image 398/540 /content/rat-detect-1/test/images/n02325366_3091_JPEG_jpg.rf.2bed4e4d6cef92020bc59ef0b33cebc6.jpg: 640x640 1 rabbit, 11.5ms\n",
            "image 399/540 /content/rat-detect-1/test/images/n02325366_3198_JPEG_jpg.rf.8b90d5fedf3b43e10ebcd139568133ac.jpg: 640x640 1 rabbit, 6.5ms\n",
            "image 400/540 /content/rat-detect-1/test/images/n02325366_3784_JPEG_jpg.rf.09649580069f78d48a3f1234111e4a20.jpg: 640x640 1 rabbit, 6.0ms\n",
            "image 401/540 /content/rat-detect-1/test/images/n02325366_3818_JPEG_jpg.rf.2228436afa635e6e6648e1f189adf72f.jpg: 640x640 1 rabbit, 6.1ms\n",
            "image 402/540 /content/rat-detect-1/test/images/n02325366_4249_JPEG_jpg.rf.aa1ecd9ef47281e1d670f8bfcbbd8e39.jpg: 640x640 1 rabbit, 7.5ms\n",
            "image 403/540 /content/rat-detect-1/test/images/n02325366_5047_JPEG_jpg.rf.b51413e0b238031dc1776bb2825c4b00.jpg: 640x640 2 rabbits, 6.0ms\n",
            "image 404/540 /content/rat-detect-1/test/images/n02325366_5176_JPEG_jpg.rf.15eeeeec85b4bba46dce1962a27bb6c8.jpg: 640x640 2 rabbits, 6.6ms\n",
            "image 405/540 /content/rat-detect-1/test/images/n02325366_595_JPEG_jpg.rf.4a5d98d4975a8190c0694e3417f18255.jpg: 640x640 1 rabbit, 6.5ms\n",
            "image 406/540 /content/rat-detect-1/test/images/n02325366_6157_JPEG_jpg.rf.7b6e2e18bb9f552bcc6b0a37f9fecd5e.jpg: 640x640 1 rabbit, 6.1ms\n",
            "image 407/540 /content/rat-detect-1/test/images/n02325366_7031_JPEG_jpg.rf.dbb4599348d13a56cc4f52d39bc39c40.jpg: 640x640 1 rabbit, 6.2ms\n",
            "image 408/540 /content/rat-detect-1/test/images/n02325366_8879_JPEG_jpg.rf.e99c7fa4e884c407f3d757b82174562e.jpg: 640x640 1 rabbit, 7.5ms\n",
            "image 409/540 /content/rat-detect-1/test/images/n02325366_8881_JPEG_jpg.rf.a56bdca426ecf3ccf27e81a851ac3d33.jpg: 640x640 1 rabbit, 6.0ms\n",
            "image 410/540 /content/rat-detect-1/test/images/n02325366_9114_JPEG_jpg.rf.3db4b5ee57de5c8c16c45f333de5b2a2.jpg: 640x640 1 rabbit, 6.5ms\n",
            "image 411/540 /content/rat-detect-1/test/images/n02325366_9796_JPEG_jpg.rf.50c6f347b6561717f30b9ab5054312af.jpg: 640x640 1 rabbit, 5.8ms\n",
            "image 412/540 /content/rat-detect-1/test/images/n02325366_9796_JPEG_jpg.rf.e3831415f7876fe467322d9ae7668392.jpg: 640x640 1 rabbit, 6.4ms\n",
            "image 413/540 /content/rat-detect-1/test/images/n02326432_10153_JPEG_jpg.rf.a44b89da495d528602682c28f492aacd.jpg: 640x640 1 rabbit, 6.9ms\n",
            "image 414/540 /content/rat-detect-1/test/images/n02326432_10157_JPEG_jpg.rf.d7c96f310013d303059ccbd5ff52f1e2.jpg: 640x640 1 rabbit, 6.7ms\n",
            "image 415/540 /content/rat-detect-1/test/images/n02326432_10241_JPEG_jpg.rf.ab220310b555a3e84f58c180c3f30c3e.jpg: 640x640 1 rabbit, 6.4ms\n",
            "image 416/540 /content/rat-detect-1/test/images/n02326432_10241_JPEG_jpg.rf.c61f3f7228df81b3ab1b01b68e30cfe9.jpg: 640x640 1 rabbit, 6.4ms\n",
            "image 417/540 /content/rat-detect-1/test/images/n02326432_10367_JPEG_jpg.rf.4f7276b0c1fa953ea4d76fea821f3a34.jpg: 640x640 1 rabbit, 6.9ms\n",
            "image 418/540 /content/rat-detect-1/test/images/n02326432_1075_JPEG_jpg.rf.8f7463a9c4881960301e6e24372ace73.jpg: 640x640 1 rabbit, 8.3ms\n",
            "image 419/540 /content/rat-detect-1/test/images/n02326432_11291_JPEG_jpg.rf.3f7eace4401835add2123653223d3555.jpg: 640x640 (no detections), 6.2ms\n",
            "image 420/540 /content/rat-detect-1/test/images/n02326432_1140_JPEG_jpg.rf.9fe0be6e023b2326d598659e679fa469.jpg: 640x640 1 rabbit, 6.5ms\n",
            "image 421/540 /content/rat-detect-1/test/images/n02326432_12067_JPEG_jpg.rf.85067964f3b824655b38173e0e5fcb8f.jpg: 640x640 1 rabbit, 6.3ms\n",
            "image 422/540 /content/rat-detect-1/test/images/n02326432_12304_JPEG_jpg.rf.05185f6879f449d5cac8c68983c65784.jpg: 640x640 1 rabbit, 6.0ms\n",
            "image 423/540 /content/rat-detect-1/test/images/n02326432_12312_JPEG_jpg.rf.14e77a21fbc07b97ca8080a93d63fe49.jpg: 640x640 1 rabbit, 6.3ms\n",
            "image 424/540 /content/rat-detect-1/test/images/n02326432_13129_JPEG_jpg.rf.a1f823ebda2d664e251895f2f5c328a5.jpg: 640x640 1 rabbit, 6.1ms\n",
            "image 425/540 /content/rat-detect-1/test/images/n02326432_14079_JPEG_jpg.rf.113d00fc93e6c6f8e45fc1ea8c0872f0.jpg: 640x640 1 rabbit, 6.3ms\n",
            "image 426/540 /content/rat-detect-1/test/images/n02326432_14224_JPEG_jpg.rf.056e32f07bafc11e03b7a0d8c3c45f48.jpg: 640x640 1 rabbit, 7.3ms\n",
            "image 427/540 /content/rat-detect-1/test/images/n02326432_14224_JPEG_jpg.rf.2e44344c1f1e24eb2350e05bf5eb3bb5.jpg: 640x640 1 rabbit, 6.6ms\n",
            "image 428/540 /content/rat-detect-1/test/images/n02326432_14582_JPEG_jpg.rf.37b08e4676a799b52f86852cb3cfef30.jpg: 640x640 1 rabbit, 7.1ms\n",
            "image 429/540 /content/rat-detect-1/test/images/n02326432_14898_JPEG_jpg.rf.f11893c70aca5db34312b4e5b95ea972.jpg: 640x640 1 rabbit, 7.3ms\n",
            "image 430/540 /content/rat-detect-1/test/images/n02326432_15390_JPEG_jpg.rf.4ca9b5b52fbb7830759bf4eeed79b096.jpg: 640x640 1 rabbit, 11.4ms\n",
            "image 431/540 /content/rat-detect-1/test/images/n02326432_17210_JPEG_jpg.rf.73350a57183ac9d232ef4b026ed24de0.jpg: 640x640 1 rabbit, 7.3ms\n",
            "image 432/540 /content/rat-detect-1/test/images/n02326432_20123_JPEG_jpg.rf.fc126548bc76f41e77cb7ff404e0c9eb.jpg: 640x640 1 rabbit, 8.5ms\n",
            "image 433/540 /content/rat-detect-1/test/images/n02326432_22526_JPEG_jpg.rf.e76302089b63d2fff30735f750288544.jpg: 640x640 1 rabbit, 12.1ms\n",
            "image 434/540 /content/rat-detect-1/test/images/n02326432_24_JPEG_jpg.rf.22864ea590d21422f2569f1014d98ad3.jpg: 640x640 1 rabbit, 8.3ms\n",
            "image 435/540 /content/rat-detect-1/test/images/n02326432_31995_JPEG_jpg.rf.9ff20fc3e33489155631946e2cc47881.jpg: 640x640 2 rabbits, 11.1ms\n",
            "image 436/540 /content/rat-detect-1/test/images/n02326432_33306_JPEG_jpg.rf.6e04755f7d047e7aa596175fa2e3c50a.jpg: 640x640 1 rabbit, 8.8ms\n",
            "image 437/540 /content/rat-detect-1/test/images/n02326432_33318_JPEG_jpg.rf.53ee0f08d58e1291cf9ee347252ddce6.jpg: 640x640 1 rabbit, 8.6ms\n",
            "image 438/540 /content/rat-detect-1/test/images/n02326432_3483_JPEG_jpg.rf.8f46831ab7faa3bdb22d9d959a1b2c79.jpg: 640x640 1 rabbit, 8.2ms\n",
            "image 439/540 /content/rat-detect-1/test/images/n02326432_35713_JPEG_jpg.rf.5f3649525147144c5a8e3c2c017d84cf.jpg: 640x640 1 rabbit, 8.1ms\n",
            "image 440/540 /content/rat-detect-1/test/images/n02326432_363_JPEG_jpg.rf.252812bf7e0dcb3965b9b93e6987f7dd.jpg: 640x640 1 rabbit, 9.1ms\n",
            "image 441/540 /content/rat-detect-1/test/images/n02326432_4084_JPEG_jpg.rf.3ed150c7e1f56c318e10187a35973bc7.jpg: 640x640 1 rabbit, 8.0ms\n",
            "image 442/540 /content/rat-detect-1/test/images/n02326432_43120_JPEG_jpg.rf.b10545786a382d5e3e3c1d219a0b7e97.jpg: 640x640 (no detections), 8.7ms\n",
            "image 443/540 /content/rat-detect-1/test/images/n02326432_4612_JPEG_jpg.rf.ce6f880ba56de201cb7165beb3d9aaec.jpg: 640x640 1 rabbit, 9.3ms\n",
            "image 444/540 /content/rat-detect-1/test/images/n02326432_6340_JPEG_jpg.rf.f3b0a670faa0eb7850ea8afa233a5f1e.jpg: 640x640 1 rabbit, 8.3ms\n",
            "image 445/540 /content/rat-detect-1/test/images/n02326432_7212_JPEG_jpg.rf.eb8c80a7dccbec3d977d9cdc2ac1103d.jpg: 640x640 1 rabbit, 10.4ms\n",
            "image 446/540 /content/rat-detect-1/test/images/n02326432_7821_JPEG_jpg.rf.cbb1fc9fca68cd6ec6a5b4fe168d0ee4.jpg: 640x640 1 rabbit, 8.6ms\n",
            "image 447/540 /content/rat-detect-1/test/images/n02326432_7870_JPEG_jpg.rf.8f9de4a9651f35845ece65ad72914c62.jpg: 640x640 1 rabbit, 9.9ms\n",
            "image 448/540 /content/rat-detect-1/test/images/n02326432_9257_JPEG_jpg.rf.3cde9112163157555a49ea7256fc7488.jpg: 640x640 1 rabbit, 8.9ms\n",
            "image 449/540 /content/rat-detect-1/test/images/n02326432_9341_JPEG_jpg.rf.e792063691160af3284fbf8b32042d1a.jpg: 640x640 2 rabbits, 8.7ms\n",
            "image 450/540 /content/rat-detect-1/test/images/n02326432_9699_JPEG_jpg.rf.ada6049f7c6be48e095dc7e20f8db41b.jpg: 640x640 2 rabbits, 6.7ms\n",
            "image 451/540 /content/rat-detect-1/test/images/n02328150_10205_JPEG_jpg.rf.931e89128b35fc8e139cf3e46c64689e.jpg: 640x640 1 rabbit, 6.3ms\n",
            "image 452/540 /content/rat-detect-1/test/images/n02328150_10265_JPEG_jpg.rf.1589b2efce1de98b3548d93a347edf75.jpg: 640x640 1 rabbit, 7.8ms\n",
            "image 453/540 /content/rat-detect-1/test/images/n02328150_10424_JPEG_jpg.rf.27007460d840dbb2d513fce18b7bb9db.jpg: 640x640 1 rabbit, 6.4ms\n",
            "image 454/540 /content/rat-detect-1/test/images/n02328150_10672_JPEG_jpg.rf.82bae999f5e8fbb4181dff6b510d6484.jpg: 640x640 1 rabbit, 6.2ms\n",
            "image 455/540 /content/rat-detect-1/test/images/n02328150_1107_JPEG_jpg.rf.4e5e91d021a39acc0a418abce7f9586f.jpg: 640x640 1 rat, 1 rabbit, 6.3ms\n",
            "image 456/540 /content/rat-detect-1/test/images/n02328150_11225_JPEG_jpg.rf.9aec7241b3a7ede4f98420cb444a2503.jpg: 640x640 1 rabbit, 7.7ms\n",
            "image 457/540 /content/rat-detect-1/test/images/n02328150_11588_JPEG_jpg.rf.1e2f80a213de0b2f92a7c3ad152ba507.jpg: 640x640 1 rabbit, 6.2ms\n",
            "image 458/540 /content/rat-detect-1/test/images/n02328150_11588_JPEG_jpg.rf.a1a19ca43e991e333f73de5eddfa610b.jpg: 640x640 1 rabbit, 6.3ms\n",
            "image 459/540 /content/rat-detect-1/test/images/n02328150_12189_JPEG_jpg.rf.44ca49519b6718527a74d83c4b99b602.jpg: 640x640 1 rabbit, 6.1ms\n",
            "image 460/540 /content/rat-detect-1/test/images/n02328150_13475_JPEG_jpg.rf.1164b3d75d5620763efda44770f196e5.jpg: 640x640 1 rabbit, 6.3ms\n",
            "image 461/540 /content/rat-detect-1/test/images/n02328150_13565_JPEG_jpg.rf.06709e4a48b56631937dba8ca16c2bc4.jpg: 640x640 1 rabbit, 8.1ms\n",
            "image 462/540 /content/rat-detect-1/test/images/n02328150_14656_JPEG_jpg.rf.263c4c89585efc545d136520a8c3eb82.jpg: 640x640 1 rabbit, 6.1ms\n",
            "image 463/540 /content/rat-detect-1/test/images/n02328150_15837_JPEG_jpg.rf.77e36b9e8b1de73039fd899053b90af5.jpg: 640x640 1 rabbit, 5.9ms\n",
            "image 464/540 /content/rat-detect-1/test/images/n02328150_1652_JPEG_jpg.rf.450b218eb052ad54d54e372279f50d8b.jpg: 640x640 1 rabbit, 10.4ms\n",
            "image 465/540 /content/rat-detect-1/test/images/n02328150_1717_JPEG_jpg.rf.3e6ac6a1a2315e91cdca6ce46b4368c4.jpg: 640x640 1 rabbit, 12.6ms\n",
            "image 466/540 /content/rat-detect-1/test/images/n02328150_1722_JPEG_jpg.rf.06bf046c3ab4a7180df05ed6d12afce5.jpg: 640x640 2 rabbits, 6.4ms\n",
            "image 467/540 /content/rat-detect-1/test/images/n02328150_17318_JPEG_jpg.rf.59f1c262a4b92321be967ca43ee3723b.jpg: 640x640 1 rabbit, 6.2ms\n",
            "image 468/540 /content/rat-detect-1/test/images/n02328150_17689_JPEG_jpg.rf.e3fd1c5067beeb5aa23565884f7d7133.jpg: 640x640 1 rabbit, 6.0ms\n",
            "image 469/540 /content/rat-detect-1/test/images/n02328150_17728_JPEG_jpg.rf.ec04afd7eaf8f2f5e1d5876b1922bbb7.jpg: 640x640 1 rabbit, 6.2ms\n",
            "image 470/540 /content/rat-detect-1/test/images/n02328150_18138_JPEG_jpg.rf.e9d1742e776301ee24e2c76281489d83.jpg: 640x640 1 rabbit, 8.6ms\n",
            "image 471/540 /content/rat-detect-1/test/images/n02328150_18737_JPEG_jpg.rf.f3715513f1fd64221fbfe256845d4c96.jpg: 640x640 1 rabbit, 6.3ms\n",
            "image 472/540 /content/rat-detect-1/test/images/n02328150_18922_JPEG_jpg.rf.41478f67be1fdc6cb6d8a5387fd4366f.jpg: 640x640 1 rabbit, 6.2ms\n",
            "image 473/540 /content/rat-detect-1/test/images/n02328150_18924_JPEG_jpg.rf.925010ec7ef075e2a30a702fe48c9509.jpg: 640x640 2 rabbits, 6.2ms\n",
            "image 474/540 /content/rat-detect-1/test/images/n02328150_2318_JPEG_jpg.rf.bfbe47f5eb4ceba974ac4a06911fceae.jpg: 640x640 1 rabbit, 6.1ms\n",
            "image 475/540 /content/rat-detect-1/test/images/n02328150_23272_JPEG_jpg.rf.6c0fe855df3e637ea9e857dd0f01cb3d.jpg: 640x640 1 rabbit, 7.2ms\n",
            "image 476/540 /content/rat-detect-1/test/images/n02328150_234_JPEG_jpg.rf.709e71d19365a01e66c49eb275699f9f.jpg: 640x640 1 rabbit, 6.5ms\n",
            "image 477/540 /content/rat-detect-1/test/images/n02328150_234_JPEG_jpg.rf.c337484307ef6b48e3342de81ff5f3b7.jpg: 640x640 1 rabbit, 6.5ms\n",
            "image 478/540 /content/rat-detect-1/test/images/n02328150_25732_JPEG_jpg.rf.a26f8ec6902a6e24fb6826803d880a81.jpg: 640x640 1 rabbit, 6.1ms\n",
            "image 479/540 /content/rat-detect-1/test/images/n02328150_2789_JPEG_jpg.rf.85f552ac793c3d2863e77de4827b0b92.jpg: 640x640 1 rabbit, 5.9ms\n",
            "image 480/540 /content/rat-detect-1/test/images/n02328150_2819_JPEG_jpg.rf.fc38eecd60d90eb01458483a76bf6902.jpg: 640x640 1 rabbit, 6.4ms\n",
            "image 481/540 /content/rat-detect-1/test/images/n02328150_3080_JPEG_jpg.rf.fb3bd453b31e7c245906dbb0fe6a3037.jpg: 640x640 1 rabbit, 8.0ms\n",
            "image 482/540 /content/rat-detect-1/test/images/n02328150_3272_JPEG_jpg.rf.21712eeabcfb57c69d7428c4c97ab4af.jpg: 640x640 1 rabbit, 7.0ms\n",
            "image 483/540 /content/rat-detect-1/test/images/n02328150_3367_JPEG_jpg.rf.3ae163cc99dad222c29dce48f311d022.jpg: 640x640 1 rabbit, 6.7ms\n",
            "image 484/540 /content/rat-detect-1/test/images/n02328150_3378_JPEG_jpg.rf.db245ffb350c7d5201477779ff1e3ac7.jpg: 640x640 1 rabbit, 6.0ms\n",
            "image 485/540 /content/rat-detect-1/test/images/n02328150_3514_JPEG_jpg.rf.024444fa21e8f0d2e421d71f7de66bbb.jpg: 640x640 1 rabbit, 6.0ms\n",
            "image 486/540 /content/rat-detect-1/test/images/n02328150_384_JPEG_jpg.rf.db934d2ddaa75f2a7ed2e3144e5f2bca.jpg: 640x640 1 rabbit, 6.5ms\n",
            "image 487/540 /content/rat-detect-1/test/images/n02328150_402_JPEG_jpg.rf.d5fcc6f7fdb36eb854ccee0a906a232b.jpg: 640x640 1 rabbit, 5.9ms\n",
            "image 488/540 /content/rat-detect-1/test/images/n02328150_4971_JPEG_jpg.rf.af8bd337e85ca7728ace60776160ad2a.jpg: 640x640 1 rabbit, 8.7ms\n",
            "image 489/540 /content/rat-detect-1/test/images/n02328150_5080_JPEG_jpg.rf.94868f37467c0e5bb402e2e072e9f0f9.jpg: 640x640 1 rabbit, 5.9ms\n",
            "image 490/540 /content/rat-detect-1/test/images/n02328150_5211_JPEG_jpg.rf.3c653ea5523bbf4dbddf56fe79e9b40e.jpg: 640x640 1 rabbit, 6.1ms\n",
            "image 491/540 /content/rat-detect-1/test/images/n02328150_6298_JPEG_jpg.rf.965e21a3fd52363865b85a08789d5a31.jpg: 640x640 1 rabbit, 9.0ms\n",
            "image 492/540 /content/rat-detect-1/test/images/n02328150_6460_JPEG_jpg.rf.c48811b35f44fd6d5985dc1a8836760a.jpg: 640x640 1 rabbit, 6.7ms\n",
            "image 493/540 /content/rat-detect-1/test/images/n02328150_6741_JPEG_jpg.rf.db6e17c1f24af69bc843ee2ffa872c15.jpg: 640x640 1 rabbit, 6.2ms\n",
            "image 494/540 /content/rat-detect-1/test/images/n02328150_7835_JPEG_jpg.rf.2861d28fc45d6ea6f4d310451ca8335c.jpg: 640x640 1 rabbit, 12.1ms\n",
            "image 495/540 /content/rat-detect-1/test/images/n02328150_7993_JPEG_jpg.rf.306377b50a089c595b4b2dc062360635.jpg: 640x640 2 rabbits, 12.4ms\n",
            "image 496/540 /content/rat-detect-1/test/images/n02328150_8347_JPEG_jpg.rf.0098368a03f038506ba4a51acfd82e63.jpg: 640x640 1 rabbit, 8.6ms\n",
            "image 497/540 /content/rat-detect-1/test/images/n02328150_8586_JPEG_jpg.rf.fcba3882ae6ffaf9314a3d28a791386e.jpg: 640x640 1 rabbit, 8.8ms\n",
            "image 498/540 /content/rat-detect-1/test/images/n02328150_9130_JPEG_jpg.rf.540bbee8e2fd3e8f1ba65bee74a191e1.jpg: 640x640 1 rabbit, 9.2ms\n",
            "image 499/540 /content/rat-detect-1/test/images/n02328150_9648_JPEG_jpg.rf.3d2b0dc67090cfa908bc46b88a29ff47.jpg: 640x640 1 rat, 3 rabbits, 8.4ms\n",
            "image 500/540 /content/rat-detect-1/test/images/n02328150_9657_JPEG_jpg.rf.7559b85b3e3bfa7a551f2696b0fdf1a9.jpg: 640x640 1 rabbit, 10.6ms\n",
            "image 501/540 /content/rat-detect-1/test/images/nzwz-bd9f9e27-98ce-47f9-912c-92c6936487ec_onlineBild_jpg.rf.73dc40bedbca35234774150f3eef43f5.jpg: 640x640 6 rats, 9.2ms\n",
            "image 502/540 /content/rat-detect-1/test/images/planet-e-ratten-in-der-stadt-bild-rattus-rattus-hausratte-100_3840x2160-w3018_jpg.rf.7e5b6b49119a6a0b72d1aec48434c52c.jpg: 640x640 2 rats, 8.5ms\n",
            "image 503/540 /content/rat-detect-1/test/images/rat-987c78e8f6d5124306d52a0a978ad8853a9d8988-s800-c85-w2910_jpg.rf.934b1c2cdcce41631f2cb956f09cfe1b.jpg: 640x640 4 rats, 8.6ms\n",
            "image 504/540 /content/rat-detect-1/test/images/rat-invasion_jpg.rf.fa8cf7bfb83fbf293fb15de9078c1908.jpg: 640x640 2 rats, 10.7ms\n",
            "image 505/540 /content/rat-detect-1/test/images/rat-la-city-hall_jpg.rf.b9ff2b4ce5440fa5e5c01d559d748872.jpg: 640x640 5 rats, 8.2ms\n",
            "image 506/540 /content/rat-detect-1/test/images/rat-whiskers-93118026-iStock_wildcat78-w2916_jpg.rf.7ba1a921471e44edad8e0994414e18e1.jpg: 640x640 6 rats, 9.2ms\n",
            "image 507/540 /content/rat-detect-1/test/images/rat_2309141989_jpg.rf.6a5713ae1520825810f3b373e20413ac.jpg: 640x640 3 rats, 8.4ms\n",
            "image 508/540 /content/rat-detect-1/test/images/ratas-750x375_jpg.rf.22e53c38eee2695489fd87930802012f.jpg: 640x640 1 rat, 9.1ms\n",
            "image 509/540 /content/rat-detect-1/test/images/ratcf3o_jpg.rf.50b807c9265d4a5c1cc76ffad0a50ff6.jpg: 640x640 3 rats, 8.5ms\n",
            "image 510/540 /content/rat-detect-1/test/images/rats-wood-surface-w2907_jpg.rf.8234b0f9022d3ac48ed3585de4fded90.jpg: 640x640 2 rats, 9.3ms\n",
            "image 511/540 /content/rat-detect-1/test/images/rats_newsweek_com_jpg.rf.222a41bab1e52549a7520db402c0abef.jpg: 640x640 3 rats, 8.3ms\n",
            "image 512/540 /content/rat-detect-1/test/images/ratte-106_jpg.rf.fd3f358cf1a6f160711eb9b55a7de7ec.jpg: 640x640 5 rats, 6.7ms\n",
            "image 513/540 /content/rat-detect-1/test/images/ratte-124_3840x2160-w3034_jpg.rf.96eae73323241c96064035c79b5bc06b.jpg: 640x640 4 rats, 6.2ms\n",
            "image 514/540 /content/rat-detect-1/test/images/ratte-5922192-w2977_jpg.rf.fa4673a2dd72d553d33a419510251e7e.jpg: 640x640 5 rats, 6.8ms\n",
            "image 515/540 /content/rat-detect-1/test/images/ratte-bensheim2_1551255828-w3036_jpg.rf.cf84f636ceef6dbf3336a76ed0ff5f74.jpg: 640x640 3 rats, 6.1ms\n",
            "image 516/540 /content/rat-detect-1/test/images/ratte-im-garten_2_jpg.rf.b278497831ebf9cad1d75a6e560cc5fa.jpg: 640x640 5 rats, 6.2ms\n",
            "image 517/540 /content/rat-detect-1/test/images/ratte-infektionen_jpg.rf.75bc65600c3f4a79581c76b72e5ef105.jpg: 640x640 5 rats, 6.0ms\n",
            "image 518/540 /content/rat-detect-1/test/images/ratte-pb-w3028_jpg.rf.1edd4f184b3912f5424b13a88afdda8c.jpg: 640x640 4 rats, 6.0ms\n",
            "image 519/540 /content/rat-detect-1/test/images/ratte-pb-w3028_jpg.rf.203103b3309cfbf1f0dc82c2ffeac18f.jpg: 640x640 4 rats, 6.2ms\n",
            "image 520/540 /content/rat-detect-1/test/images/ratte-pb-w3028_jpg.rf.b7db89686bf9aaa969b2a6be874fefb8.jpg: 640x640 4 rats, 6.1ms\n",
            "image 521/540 /content/rat-detect-1/test/images/ratte-ratten-nagetier-114_jpg.rf.8b21155bfbc7ce76ee186e46065444d3.jpg: 640x640 6 rats, 7.9ms\n",
            "image 522/540 /content/rat-detect-1/test/images/ratte-w3009_jpg.rf.d622f7d130e6a29e9b52c52b307179b2.jpg: 640x640 1 rat, 6.1ms\n",
            "image 523/540 /content/rat-detect-1/test/images/ratte_full_jpg.rf.08f1143ed7934bc509dee0fd9f0ea81c.jpg: 640x640 4 rats, 6.0ms\n",
            "image 524/540 /content/rat-detect-1/test/images/ratte_full_jpg.rf.1376638218167bcda164cb87c947e432.jpg: 640x640 1 rat, 1 rabbit, 7.1ms\n",
            "image 525/540 /content/rat-detect-1/test/images/ratte_slider-w3021_jpg.rf.a62bd8f965355db5e37b6e2ef93879d3.jpg: 640x640 3 rats, 5.9ms\n",
            "image 526/540 /content/rat-detect-1/test/images/ratte_steckbrief_l-w3045_jpg.rf.c4b1e9024515dae45e3db821eaa62acf.jpg: 640x640 4 rats, 6.1ms\n",
            "image 527/540 /content/rat-detect-1/test/images/ratten-bilder-110__v-gseapremiumxl-w2998_jpg.rf.88aa5f0bfc09f8e6639874f27b62d3a5.jpg: 640x640 3 rats, 6.0ms\n",
            "image 528/540 /content/rat-detect-1/test/images/ratten-bilder-110__v-gseapremiumxl-w2998_jpg.rf.9f09d5e9b1c30a007bb60a78c076c047.jpg: 640x640 4 rats, 5.9ms\n",
            "image 529/540 /content/rat-detect-1/test/images/ratten-ernaehrung-181071040-istock_jpg.rf.f3c46544c52a16681254778f438d1032.jpg: 640x640 8 rats, 6.0ms\n",
            "image 530/540 /content/rat-detect-1/test/images/ratten-im-garten-erkennen-frisch-rattenbekampfung-stadt-koln-of-ratten-im-garten-erkennen_jpg.rf.3cff65c7c225615cee706d3b5a5526dc.jpg: 640x640 3 rats, 10.1ms\n",
            "image 531/540 /content/rat-detect-1/test/images/ratten-vertreiben-header-mobile-14804-0-w2989_jpg.rf.7c06f63530ef4f152e5d388edb27a1c5.jpg: 640x640 4 rats, 10.7ms\n",
            "image 532/540 /content/rat-detect-1/test/images/ratten1_318475a-768x432_jpg.rf.63228532b691623fe8e7cd8d6af07918.jpg: 640x640 4 rats, 6.4ms\n",
            "image 533/540 /content/rat-detect-1/test/images/rattenempathieg-w2991_jpg.rf.1fc850d5d2db3c39bf8e413773967dc0.jpg: 640x640 3 rats, 6.4ms\n",
            "image 534/540 /content/rat-detect-1/test/images/rodent-identification-v3_jpg.rf.1c54ed980becf403a9a73193c08e289d.jpg: 640x640 4 rats, 6.6ms\n",
            "image 535/540 /content/rat-detect-1/test/images/wanderratte-gross-15300_jpg.rf.41f5b96223b23526ebbb4aa75fde7c5c.jpg: 640x640 2 rats, 6.7ms\n",
            "image 536/540 /content/rat-detect-1/test/images/wanderratte-gross-15300_jpg.rf.c0f9cfdde7f1f0510adf34f4ae2a195d.jpg: 640x640 4 rats, 6.3ms\n",
            "image 537/540 /content/rat-detect-1/test/images/wanderratte_rattus-norvegicus_7_jpg.rf.948023ff13c284ddac2f4ba9dd458699.jpg: 640x640 4 rats, 7.6ms\n",
            "image 538/540 /content/rat-detect-1/test/images/wanderratte_rattus-norvegicus_7_jpg.rf.cd5e370ee02cb2ef9f54b1e6874730b1.jpg: 640x640 4 rats, 6.3ms\n",
            "image 539/540 /content/rat-detect-1/test/images/xxl_ratten_10-w3059_jpg.rf.8fe08761c4c7b0075f9cd623a7119e78.jpg: 640x640 3 rats, 6.1ms\n",
            "image 540/540 /content/rat-detect-1/test/images/zwei-suesse-farbratten-shutterstock-Eric-Isselee_jpg.rf.1a40487e02c9cb9a673529dd2785eb2c.jpg: 640x640 5 rats, 6.2ms\n",
            "Speed: 2.6ms preprocess, 8.2ms inference, 1.4ms postprocess per image at shape (1, 3, 640, 640)\n"
          ]
        }
      ]
    },
    {
      "cell_type": "code",
      "source": [
        "# Perform validation\n",
        "metrics = model.val(\n",
        "    data='/content/rat-detect-1/data.yaml',  # Path to the data.yaml file\n",
        "    batch=16,  # Batch size for validation\n",
        "    imgsz=640  # Image size for validation\n",
        ")\n"
      ],
      "metadata": {
        "id": "V_nZiTrg3oUm",
        "colab": {
          "base_uri": "https://localhost:8080/"
        },
        "outputId": "b8bac175-d679-4c96-a032-99c16c52c00a"
      },
      "execution_count": null,
      "outputs": [
        {
          "output_type": "stream",
          "name": "stdout",
          "text": [
            "Ultralytics YOLOv8.2.78 🚀 Python-3.10.12 torch-2.3.1+cu121 CUDA:0 (Tesla T4, 15102MiB)\n"
          ]
        },
        {
          "output_type": "stream",
          "name": "stderr",
          "text": [
            "\u001b[34m\u001b[1mval: \u001b[0mScanning /content/rat-detect-1/valid/labels.cache... 1061 images, 0 backgrounds, 0 corrupt: 100%|██████████| 1061/1061 [00:00<?, ?it/s]\n",
            "os.fork() was called. os.fork() is incompatible with multithreaded code, and JAX is multithreaded, so this will likely lead to a deadlock.\n",
            "                 Class     Images  Instances      Box(P          R      mAP50  mAP50-95): 100%|██████████| 67/67 [00:18<00:00,  3.64it/s]\n"
          ]
        },
        {
          "output_type": "stream",
          "name": "stdout",
          "text": [
            "                   all       1061       3119      0.878      0.814        0.9      0.678\n",
            "                   rat        806       2842      0.885      0.833      0.913       0.72\n",
            "                rabbit        255        277       0.87      0.796      0.887      0.635\n",
            "Speed: 0.3ms preprocess, 4.2ms inference, 0.0ms loss, 2.2ms postprocess per image\n",
            "Results saved to \u001b[1mruns/detect/val4\u001b[0m\n"
          ]
        }
      ]
    },
    {
      "cell_type": "code",
      "source": [
        "results = model('/content/rat-detect-1/test/')"
      ],
      "metadata": {
        "id": "Oc-W_evP6E7L"
      },
      "execution_count": null,
      "outputs": []
    },
    {
      "cell_type": "code",
      "source": [
        "from google.colab import drive\n",
        "drive.mount('/content/drive')\n"
      ],
      "metadata": {
        "colab": {
          "base_uri": "https://localhost:8080/"
        },
        "id": "iUHsShaf8ep-",
        "outputId": "3b4756c0-f60c-40f8-a6aa-f57a99942a6a"
      },
      "execution_count": null,
      "outputs": [
        {
          "output_type": "stream",
          "name": "stdout",
          "text": [
            "Mounted at /content/drive\n"
          ]
        }
      ]
    }
  ]
}